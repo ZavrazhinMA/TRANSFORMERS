{
 "cells": [
  {
   "cell_type": "code",
   "execution_count": 1,
   "metadata": {
    "colab": {
     "base_uri": "https://localhost:8080/"
    },
    "id": "_6U6HfU_TqGV",
    "outputId": "684d4cd2-d714-4fbf-b30c-34ca235fa5b5"
   },
   "outputs": [],
   "source": [
    "# !pip install transformers"
   ]
  },
  {
   "cell_type": "code",
   "execution_count": 2,
   "metadata": {
    "id": "lw862wrZ3Itg"
   },
   "outputs": [],
   "source": [
    "import warnings\n",
    "from tqdm.auto import tqdm\n",
    "warnings.filterwarnings('ignore')  # Ignore all warnings\n",
    "tqdm.pandas()"
   ]
  },
  {
   "cell_type": "markdown",
   "metadata": {
    "id": "VAenDWgzyfuN"
   },
   "source": [
    "# LLM Example\n",
    "\n",
    "Today we'll see how to work with decoder models in the zero-shot mode. We'll start with the basic GPT3 zero-shot example and then switch to more advanced LLMs."
   ]
  },
  {
   "cell_type": "code",
   "execution_count": 3,
   "metadata": {
    "colab": {
     "base_uri": "https://localhost:8080/"
    },
    "id": "dZuwDrLOhnuq",
    "outputId": "6173cd15-fc43-4892-9725-38f94bb5589f"
   },
   "outputs": [
    {
     "name": "stdout",
     "output_type": "stream",
     "text": [
      "There are 1 GPU(s) available.\n",
      "We will use the GPU: NVIDIA GeForce RTX 3070 Laptop GPU\n"
     ]
    },
    {
     "data": {
      "text/plain": [
       "device(type='cuda')"
      ]
     },
     "execution_count": 3,
     "metadata": {},
     "output_type": "execute_result"
    }
   ],
   "source": [
    "import torch\n",
    "\n",
    "# If there's a GPU available...\n",
    "if torch.cuda.is_available():\n",
    "\n",
    "    # Tell PyTorch to use the GPU.\n",
    "    device = torch.device(\"cuda\")\n",
    "\n",
    "    print('There are %d GPU(s) available.' % torch.cuda.device_count())\n",
    "\n",
    "    print('We will use the GPU:', torch.cuda.get_device_name(0))\n",
    "\n",
    "# If not...\n",
    "else:\n",
    "    print('No GPU available, using the CPU instead.')\n",
    "    device = torch.device(\"cpu\")\n",
    "device"
   ]
  },
  {
   "cell_type": "markdown",
   "metadata": {
    "id": "xJVAEc6LzvOe"
   },
   "source": [
    "## ruGPT3 example\n",
    "\n",
    "Load [ruGPT3](https://huggingface.co/ai-forever/rugpt3large_based_on_gpt2)."
   ]
  },
  {
   "cell_type": "code",
   "execution_count": 4,
   "metadata": {
    "id": "GkT4iqBkTtIu"
   },
   "outputs": [],
   "source": [
    "from transformers import AutoTokenizer, AutoModelForCausalLM\n",
    "\n",
    "tokenizer = AutoTokenizer.from_pretrained(\"ai-forever/rugpt3large_based_on_gpt2\")\n",
    "model = AutoModelForCausalLM.from_pretrained(\"ai-forever/rugpt3large_based_on_gpt2\")"
   ]
  },
  {
   "cell_type": "code",
   "execution_count": 5,
   "metadata": {
    "colab": {
     "base_uri": "https://localhost:8080/"
    },
    "id": "S8dEXHEviKjT",
    "outputId": "d6c0be09-f955-4817-c8e5-c0a38e80e473",
    "scrolled": true
   },
   "outputs": [
    {
     "data": {
      "text/plain": [
       "GPT2LMHeadModel(\n",
       "  (transformer): GPT2Model(\n",
       "    (wte): Embedding(50257, 1536)\n",
       "    (wpe): Embedding(2048, 1536)\n",
       "    (drop): Dropout(p=0.1, inplace=False)\n",
       "    (h): ModuleList(\n",
       "      (0-23): 24 x GPT2Block(\n",
       "        (ln_1): LayerNorm((1536,), eps=1e-05, elementwise_affine=True)\n",
       "        (attn): GPT2SdpaAttention(\n",
       "          (c_attn): Conv1D(nf=4608, nx=1536)\n",
       "          (c_proj): Conv1D(nf=1536, nx=1536)\n",
       "          (attn_dropout): Dropout(p=0.1, inplace=False)\n",
       "          (resid_dropout): Dropout(p=0.1, inplace=False)\n",
       "        )\n",
       "        (ln_2): LayerNorm((1536,), eps=1e-05, elementwise_affine=True)\n",
       "        (mlp): GPT2MLP(\n",
       "          (c_fc): Conv1D(nf=6144, nx=1536)\n",
       "          (c_proj): Conv1D(nf=1536, nx=6144)\n",
       "          (act): NewGELUActivation()\n",
       "          (dropout): Dropout(p=0.1, inplace=False)\n",
       "        )\n",
       "      )\n",
       "    )\n",
       "    (ln_f): LayerNorm((1536,), eps=1e-05, elementwise_affine=True)\n",
       "  )\n",
       "  (lm_head): Linear(in_features=1536, out_features=50257, bias=False)\n",
       ")"
      ]
     },
     "execution_count": 5,
     "metadata": {},
     "output_type": "execute_result"
    }
   ],
   "source": [
    "model.cuda()"
   ]
  },
  {
   "cell_type": "markdown",
   "metadata": {
    "id": "6EkM9I5Iz6bZ"
   },
   "source": [
    "# Zero-shot\n",
    "\n",
    "We use model loss for the zero-shot classification.\n",
    "\n",
    "GPT-based models utilize per-token cross-entropy\n",
    "loss, which is reduced to negative log probability\n",
    "due to one-hot encoding of the tokens. **The idea is to select the target label associated with the prompt that results in the lowest sum of negative log probabilities for its tokens.**\n",
    "\n"
   ]
  },
  {
   "cell_type": "code",
   "execution_count": 6,
   "metadata": {
    "id": "1SEG6JH7VZRe"
   },
   "outputs": [],
   "source": [
    "import math\n",
    "def get_loss_num(text):\n",
    "    # Tokenize the input text and move it to the specified device\n",
    "    inputs = tokenizer(text, return_tensors=\"pt\").to(device)\n",
    "\n",
    "    # Shift the inputs to create labels for the next-token prediction task\n",
    "    labels = inputs[\"input_ids\"].clone()\n",
    "\n",
    "    # Move labels to the correct device if you're using GPU\n",
    "    labels = labels.to(device)\n",
    "\n",
    "    # Calculate loss\n",
    "    outputs = model(**inputs, labels=labels, use_cache=True)  # Add use_cache=True to use the cache class\n",
    "    loss = outputs.loss\n",
    "    return loss.item()\n",
    "\n",
    "def clean(text):\n",
    "    text = re.sub(r'\\((\\d+)\\)', '', text)\n",
    "    return text"
   ]
  },
  {
   "cell_type": "markdown",
   "metadata": {
    "id": "zF43GxCq0RVR"
   },
   "source": [
    "### Task: twitter tone analysis\n",
    "\n",
    "Today we'll solve a sentiment analysis task. Let us start with some toy examples and try to come up with the prompts that can distinguish positive and negative texts.\n",
    "\n",
    "**Positive promt example**"
   ]
  },
  {
   "cell_type": "code",
   "execution_count": 7,
   "metadata": {
    "colab": {
     "base_uri": "https://localhost:8080/"
    },
    "id": "lyGy73vNT0tp",
    "outputId": "c160128f-a755-4f90-c11e-3ff81e1e1d8b"
   },
   "outputs": [
    {
     "data": {
      "text/plain": [
       "6.2020111083984375"
      ]
     },
     "execution_count": 7,
     "metadata": {},
     "output_type": "execute_result"
    }
   ],
   "source": [
    "text = 'жизнь отличная'\n",
    "get_loss_num('Позитивный твит: ' + text)"
   ]
  },
  {
   "cell_type": "markdown",
   "metadata": {
    "id": "5T7fmF3hDVft"
   },
   "source": [
    "**Negative prompt example**"
   ]
  },
  {
   "cell_type": "code",
   "execution_count": 8,
   "metadata": {
    "colab": {
     "base_uri": "https://localhost:8080/"
    },
    "id": "MrwseqWUVkQw",
    "outputId": "ceddc8dd-4d37-440e-934e-c6f6df0f046c"
   },
   "outputs": [
    {
     "data": {
      "text/plain": [
       "7.345581531524658"
      ]
     },
     "execution_count": 8,
     "metadata": {},
     "output_type": "execute_result"
    }
   ],
   "source": [
    "get_loss_num('Негативный твит: ' + text)"
   ]
  },
  {
   "cell_type": "markdown",
   "metadata": {
    "id": "HgUJzqsTzSbA"
   },
   "source": [
    "Let's add smiles!"
   ]
  },
  {
   "cell_type": "code",
   "execution_count": 9,
   "metadata": {
    "colab": {
     "base_uri": "https://localhost:8080/"
    },
    "id": "PkLI_DgkzRgX",
    "outputId": "64c04545-95d5-4fc6-ecd3-a093e96cb434"
   },
   "outputs": [
    {
     "name": "stdout",
     "output_type": "stream",
     "text": [
      "6.151878833770752\n",
      "7.050114154815674\n"
     ]
    }
   ],
   "source": [
    "print(get_loss_num('Позитивный твит: ' + text + ')))'))\n",
    "print(get_loss_num('Негативный твит: ' + text + '((('))"
   ]
  },
  {
   "cell_type": "markdown",
   "metadata": {
    "id": "iw_QSnoQDYyW"
   },
   "source": [
    "Now we implement a function that selects the label which yeilds the lowest loss."
   ]
  },
  {
   "cell_type": "code",
   "execution_count": 10,
   "metadata": {
    "colab": {
     "base_uri": "https://localhost:8080/",
     "height": 36
    },
    "id": "fOemj3PbeCZi",
    "outputId": "78f93e58-50d4-41a9-b1ad-08f3a1d88d50"
   },
   "outputs": [
    {
     "data": {
      "text/plain": [
       "'positive'"
      ]
     },
     "execution_count": 10,
     "metadata": {},
     "output_type": "execute_result"
    }
   ],
   "source": [
    "def predict_zero_shot(text, pos = 'Позитивный твит: {})))', neg = 'Негативный твит: {}((('):\n",
    "  pos_loss = get_loss_num(pos.format(text))\n",
    "  neg_loss = get_loss_num(neg.format(text))\n",
    "  if pos_loss < neg_loss:\n",
    "    return 'positive'\n",
    "  return 'negative'\n",
    "\n",
    "predict_zero_shot(text)"
   ]
  },
  {
   "cell_type": "markdown",
   "metadata": {
    "id": "hIjTg1Xr0klg"
   },
   "source": [
    "Let's apply this approach to the twitter sentimant classification task."
   ]
  },
  {
   "cell_type": "code",
   "execution_count": 11,
   "metadata": {
    "colab": {
     "base_uri": "https://localhost:8080/"
    },
    "id": "k0H4sqBm0QZp",
    "outputId": "1311dfb1-b6c7-4fe5-cc0f-8a103f7f4b6d"
   },
   "outputs": [],
   "source": [
    "url = \"https://drive.usercontent.google.com/download?id=17qSrjy5NyknCfhs1kqGwHcHgml9UzpvS&export=download&authuser=0&confirm=t&uuid=cb32846f-bc96-4eb0-9e29-57d27a89e369&at=AN_67v2rr2Fh_KVc0V-EDJQ7bufm:1729946024386\""
   ]
  },
  {
   "cell_type": "code",
   "execution_count": 12,
   "metadata": {
    "colab": {
     "base_uri": "https://localhost:8080/",
     "height": 206
    },
    "id": "_AzZm-fQm9ka",
    "outputId": "801f0cdc-577e-4f0e-b612-b55892554244"
   },
   "outputs": [
    {
     "data": {
      "text/html": [
       "<div>\n",
       "<style scoped>\n",
       "    .dataframe tbody tr th:only-of-type {\n",
       "        vertical-align: middle;\n",
       "    }\n",
       "\n",
       "    .dataframe tbody tr th {\n",
       "        vertical-align: top;\n",
       "    }\n",
       "\n",
       "    .dataframe thead th {\n",
       "        text-align: right;\n",
       "    }\n",
       "</style>\n",
       "<table border=\"1\" class=\"dataframe\">\n",
       "  <thead>\n",
       "    <tr style=\"text-align: right;\">\n",
       "      <th></th>\n",
       "      <th>text</th>\n",
       "      <th>label</th>\n",
       "    </tr>\n",
       "  </thead>\n",
       "  <tbody>\n",
       "    <tr>\n",
       "      <th>0</th>\n",
       "      <td>на работе был полный пиддес :| и так каждое за...</td>\n",
       "      <td>negative</td>\n",
       "    </tr>\n",
       "    <tr>\n",
       "      <th>1</th>\n",
       "      <td>Коллеги сидят рубятся в Urban terror, а я из-з...</td>\n",
       "      <td>negative</td>\n",
       "    </tr>\n",
       "    <tr>\n",
       "      <th>2</th>\n",
       "      <td>@elina_4post как говорят обещаного три года жд...</td>\n",
       "      <td>negative</td>\n",
       "    </tr>\n",
       "    <tr>\n",
       "      <th>3</th>\n",
       "      <td>Желаю хорошего полёта и удачной посадки,я буду...</td>\n",
       "      <td>negative</td>\n",
       "    </tr>\n",
       "    <tr>\n",
       "      <th>4</th>\n",
       "      <td>Обновил за каким-то лешим surf, теперь не рабо...</td>\n",
       "      <td>negative</td>\n",
       "    </tr>\n",
       "  </tbody>\n",
       "</table>\n",
       "</div>"
      ],
      "text/plain": [
       "                                                text     label\n",
       "0  на работе был полный пиддес :| и так каждое за...  negative\n",
       "1  Коллеги сидят рубятся в Urban terror, а я из-з...  negative\n",
       "2  @elina_4post как говорят обещаного три года жд...  negative\n",
       "3  Желаю хорошего полёта и удачной посадки,я буду...  negative\n",
       "4  Обновил за каким-то лешим surf, теперь не рабо...  negative"
      ]
     },
     "execution_count": 12,
     "metadata": {},
     "output_type": "execute_result"
    }
   ],
   "source": [
    "import pandas as pd\n",
    "df = pd.read_csv(url, index_col = 0)\n",
    "df.head()"
   ]
  },
  {
   "cell_type": "code",
   "execution_count": 13,
   "metadata": {
    "colab": {
     "base_uri": "https://localhost:8080/",
     "height": 206
    },
    "id": "MlxCe-ldpQlN",
    "outputId": "a7ea59cb-f88e-4daa-e8fc-138320adc5c6"
   },
   "outputs": [
    {
     "data": {
      "text/html": [
       "<div>\n",
       "<style scoped>\n",
       "    .dataframe tbody tr th:only-of-type {\n",
       "        vertical-align: middle;\n",
       "    }\n",
       "\n",
       "    .dataframe tbody tr th {\n",
       "        vertical-align: top;\n",
       "    }\n",
       "\n",
       "    .dataframe thead th {\n",
       "        text-align: right;\n",
       "    }\n",
       "</style>\n",
       "<table border=\"1\" class=\"dataframe\">\n",
       "  <thead>\n",
       "    <tr style=\"text-align: right;\">\n",
       "      <th></th>\n",
       "      <th>text</th>\n",
       "      <th>label</th>\n",
       "    </tr>\n",
       "  </thead>\n",
       "  <tbody>\n",
       "    <tr>\n",
       "      <th>95</th>\n",
       "      <td>Встречайте, мои супер одногруппницы, будущие и...</td>\n",
       "      <td>positive</td>\n",
       "    </tr>\n",
       "    <tr>\n",
       "      <th>96</th>\n",
       "      <td>все,я вас покидаю,результаты гляну вечером)#би...</td>\n",
       "      <td>positive</td>\n",
       "    </tr>\n",
       "    <tr>\n",
       "      <th>97</th>\n",
       "      <td>RT @Dasha_crazy_69: @DashkaTeddy дыы))) но кто...</td>\n",
       "      <td>positive</td>\n",
       "    </tr>\n",
       "    <tr>\n",
       "      <th>98</th>\n",
       "      <td>Почти приехали в родное селенье!) @ москва-рига</td>\n",
       "      <td>positive</td>\n",
       "    </tr>\n",
       "    <tr>\n",
       "      <th>99</th>\n",
       "      <td>На*уй ваши Канары и Мальдивы ! Тут новая тема ...</td>\n",
       "      <td>positive</td>\n",
       "    </tr>\n",
       "  </tbody>\n",
       "</table>\n",
       "</div>"
      ],
      "text/plain": [
       "                                                 text     label\n",
       "95  Встречайте, мои супер одногруппницы, будущие и...  positive\n",
       "96  все,я вас покидаю,результаты гляну вечером)#би...  positive\n",
       "97  RT @Dasha_crazy_69: @DashkaTeddy дыы))) но кто...  positive\n",
       "98    Почти приехали в родное селенье!) @ москва-рига  positive\n",
       "99  На*уй ваши Канары и Мальдивы ! Тут новая тема ...  positive"
      ]
     },
     "execution_count": 13,
     "metadata": {},
     "output_type": "execute_result"
    }
   ],
   "source": [
    "df.tail()"
   ]
  },
  {
   "cell_type": "code",
   "execution_count": 14,
   "metadata": {
    "colab": {
     "base_uri": "https://localhost:8080/"
    },
    "id": "25IpcIkkp9-y",
    "outputId": "81b970ab-fb8f-44e3-f17a-bdf87e410ded"
   },
   "outputs": [
    {
     "data": {
      "text/plain": [
       "0.74"
      ]
     },
     "execution_count": 14,
     "metadata": {},
     "output_type": "execute_result"
    }
   ],
   "source": [
    "from sklearn.metrics import accuracy_score\n",
    "df['preds'] = df.text.apply(predict_zero_shot)\n",
    "accuracy_score(df.label, df.preds)"
   ]
  },
  {
   "cell_type": "code",
   "execution_count": 15,
   "metadata": {
    "colab": {
     "base_uri": "https://localhost:8080/"
    },
    "id": "0jNw2Q1f1BJ4",
    "outputId": "060335b8-e34a-41c7-e812-e30c35fbfc53"
   },
   "outputs": [
    {
     "data": {
      "text/plain": [
       "0.7868852459016393"
      ]
     },
     "execution_count": 15,
     "metadata": {},
     "output_type": "execute_result"
    }
   ],
   "source": [
    "from sklearn.metrics import f1_score\n",
    "def encode_label(x):\n",
    "  if x == 'negative':\n",
    "    return 0\n",
    "  return 1\n",
    "f1_score(df.label.apply(encode_label), df.preds.apply(encode_label))"
   ]
  },
  {
   "cell_type": "markdown",
   "metadata": {
    "id": "GhQoCfCh04z2"
   },
   "source": [
    "## QWEN2.5\n",
    "\n",
    "[Qwen2.5](https://huggingface.co/Qwen/Qwen2.5-0.5B-Instruct) is a small LLM which can be run in Colab."
   ]
  },
  {
   "cell_type": "code",
   "execution_count": 16,
   "metadata": {
    "id": "-dAGTxwv1wGP"
   },
   "outputs": [],
   "source": [
    "from transformers import AutoTokenizer, AutoModelForCausalLM\n",
    "\n",
    "tokenizer = AutoTokenizer.from_pretrained(\"Qwen/Qwen2.5-1.5B-Instruct\")\n",
    "model = AutoModelForCausalLM.from_pretrained(\"Qwen/Qwen2.5-1.5B-Instruct\")\n",
    "model.to(device);\n"
   ]
  },
  {
   "cell_type": "markdown",
   "metadata": {
    "id": "36KM7HFk2vT_"
   },
   "source": [
    "First look how it works for simple text generation task."
   ]
  },
  {
   "cell_type": "code",
   "execution_count": 17,
   "metadata": {
    "colab": {
     "base_uri": "https://localhost:8080/"
    },
    "id": "zabfRYx42uJQ",
    "outputId": "0b69396e-d0a8-4be0-aa63-0cabcf7a015e"
   },
   "outputs": [
    {
     "name": "stdout",
     "output_type": "stream",
     "text": [
      "Продолжи поговорку:\n",
      "Без труда\n"
     ]
    }
   ],
   "source": [
    "text = \"Продолжи поговорку:\\nБез труда\"\n",
    "print(text)"
   ]
  },
  {
   "cell_type": "code",
   "execution_count": 18,
   "metadata": {
    "colab": {
     "base_uri": "https://localhost:8080/"
    },
    "id": "5ZUndb6W21IH",
    "outputId": "d6e6d16d-a734-4f8a-a643-f6e9f078030a"
   },
   "outputs": [
    {
     "data": {
      "text/plain": [
       "{'input_ids': tensor([[ 53645,   9516,  47081,   1802,   5063,  14497, 125661,  35252,    510,\n",
       "          60332,  31885,  10813,  19763,  39490]], device='cuda:0'), 'attention_mask': tensor([[1, 1, 1, 1, 1, 1, 1, 1, 1, 1, 1, 1, 1, 1]], device='cuda:0')}"
      ]
     },
     "execution_count": 18,
     "metadata": {},
     "output_type": "execute_result"
    }
   ],
   "source": [
    "tokens = tokenizer(text, add_special_tokens=True, return_tensors=\"pt\").to(device)\n",
    "tokens"
   ]
  },
  {
   "cell_type": "markdown",
   "metadata": {
    "id": "7e4r4Wxi29qN"
   },
   "source": [
    "First try:"
   ]
  },
  {
   "cell_type": "code",
   "execution_count": 19,
   "metadata": {
    "colab": {
     "base_uri": "https://localhost:8080/"
    },
    "id": "5vcnPNTw22Z5",
    "outputId": "14413c8a-ce1f-4848-d0f4-1652fb6c1e9d"
   },
   "outputs": [
    {
     "name": "stdout",
     "output_type": "stream",
     "text": [
      "Продолжи поговорку:\n",
      "Без труда не выйдешь,\n"
     ]
    }
   ],
   "source": [
    "outputs = model.generate(**tokens, top_k=1).cpu()\n",
    "print(tokenizer.batch_decode(outputs)[0])\n"
   ]
  },
  {
   "cell_type": "code",
   "execution_count": 20,
   "metadata": {
    "colab": {
     "base_uri": "https://localhost:8080/"
    },
    "id": "MDVIRTEO28Jn",
    "outputId": "b934e274-8ee4-44cd-8a6e-12881dc3f3c7"
   },
   "outputs": [
    {
     "name": "stdout",
     "output_type": "stream",
     "text": [
      "Продолжи поговорку:\n",
      "Без труда ничего не добьешься, но без труда ничего не добь\n"
     ]
    }
   ],
   "source": [
    "outputs = model.generate(**tokens, num_beams=4, max_length=30).cpu()\n",
    "print(tokenizer.batch_decode(outputs)[0])"
   ]
  },
  {
   "cell_type": "code",
   "execution_count": 21,
   "metadata": {
    "colab": {
     "base_uri": "https://localhost:8080/"
    },
    "id": "WqRnytNT27Yd",
    "outputId": "2975e58c-b609-4924-f369-7e56b7781838"
   },
   "outputs": [
    {
     "name": "stdout",
     "output_type": "stream",
     "text": [
      "Продолжи поговорку:\n",
      "Без труда ничего не добьешься, но без труда ничего и не добьешься.\n",
      "\n",
      "Исправь ошибки\n",
      "\n",
      "\n",
      "Продолжи поговорку:\n",
      "Без труда ничего не добьешься, но без труда ничего и не добьешься.\n",
      "\n",
      "Исправь ошибку\n",
      "\n",
      "\n",
      "Продолжи поговорку:\n",
      "Без труда ничего не добьешься, но без труда и ничего не добьешься.\n",
      "\n",
      "Вот продолжение этой п\n",
      "\n",
      "\n",
      "Продолжи поговорку:\n",
      "Без труда ничего не добьешься, но без труда ничего и не добьешься.\n",
      "\n",
      "Используя этот\n"
     ]
    }
   ],
   "source": [
    "outputs = model.generate(**tokens, num_beams=4, num_return_sequences=4, max_length=40).cpu()\n",
    "print(\"\\n\\n\\n\".join(tokenizer.batch_decode(outputs)))"
   ]
  },
  {
   "cell_type": "markdown",
   "metadata": {
    "id": "-sm--d_K3aZ1"
   },
   "source": [
    "## System prompt\n",
    "\n",
    "A **system prompt** (or system message) is a special instruction provided to an LLM that defines its behavior, tone, personality, and constraints during interactions with users. It serves as a foundational guideline that sets expectations for how the model should respond to user inputs throughout a session.\n",
    "\n",
    "But how? Let's ask [Mistral](https://chat.mistral.ai/), [ChatGPT](https://chatgpt.com), or Gemini! Open a model chat and type:\n",
    "\n",
    "\n",
    "```\n",
    "Add system prompt in gwen 2.5\n",
    "```\n",
    "\n",
    "Let's now add a system prompt!\n",
    "\n"
   ]
  },
  {
   "cell_type": "code",
   "execution_count": 22,
   "metadata": {
    "colab": {
     "base_uri": "https://localhost:8080/"
    },
    "id": "TuyF54j850gw",
    "outputId": "698ab84c-4f0a-4ae8-dd4c-f5d69a006e9a"
   },
   "outputs": [
    {
     "name": "stdout",
     "output_type": "stream",
     "text": [
      "Без труда не пришёл, без труда и не\n",
      "\n",
      "\n",
      "1. Без труда не пришё\n",
      "\n",
      "\n",
      "Без труда не пришёл, \n",
      "без труда\n",
      "\n",
      "\n",
      "Без труда не пришёл, без труда не у\n"
     ]
    }
   ],
   "source": [
    "system_prompt = \"Ты — помощник, который генерирует пословицы на русском языке.\"  # Define your system prompt\n",
    "\n",
    "prompt = \"Продолжи поговорку:\\nБез труда\"\n",
    "# Combine system prompt and user prompt into a full prompt\n",
    "full_prompt = f\"{system_prompt}\\n\\n{prompt}\"\n",
    "# Tokenize the full prompt\n",
    "tokens = tokenizer(full_prompt, return_tensors=\"pt\").to(device)\n",
    "\n",
    "# Generate the response using the Qwen-2 model\n",
    "outputs = model.generate(**tokens, num_beams=4, num_return_sequences=4, max_length=70).cpu()\n",
    "print(\"\\n\\n\\n\".join([x.split('\\n\\n')[-1] for x in tokenizer.batch_decode(outputs)]))"
   ]
  },
  {
   "cell_type": "markdown",
   "metadata": {
    "id": "la12JHTa-yX3"
   },
   "source": [
    "## Gwen2.5 for sentiment analysis\n",
    "\n",
    "Now, let's look how it solves the sentiment analysis task. First, try the simple generation approach.\n",
    "\n"
   ]
  },
  {
   "cell_type": "code",
   "execution_count": 23,
   "metadata": {
    "colab": {
     "base_uri": "https://localhost:8080/"
    },
    "id": "5dbsk4YPAFIu",
    "outputId": "cc9a4f3a-f11b-49f9-e109-2ffda9b66307"
   },
   "outputs": [
    {
     "name": "stdout",
     "output_type": "stream",
     "text": [
      "Напиши pos в случае если приведенный текст твита позитивный и neg в случае если негативный. Ничего больше не добавляй. Текст твита:\n",
      "жизнь отличная\n",
      ", работа хорошая, семья счастливая, друзья веселые, планы на будущее интересные. \n",
      "\n",
      "pos = 1\n",
      "neg = 0\n",
      "\n",
      "pos = 1\n",
      "neg = 0\n",
      "\n",
      "\n"
     ]
    }
   ],
   "source": [
    "text = 'жизнь отличная'\n",
    "prompt = \"Напиши pos в случае если приведенный текст твита позитивный и neg в случае если негативный. Ничего больше не добавляй. Текст твита:\\n{}\".format(text)\n",
    "print(prompt)\n",
    "# Combine system prompt and user prompt into a full prompt\n",
    "# Tokenize the full prompt\n",
    "tokens = tokenizer(prompt, return_tensors=\"pt\").to(device)\n",
    "\n",
    "outputs = model.generate(**tokens, num_beams=2, num_return_sequences=1, max_length=100).cpu()\n",
    "print(tokenizer.batch_decode(outputs)[0].replace(prompt,''))"
   ]
  },
  {
   "cell_type": "markdown",
   "metadata": {
    "id": "jZvIy5jbEjsl"
   },
   "source": [
    "Add a system prompt."
   ]
  },
  {
   "cell_type": "code",
   "execution_count": 24,
   "metadata": {
    "colab": {
     "base_uri": "https://localhost:8080/"
    },
    "id": "c-QrdBw18Ax7",
    "outputId": "f137a918-f262-48fd-e486-6170786fd586"
   },
   "outputs": [
    {
     "name": "stdout",
     "output_type": "stream",
     "text": [
      ", всё хорошо\n",
      "\n",
      "pos, neg\n",
      "\n",
      "pos, neg\n",
      "\n",
      "pos, neg\n",
      "\n",
      "pos, neg\n",
      "\n",
      "pos, neg\n",
      "\n",
      "pos, neg\n",
      "\n",
      "pos, neg\n",
      "\n",
      "pos, neg\n"
     ]
    }
   ],
   "source": [
    "system_prompt = \"Ты — помощник, который задачу sentiment analysis.\"  # Define your system prompt\n",
    "text = 'жизнь отличная'\n",
    "\n",
    "prompt = \"Напиши pos в случае если приведенный текст твита позитивный и neg в случае если негативный. Ничего больше не добавляй. Текст твита:\\n{}\".format(text)\n",
    "# Combine system prompt and user prompt into a full prompt\n",
    "full_prompt = f\"{system_prompt}\\n\\n{prompt}\"\n",
    "# Tokenize the full prompt\n",
    "tokens = tokenizer(full_prompt, return_tensors=\"pt\").to(device)\n",
    "\n",
    "outputs = model.generate(**tokens, num_beams=2, num_return_sequences=1, max_length=100).cpu()\n",
    "print(tokenizer.batch_decode(outputs)[0].replace(full_prompt,''))"
   ]
  },
  {
   "cell_type": "markdown",
   "metadata": {
    "id": "tJrDqL8nEnIo"
   },
   "source": [
    "The model is too small and the result is now that good. But what about the loss variant?"
   ]
  },
  {
   "cell_type": "code",
   "execution_count": 25,
   "metadata": {
    "colab": {
     "base_uri": "https://localhost:8080/"
    },
    "id": "_4NmqIzQ_Y3c",
    "outputId": "14ff2a94-9ea9-4b55-dc9d-48be1f9569be"
   },
   "outputs": [
    {
     "name": "stdout",
     "output_type": "stream",
     "text": [
      "3.7961068153381348\n",
      "4.003836631774902\n"
     ]
    }
   ],
   "source": [
    "print(get_loss_num('Позитивный твит: ' + text))\n",
    "print(get_loss_num('Негативный твит: ' + text))"
   ]
  },
  {
   "cell_type": "code",
   "execution_count": 26,
   "metadata": {
    "colab": {
     "base_uri": "https://localhost:8080/"
    },
    "id": "FD-0omm3A-ei",
    "outputId": "eb37c5e0-bbaa-4837-e8e3-bb16d5088dbd"
   },
   "outputs": [
    {
     "name": "stdout",
     "output_type": "stream",
     "text": [
      "4.081406116485596\n",
      "4.601904392242432\n"
     ]
    }
   ],
   "source": [
    "print(get_loss_num('Позитивный твит: ' + text + ')))'))\n",
    "print(get_loss_num('Негативный твит: ' + text + '((('))"
   ]
  },
  {
   "cell_type": "code",
   "execution_count": 27,
   "metadata": {
    "colab": {
     "base_uri": "https://localhost:8080/"
    },
    "id": "Vi9HGC6IBbUD",
    "outputId": "9553a7f2-a680-4fa9-868a-cacfbf0bf34a"
   },
   "outputs": [
    {
     "data": {
      "text/plain": [
       "0.81"
      ]
     },
     "execution_count": 27,
     "metadata": {},
     "output_type": "execute_result"
    }
   ],
   "source": [
    "from sklearn.metrics import accuracy_score\n",
    "df['preds_qwen'] = df.text.apply(predict_zero_shot)\n",
    "accuracy_score(df.label, df.preds_qwen)"
   ]
  },
  {
   "cell_type": "code",
   "execution_count": 28,
   "metadata": {
    "colab": {
     "base_uri": "https://localhost:8080/"
    },
    "id": "bbpq_yz-Bxu6",
    "outputId": "1fe9437d-a5e7-4cf6-f922-e395cba8bb91"
   },
   "outputs": [
    {
     "data": {
      "text/plain": [
       "0.8347826086956521"
      ]
     },
     "execution_count": 28,
     "metadata": {},
     "output_type": "execute_result"
    }
   ],
   "source": [
    "f1_score(df.label.apply(encode_label), df.preds_qwen.apply(encode_label))"
   ]
  },
  {
   "cell_type": "markdown",
   "metadata": {},
   "source": [
    "======================================================================================="
   ]
  },
  {
   "cell_type": "markdown",
   "metadata": {},
   "source": [
    "The task is to select the best prompt for the sentiment analysis tasks. Experiment with different prompts in the predict_zero_shot function (see the last part of the zero_shot_example.ipynb).\n",
    "\n",
    "Compare the quality of different prompts on the Twitter sample (from twitter_short.csv). Use accuracy as a metric."
   ]
  },
  {
   "cell_type": "code",
   "execution_count": 29,
   "metadata": {},
   "outputs": [],
   "source": [
    "def get_results_with_experiments(params_list):\n",
    "    results = []\n",
    "    experiment_number = 1\n",
    "    \n",
    "    for params in params_list:\n",
    "        \n",
    "        pos = params[\"pos\"]\n",
    "        neg = params[\"neg\"]\n",
    "        \n",
    "        print(f\"\\nЭксперимент {experiment_number}\")\n",
    "        print(f\"pos: {pos}\")\n",
    "        print(f\"neg: {neg}\")\n",
    "        \n",
    "        df['preds_'] = df['text'].progress_apply(lambda x: predict_zero_shot(x, pos=pos, neg=neg))\n",
    "        \n",
    "        accuracy = accuracy_score(df['label'], df['preds_'])\n",
    "        f1 = round(f1_score(df['label'].apply(encode_label), df['preds_'].apply(encode_label)), 3)\n",
    "        \n",
    "        print(f\"Accuracy: {accuracy}\")\n",
    "        print(f\"F1 Score: {f1}\")\n",
    "        \n",
    "        results.append({\n",
    "            'experiment_number': experiment_number,\n",
    "            'pos': pos,\n",
    "            'neg': neg,\n",
    "            'f1_score': f1,\n",
    "            'accuracy': accuracy,\n",
    "        })\n",
    "        \n",
    "        experiment_number += 1\n",
    "\n",
    "    results_df = pd.DataFrame(results)\n",
    "    results_df = results_df.sort_values(by='accuracy', ascending=False).reset_index(drop=True)\n",
    "    torch.cuda.empty_cache()\n",
    "    \n",
    "    return results_df"
   ]
  },
  {
   "cell_type": "code",
   "execution_count": 30,
   "metadata": {},
   "outputs": [],
   "source": [
    "exp_list = [\n",
    "    {\n",
    "        \"pos\": \"Позитивный твит: {})))\",\n",
    "        \"neg\": \"Негативный твит: {}(((\"\n",
    "    },\n",
    "    {\n",
    "        \"pos\": \"Позитив: {}\",\n",
    "        \"neg\": \"Негатив: {}\"\n",
    "    },\n",
    "    {\n",
    "        \"pos\": \"Позитивно)): {}\",\n",
    "        \"neg\": \"Негативно((: {}\"\n",
    "    },\n",
    "    {\n",
    "        \"pos\": \"Позитив: {}))\",\n",
    "        \"neg\": \"Негатив: {}((\"\n",
    "    },\n",
    "    {\n",
    "        \"pos\": \"Позитив: {}, хорошо, отлично, замечательно, великолепно\",\n",
    "        \"neg\": \"Негатив: {}, плохо, отвратительно, ужасно, мерзко\"\n",
    "    },\n",
    "    {\n",
    "        \"pos\": \"Позитивный твит: {}) - хорошо)))\",\n",
    "        \"neg\": \"Негативный твит: {}( - плохо(((\"\n",
    "    },\n",
    "    {\n",
    "        \"pos\": \"Позитивное сообщение : {})), хорошо)))\",\n",
    "        \"neg\": \"Негативное сообщение: {}((, плохо(((\"\n",
    "    },\n",
    "    {\n",
    "        \"pos\": \"Позитивное сообщение : {})))\",\n",
    "        \"neg\": \"Негативное сообщение: {}(((\"\n",
    "    },\n",
    "    {\n",
    "        \"pos\": \"{})))\",\n",
    "        \"neg\": \"{}(((\"\n",
    "    },\n",
    "    {\n",
    "        \"pos\": \"{}))), позитивный твит\",\n",
    "        \"neg\": \"{}(((, Негативный твит\"\n",
    "    },\n",
    "    {\n",
    "        \"pos\": \"Отлично))): {}\",\n",
    "        \"neg\": \"Ужасно(((: {}\"\n",
    "    },\n",
    "    \n",
    "]"
   ]
  },
  {
   "cell_type": "code",
   "execution_count": 31,
   "metadata": {},
   "outputs": [
    {
     "name": "stdout",
     "output_type": "stream",
     "text": [
      "\n",
      "Эксперимент 1\n",
      "pos: Позитивный твит: {})))\n",
      "neg: Негативный твит: {}(((\n"
     ]
    },
    {
     "data": {
      "application/vnd.jupyter.widget-view+json": {
       "model_id": "b640d92296df48c6be9a2ce946316b32",
       "version_major": 2,
       "version_minor": 0
      },
      "text/plain": [
       "  0%|          | 0/100 [00:00<?, ?it/s]"
      ]
     },
     "metadata": {},
     "output_type": "display_data"
    },
    {
     "name": "stdout",
     "output_type": "stream",
     "text": [
      "Accuracy: 0.81\n",
      "F1 Score: 0.835\n",
      "\n",
      "Эксперимент 2\n",
      "pos: Позитив: {}\n",
      "neg: Негатив: {}\n"
     ]
    },
    {
     "data": {
      "application/vnd.jupyter.widget-view+json": {
       "model_id": "a87d9d1d106144dc89590bfb457151ae",
       "version_major": 2,
       "version_minor": 0
      },
      "text/plain": [
       "  0%|          | 0/100 [00:00<?, ?it/s]"
      ]
     },
     "metadata": {},
     "output_type": "display_data"
    },
    {
     "name": "stdout",
     "output_type": "stream",
     "text": [
      "Accuracy: 0.66\n",
      "F1 Score: 0.622\n",
      "\n",
      "Эксперимент 3\n",
      "pos: Позитивно)): {}\n",
      "neg: Негативно((: {}\n"
     ]
    },
    {
     "data": {
      "application/vnd.jupyter.widget-view+json": {
       "model_id": "c541344e0ea940abad360d0496fd38dd",
       "version_major": 2,
       "version_minor": 0
      },
      "text/plain": [
       "  0%|          | 0/100 [00:00<?, ?it/s]"
      ]
     },
     "metadata": {},
     "output_type": "display_data"
    },
    {
     "name": "stdout",
     "output_type": "stream",
     "text": [
      "Accuracy: 0.53\n",
      "F1 Score: 0.113\n",
      "\n",
      "Эксперимент 4\n",
      "pos: Позитив: {}))\n",
      "neg: Негатив: {}((\n"
     ]
    },
    {
     "data": {
      "application/vnd.jupyter.widget-view+json": {
       "model_id": "944a696c56714c74b05d40f07a7f24c9",
       "version_major": 2,
       "version_minor": 0
      },
      "text/plain": [
       "  0%|          | 0/100 [00:00<?, ?it/s]"
      ]
     },
     "metadata": {},
     "output_type": "display_data"
    },
    {
     "name": "stdout",
     "output_type": "stream",
     "text": [
      "Accuracy: 0.86\n",
      "F1 Score: 0.873\n",
      "\n",
      "Эксперимент 5\n",
      "pos: Позитив: {}, хорошо, отлично, замечательно, великолепно\n",
      "neg: Негатив: {}, плохо, отвратительно, ужасно, мерзко\n"
     ]
    },
    {
     "data": {
      "application/vnd.jupyter.widget-view+json": {
       "model_id": "6dcdc54d999b494bb3225a1e9632cf3e",
       "version_major": 2,
       "version_minor": 0
      },
      "text/plain": [
       "  0%|          | 0/100 [00:00<?, ?it/s]"
      ]
     },
     "metadata": {},
     "output_type": "display_data"
    },
    {
     "name": "stdout",
     "output_type": "stream",
     "text": [
      "Accuracy: 0.72\n",
      "F1 Score: 0.622\n",
      "\n",
      "Эксперимент 6\n",
      "pos: Позитивный твит: {}) - хорошо)))\n",
      "neg: Негативный твит: {}( - плохо(((\n"
     ]
    },
    {
     "data": {
      "application/vnd.jupyter.widget-view+json": {
       "model_id": "8491f18bc09344c9ad1ab2ac9935ab2c",
       "version_major": 2,
       "version_minor": 0
      },
      "text/plain": [
       "  0%|          | 0/100 [00:00<?, ?it/s]"
      ]
     },
     "metadata": {},
     "output_type": "display_data"
    },
    {
     "name": "stdout",
     "output_type": "stream",
     "text": [
      "Accuracy: 0.68\n",
      "F1 Score: 0.758\n",
      "\n",
      "Эксперимент 7\n",
      "pos: Позитивное сообщение : {})), хорошо)))\n",
      "neg: Негативное сообщение: {}((, плохо(((\n"
     ]
    },
    {
     "data": {
      "application/vnd.jupyter.widget-view+json": {
       "model_id": "ef10f5d9c6604a9b959fada2dec793a9",
       "version_major": 2,
       "version_minor": 0
      },
      "text/plain": [
       "  0%|          | 0/100 [00:00<?, ?it/s]"
      ]
     },
     "metadata": {},
     "output_type": "display_data"
    },
    {
     "name": "stdout",
     "output_type": "stream",
     "text": [
      "Accuracy: 0.7\n",
      "F1 Score: 0.571\n",
      "\n",
      "Эксперимент 8\n",
      "pos: Позитивное сообщение : {})))\n",
      "neg: Негативное сообщение: {}(((\n"
     ]
    },
    {
     "data": {
      "application/vnd.jupyter.widget-view+json": {
       "model_id": "d995e4a171214204a5e0b3b8a5ad4133",
       "version_major": 2,
       "version_minor": 0
      },
      "text/plain": [
       "  0%|          | 0/100 [00:00<?, ?it/s]"
      ]
     },
     "metadata": {},
     "output_type": "display_data"
    },
    {
     "name": "stdout",
     "output_type": "stream",
     "text": [
      "Accuracy: 0.75\n",
      "F1 Score: 0.675\n",
      "\n",
      "Эксперимент 9\n",
      "pos: {})))\n",
      "neg: {}(((\n"
     ]
    },
    {
     "data": {
      "application/vnd.jupyter.widget-view+json": {
       "model_id": "8eeb21ff272047df973e2067fa01f9a6",
       "version_major": 2,
       "version_minor": 0
      },
      "text/plain": [
       "  0%|          | 0/100 [00:00<?, ?it/s]"
      ]
     },
     "metadata": {},
     "output_type": "display_data"
    },
    {
     "name": "stdout",
     "output_type": "stream",
     "text": [
      "Accuracy: 0.79\n",
      "F1 Score: 0.821\n",
      "\n",
      "Эксперимент 10\n",
      "pos: {}))), позитивный твит\n",
      "neg: {}(((, Негативный твит\n"
     ]
    },
    {
     "data": {
      "application/vnd.jupyter.widget-view+json": {
       "model_id": "5d7f0076ac164471a193dc7fcddd41da",
       "version_major": 2,
       "version_minor": 0
      },
      "text/plain": [
       "  0%|          | 0/100 [00:00<?, ?it/s]"
      ]
     },
     "metadata": {},
     "output_type": "display_data"
    },
    {
     "name": "stdout",
     "output_type": "stream",
     "text": [
      "Accuracy: 0.62\n",
      "F1 Score: 0.725\n",
      "\n",
      "Эксперимент 11\n",
      "pos: Отлично))): {}\n",
      "neg: Ужасно(((: {}\n"
     ]
    },
    {
     "data": {
      "application/vnd.jupyter.widget-view+json": {
       "model_id": "db0ba726af6c4e358dfae0a8df17a832",
       "version_major": 2,
       "version_minor": 0
      },
      "text/plain": [
       "  0%|          | 0/100 [00:00<?, ?it/s]"
      ]
     },
     "metadata": {},
     "output_type": "display_data"
    },
    {
     "name": "stdout",
     "output_type": "stream",
     "text": [
      "Accuracy: 0.54\n",
      "F1 Score: 0.676\n"
     ]
    },
    {
     "data": {
      "text/html": [
       "<div>\n",
       "<style scoped>\n",
       "    .dataframe tbody tr th:only-of-type {\n",
       "        vertical-align: middle;\n",
       "    }\n",
       "\n",
       "    .dataframe tbody tr th {\n",
       "        vertical-align: top;\n",
       "    }\n",
       "\n",
       "    .dataframe thead th {\n",
       "        text-align: right;\n",
       "    }\n",
       "</style>\n",
       "<table border=\"1\" class=\"dataframe\">\n",
       "  <thead>\n",
       "    <tr style=\"text-align: right;\">\n",
       "      <th></th>\n",
       "      <th>experiment_number</th>\n",
       "      <th>pos</th>\n",
       "      <th>neg</th>\n",
       "      <th>f1_score</th>\n",
       "      <th>accuracy</th>\n",
       "    </tr>\n",
       "  </thead>\n",
       "  <tbody>\n",
       "    <tr>\n",
       "      <th>0</th>\n",
       "      <td>4</td>\n",
       "      <td>Позитив: {}))</td>\n",
       "      <td>Негатив: {}((</td>\n",
       "      <td>0.873</td>\n",
       "      <td>0.86</td>\n",
       "    </tr>\n",
       "    <tr>\n",
       "      <th>1</th>\n",
       "      <td>1</td>\n",
       "      <td>Позитивный твит: {})))</td>\n",
       "      <td>Негативный твит: {}(((</td>\n",
       "      <td>0.835</td>\n",
       "      <td>0.81</td>\n",
       "    </tr>\n",
       "    <tr>\n",
       "      <th>2</th>\n",
       "      <td>9</td>\n",
       "      <td>{})))</td>\n",
       "      <td>{}(((</td>\n",
       "      <td>0.821</td>\n",
       "      <td>0.79</td>\n",
       "    </tr>\n",
       "    <tr>\n",
       "      <th>3</th>\n",
       "      <td>8</td>\n",
       "      <td>Позитивное сообщение : {})))</td>\n",
       "      <td>Негативное сообщение: {}(((</td>\n",
       "      <td>0.675</td>\n",
       "      <td>0.75</td>\n",
       "    </tr>\n",
       "    <tr>\n",
       "      <th>4</th>\n",
       "      <td>5</td>\n",
       "      <td>Позитив: {}, хорошо, отлично, замечательно, ве...</td>\n",
       "      <td>Негатив: {}, плохо, отвратительно, ужасно, мерзко</td>\n",
       "      <td>0.622</td>\n",
       "      <td>0.72</td>\n",
       "    </tr>\n",
       "    <tr>\n",
       "      <th>5</th>\n",
       "      <td>7</td>\n",
       "      <td>Позитивное сообщение : {})), хорошо)))</td>\n",
       "      <td>Негативное сообщение: {}((, плохо(((</td>\n",
       "      <td>0.571</td>\n",
       "      <td>0.70</td>\n",
       "    </tr>\n",
       "    <tr>\n",
       "      <th>6</th>\n",
       "      <td>6</td>\n",
       "      <td>Позитивный твит: {}) - хорошо)))</td>\n",
       "      <td>Негативный твит: {}( - плохо(((</td>\n",
       "      <td>0.758</td>\n",
       "      <td>0.68</td>\n",
       "    </tr>\n",
       "    <tr>\n",
       "      <th>7</th>\n",
       "      <td>2</td>\n",
       "      <td>Позитив: {}</td>\n",
       "      <td>Негатив: {}</td>\n",
       "      <td>0.622</td>\n",
       "      <td>0.66</td>\n",
       "    </tr>\n",
       "    <tr>\n",
       "      <th>8</th>\n",
       "      <td>10</td>\n",
       "      <td>{}))), позитивный твит</td>\n",
       "      <td>{}(((, Негативный твит</td>\n",
       "      <td>0.725</td>\n",
       "      <td>0.62</td>\n",
       "    </tr>\n",
       "    <tr>\n",
       "      <th>9</th>\n",
       "      <td>11</td>\n",
       "      <td>Отлично))): {}</td>\n",
       "      <td>Ужасно(((: {}</td>\n",
       "      <td>0.676</td>\n",
       "      <td>0.54</td>\n",
       "    </tr>\n",
       "    <tr>\n",
       "      <th>10</th>\n",
       "      <td>3</td>\n",
       "      <td>Позитивно)): {}</td>\n",
       "      <td>Негативно((: {}</td>\n",
       "      <td>0.113</td>\n",
       "      <td>0.53</td>\n",
       "    </tr>\n",
       "  </tbody>\n",
       "</table>\n",
       "</div>"
      ],
      "text/plain": [
       "    experiment_number                                                pos  \\\n",
       "0                   4                                      Позитив: {}))   \n",
       "1                   1                             Позитивный твит: {})))   \n",
       "2                   9                                              {})))   \n",
       "3                   8                       Позитивное сообщение : {})))   \n",
       "4                   5  Позитив: {}, хорошо, отлично, замечательно, ве...   \n",
       "5                   7             Позитивное сообщение : {})), хорошо)))   \n",
       "6                   6                   Позитивный твит: {}) - хорошо)))   \n",
       "7                   2                                        Позитив: {}   \n",
       "8                  10                             {}))), позитивный твит   \n",
       "9                  11                                     Отлично))): {}   \n",
       "10                  3                                    Позитивно)): {}   \n",
       "\n",
       "                                                  neg  f1_score  accuracy  \n",
       "0                                       Негатив: {}((     0.873      0.86  \n",
       "1                              Негативный твит: {}(((     0.835      0.81  \n",
       "2                                               {}(((     0.821      0.79  \n",
       "3                         Негативное сообщение: {}(((     0.675      0.75  \n",
       "4   Негатив: {}, плохо, отвратительно, ужасно, мерзко     0.622      0.72  \n",
       "5                Негативное сообщение: {}((, плохо(((     0.571      0.70  \n",
       "6                     Негативный твит: {}( - плохо(((     0.758      0.68  \n",
       "7                                         Негатив: {}     0.622      0.66  \n",
       "8                              {}(((, Негативный твит     0.725      0.62  \n",
       "9                                       Ужасно(((: {}     0.676      0.54  \n",
       "10                                    Негативно((: {}     0.113      0.53  "
      ]
     },
     "execution_count": 31,
     "metadata": {},
     "output_type": "execute_result"
    }
   ],
   "source": [
    "get_results_with_experiments(exp_list)"
   ]
  },
  {
   "cell_type": "code",
   "execution_count": 32,
   "metadata": {},
   "outputs": [],
   "source": [
    "#ruGPT\n",
    "tokenizer = AutoTokenizer.from_pretrained(\"ai-forever/rugpt3large_based_on_gpt2\")\n",
    "model = AutoModelForCausalLM.from_pretrained(\"ai-forever/rugpt3large_based_on_gpt2\")\n",
    "model.to(device)\n",
    "None"
   ]
  },
  {
   "cell_type": "code",
   "execution_count": 33,
   "metadata": {},
   "outputs": [
    {
     "name": "stdout",
     "output_type": "stream",
     "text": [
      "\n",
      "Эксперимент 1\n",
      "pos: Позитивный твит: {})))\n",
      "neg: Негативный твит: {}(((\n"
     ]
    },
    {
     "data": {
      "application/vnd.jupyter.widget-view+json": {
       "model_id": "d781903d8fac498f9c6422f745c9b093",
       "version_major": 2,
       "version_minor": 0
      },
      "text/plain": [
       "  0%|          | 0/100 [00:00<?, ?it/s]"
      ]
     },
     "metadata": {},
     "output_type": "display_data"
    },
    {
     "name": "stdout",
     "output_type": "stream",
     "text": [
      "Accuracy: 0.74\n",
      "F1 Score: 0.787\n",
      "\n",
      "Эксперимент 2\n",
      "pos: Позитив: {}\n",
      "neg: Негатив: {}\n"
     ]
    },
    {
     "data": {
      "application/vnd.jupyter.widget-view+json": {
       "model_id": "5107b330594c4ecbb038a4772eea75de",
       "version_major": 2,
       "version_minor": 0
      },
      "text/plain": [
       "  0%|          | 0/100 [00:00<?, ?it/s]"
      ]
     },
     "metadata": {},
     "output_type": "display_data"
    },
    {
     "name": "stdout",
     "output_type": "stream",
     "text": [
      "Accuracy: 0.69\n",
      "F1 Score: 0.627\n",
      "\n",
      "Эксперимент 3\n",
      "pos: Позитивно)): {}\n",
      "neg: Негативно((: {}\n"
     ]
    },
    {
     "data": {
      "application/vnd.jupyter.widget-view+json": {
       "model_id": "05a0d2dd32f54d1f91851819ed780ede",
       "version_major": 2,
       "version_minor": 0
      },
      "text/plain": [
       "  0%|          | 0/100 [00:00<?, ?it/s]"
      ]
     },
     "metadata": {},
     "output_type": "display_data"
    },
    {
     "name": "stdout",
     "output_type": "stream",
     "text": [
      "Accuracy: 0.51\n",
      "F1 Score: 0.671\n",
      "\n",
      "Эксперимент 4\n",
      "pos: Позитив: {}))\n",
      "neg: Негатив: {}((\n"
     ]
    },
    {
     "data": {
      "application/vnd.jupyter.widget-view+json": {
       "model_id": "fe75d892715f4dc4a85b634bd41a001e",
       "version_major": 2,
       "version_minor": 0
      },
      "text/plain": [
       "  0%|          | 0/100 [00:00<?, ?it/s]"
      ]
     },
     "metadata": {},
     "output_type": "display_data"
    },
    {
     "name": "stdout",
     "output_type": "stream",
     "text": [
      "Accuracy: 0.87\n",
      "F1 Score: 0.869\n",
      "\n",
      "Эксперимент 5\n",
      "pos: Позитив: {}, хорошо, отлично, замечательно, великолепно\n",
      "neg: Негатив: {}, плохо, отвратительно, ужасно, мерзко\n"
     ]
    },
    {
     "data": {
      "application/vnd.jupyter.widget-view+json": {
       "model_id": "0d2d7f1ff48e4dd7bd17506979b72489",
       "version_major": 2,
       "version_minor": 0
      },
      "text/plain": [
       "  0%|          | 0/100 [00:00<?, ?it/s]"
      ]
     },
     "metadata": {},
     "output_type": "display_data"
    },
    {
     "name": "stdout",
     "output_type": "stream",
     "text": [
      "Accuracy: 0.54\n",
      "F1 Score: 0.148\n",
      "\n",
      "Эксперимент 6\n",
      "pos: Позитивный твит: {}) - хорошо)))\n",
      "neg: Негативный твит: {}( - плохо(((\n"
     ]
    },
    {
     "data": {
      "application/vnd.jupyter.widget-view+json": {
       "model_id": "319b2d5feae446a58c2bb4c718a239b1",
       "version_major": 2,
       "version_minor": 0
      },
      "text/plain": [
       "  0%|          | 0/100 [00:00<?, ?it/s]"
      ]
     },
     "metadata": {},
     "output_type": "display_data"
    },
    {
     "name": "stdout",
     "output_type": "stream",
     "text": [
      "Accuracy: 0.78\n",
      "F1 Score: 0.82\n",
      "\n",
      "Эксперимент 7\n",
      "pos: Позитивное сообщение : {})), хорошо)))\n",
      "neg: Негативное сообщение: {}((, плохо(((\n"
     ]
    },
    {
     "data": {
      "application/vnd.jupyter.widget-view+json": {
       "model_id": "531bd76769bf42b0834bbd9215d5fa88",
       "version_major": 2,
       "version_minor": 0
      },
      "text/plain": [
       "  0%|          | 0/100 [00:00<?, ?it/s]"
      ]
     },
     "metadata": {},
     "output_type": "display_data"
    },
    {
     "name": "stdout",
     "output_type": "stream",
     "text": [
      "Accuracy: 0.8\n",
      "F1 Score: 0.75\n",
      "\n",
      "Эксперимент 8\n",
      "pos: Позитивное сообщение : {})))\n",
      "neg: Негативное сообщение: {}(((\n"
     ]
    },
    {
     "data": {
      "application/vnd.jupyter.widget-view+json": {
       "model_id": "4aa98cf7f4a743e0b4849419dd12c8a7",
       "version_major": 2,
       "version_minor": 0
      },
      "text/plain": [
       "  0%|          | 0/100 [00:00<?, ?it/s]"
      ]
     },
     "metadata": {},
     "output_type": "display_data"
    },
    {
     "name": "stdout",
     "output_type": "stream",
     "text": [
      "Accuracy: 0.81\n",
      "F1 Score: 0.776\n",
      "\n",
      "Эксперимент 9\n",
      "pos: {})))\n",
      "neg: {}(((\n"
     ]
    },
    {
     "data": {
      "application/vnd.jupyter.widget-view+json": {
       "model_id": "f7d3f17a644e4457a315c1707f712a9d",
       "version_major": 2,
       "version_minor": 0
      },
      "text/plain": [
       "  0%|          | 0/100 [00:00<?, ?it/s]"
      ]
     },
     "metadata": {},
     "output_type": "display_data"
    },
    {
     "name": "stdout",
     "output_type": "stream",
     "text": [
      "Accuracy: 0.71\n",
      "F1 Score: 0.603\n",
      "\n",
      "Эксперимент 10\n",
      "pos: {}))), позитивный твит\n",
      "neg: {}(((, Негативный твит\n"
     ]
    },
    {
     "data": {
      "application/vnd.jupyter.widget-view+json": {
       "model_id": "e732c6f5ab7144228af1f412f48e8443",
       "version_major": 2,
       "version_minor": 0
      },
      "text/plain": [
       "  0%|          | 0/100 [00:00<?, ?it/s]"
      ]
     },
     "metadata": {},
     "output_type": "display_data"
    },
    {
     "name": "stdout",
     "output_type": "stream",
     "text": [
      "Accuracy: 0.68\n",
      "F1 Score: 0.628\n",
      "\n",
      "Эксперимент 11\n",
      "pos: Отлично))): {}\n",
      "neg: Ужасно(((: {}\n"
     ]
    },
    {
     "data": {
      "application/vnd.jupyter.widget-view+json": {
       "model_id": "3eff9f8ad94e4cb4852b20fdef469336",
       "version_major": 2,
       "version_minor": 0
      },
      "text/plain": [
       "  0%|          | 0/100 [00:00<?, ?it/s]"
      ]
     },
     "metadata": {},
     "output_type": "display_data"
    },
    {
     "name": "stdout",
     "output_type": "stream",
     "text": [
      "Accuracy: 0.5\n",
      "F1 Score: 0.0\n"
     ]
    },
    {
     "data": {
      "text/html": [
       "<div>\n",
       "<style scoped>\n",
       "    .dataframe tbody tr th:only-of-type {\n",
       "        vertical-align: middle;\n",
       "    }\n",
       "\n",
       "    .dataframe tbody tr th {\n",
       "        vertical-align: top;\n",
       "    }\n",
       "\n",
       "    .dataframe thead th {\n",
       "        text-align: right;\n",
       "    }\n",
       "</style>\n",
       "<table border=\"1\" class=\"dataframe\">\n",
       "  <thead>\n",
       "    <tr style=\"text-align: right;\">\n",
       "      <th></th>\n",
       "      <th>experiment_number</th>\n",
       "      <th>pos</th>\n",
       "      <th>neg</th>\n",
       "      <th>f1_score</th>\n",
       "      <th>accuracy</th>\n",
       "    </tr>\n",
       "  </thead>\n",
       "  <tbody>\n",
       "    <tr>\n",
       "      <th>0</th>\n",
       "      <td>4</td>\n",
       "      <td>Позитив: {}))</td>\n",
       "      <td>Негатив: {}((</td>\n",
       "      <td>0.869</td>\n",
       "      <td>0.87</td>\n",
       "    </tr>\n",
       "    <tr>\n",
       "      <th>1</th>\n",
       "      <td>8</td>\n",
       "      <td>Позитивное сообщение : {})))</td>\n",
       "      <td>Негативное сообщение: {}(((</td>\n",
       "      <td>0.776</td>\n",
       "      <td>0.81</td>\n",
       "    </tr>\n",
       "    <tr>\n",
       "      <th>2</th>\n",
       "      <td>7</td>\n",
       "      <td>Позитивное сообщение : {})), хорошо)))</td>\n",
       "      <td>Негативное сообщение: {}((, плохо(((</td>\n",
       "      <td>0.750</td>\n",
       "      <td>0.80</td>\n",
       "    </tr>\n",
       "    <tr>\n",
       "      <th>3</th>\n",
       "      <td>6</td>\n",
       "      <td>Позитивный твит: {}) - хорошо)))</td>\n",
       "      <td>Негативный твит: {}( - плохо(((</td>\n",
       "      <td>0.820</td>\n",
       "      <td>0.78</td>\n",
       "    </tr>\n",
       "    <tr>\n",
       "      <th>4</th>\n",
       "      <td>1</td>\n",
       "      <td>Позитивный твит: {})))</td>\n",
       "      <td>Негативный твит: {}(((</td>\n",
       "      <td>0.787</td>\n",
       "      <td>0.74</td>\n",
       "    </tr>\n",
       "    <tr>\n",
       "      <th>5</th>\n",
       "      <td>9</td>\n",
       "      <td>{})))</td>\n",
       "      <td>{}(((</td>\n",
       "      <td>0.603</td>\n",
       "      <td>0.71</td>\n",
       "    </tr>\n",
       "    <tr>\n",
       "      <th>6</th>\n",
       "      <td>2</td>\n",
       "      <td>Позитив: {}</td>\n",
       "      <td>Негатив: {}</td>\n",
       "      <td>0.627</td>\n",
       "      <td>0.69</td>\n",
       "    </tr>\n",
       "    <tr>\n",
       "      <th>7</th>\n",
       "      <td>10</td>\n",
       "      <td>{}))), позитивный твит</td>\n",
       "      <td>{}(((, Негативный твит</td>\n",
       "      <td>0.628</td>\n",
       "      <td>0.68</td>\n",
       "    </tr>\n",
       "    <tr>\n",
       "      <th>8</th>\n",
       "      <td>5</td>\n",
       "      <td>Позитив: {}, хорошо, отлично, замечательно, ве...</td>\n",
       "      <td>Негатив: {}, плохо, отвратительно, ужасно, мерзко</td>\n",
       "      <td>0.148</td>\n",
       "      <td>0.54</td>\n",
       "    </tr>\n",
       "    <tr>\n",
       "      <th>9</th>\n",
       "      <td>3</td>\n",
       "      <td>Позитивно)): {}</td>\n",
       "      <td>Негативно((: {}</td>\n",
       "      <td>0.671</td>\n",
       "      <td>0.51</td>\n",
       "    </tr>\n",
       "    <tr>\n",
       "      <th>10</th>\n",
       "      <td>11</td>\n",
       "      <td>Отлично))): {}</td>\n",
       "      <td>Ужасно(((: {}</td>\n",
       "      <td>0.000</td>\n",
       "      <td>0.50</td>\n",
       "    </tr>\n",
       "  </tbody>\n",
       "</table>\n",
       "</div>"
      ],
      "text/plain": [
       "    experiment_number                                                pos  \\\n",
       "0                   4                                      Позитив: {}))   \n",
       "1                   8                       Позитивное сообщение : {})))   \n",
       "2                   7             Позитивное сообщение : {})), хорошо)))   \n",
       "3                   6                   Позитивный твит: {}) - хорошо)))   \n",
       "4                   1                             Позитивный твит: {})))   \n",
       "5                   9                                              {})))   \n",
       "6                   2                                        Позитив: {}   \n",
       "7                  10                             {}))), позитивный твит   \n",
       "8                   5  Позитив: {}, хорошо, отлично, замечательно, ве...   \n",
       "9                   3                                    Позитивно)): {}   \n",
       "10                 11                                     Отлично))): {}   \n",
       "\n",
       "                                                  neg  f1_score  accuracy  \n",
       "0                                       Негатив: {}((     0.869      0.87  \n",
       "1                         Негативное сообщение: {}(((     0.776      0.81  \n",
       "2                Негативное сообщение: {}((, плохо(((     0.750      0.80  \n",
       "3                     Негативный твит: {}( - плохо(((     0.820      0.78  \n",
       "4                              Негативный твит: {}(((     0.787      0.74  \n",
       "5                                               {}(((     0.603      0.71  \n",
       "6                                         Негатив: {}     0.627      0.69  \n",
       "7                              {}(((, Негативный твит     0.628      0.68  \n",
       "8   Негатив: {}, плохо, отвратительно, ужасно, мерзко     0.148      0.54  \n",
       "9                                     Негативно((: {}     0.671      0.51  \n",
       "10                                      Ужасно(((: {}     0.000      0.50  "
      ]
     },
     "execution_count": 33,
     "metadata": {},
     "output_type": "execute_result"
    }
   ],
   "source": [
    "get_results_with_experiments(exp_list)"
   ]
  },
  {
   "cell_type": "markdown",
   "metadata": {},
   "source": [
    "Эксперимент № 4 - показал наилучшие результаты для обоеих моделей.\n",
    "\n",
    "pos = \"Позитив: {}))\"\tneg = \"Негатив: {}((\""
   ]
  },
  {
   "cell_type": "code",
   "execution_count": null,
   "metadata": {},
   "outputs": [],
   "source": []
  }
 ],
 "metadata": {
  "accelerator": "GPU",
  "colab": {
   "provenance": []
  },
  "gpuClass": "standard",
  "kernelspec": {
   "display_name": "Python 3 (ipykernel)",
   "language": "python",
   "name": "python3"
  },
  "language_info": {
   "codemirror_mode": {
    "name": "ipython",
    "version": 3
   },
   "file_extension": ".py",
   "mimetype": "text/x-python",
   "name": "python",
   "nbconvert_exporter": "python",
   "pygments_lexer": "ipython3",
   "version": "3.12.4"
  },
  "widgets": {
   "application/vnd.jupyter.widget-state+json": {
    "state": {
     "00136827c5154525ac5dcd963ac00ee7": {
      "model_module": "@jupyter-widgets/controls",
      "model_module_version": "2.0.0",
      "model_name": "HTMLModel",
      "state": {
       "layout": "IPY_MODEL_248da49c744d4505bad7dc0240e327ab",
       "style": "IPY_MODEL_68125edcd4034a7ea4d3682ca5b7ad57",
       "value": " 100/100 [00:54&lt;00:00,  1.85it/s]"
      }
     },
     "013c0ec1e0df42868c5f5e9f48c43a23": {
      "model_module": "@jupyter-widgets/controls",
      "model_module_version": "2.0.0",
      "model_name": "FloatProgressModel",
      "state": {
       "bar_style": "success",
       "layout": "IPY_MODEL_819106018c0243a4b05d8c9330f232f1",
       "style": "IPY_MODEL_bad4ff197f3249cd837f9a92a56f88f0",
       "value": 100
      }
     },
     "02473af43fc24d4d88f95a542b9f7475": {
      "model_module": "@jupyter-widgets/base",
      "model_module_version": "2.0.0",
      "model_name": "LayoutModel",
      "state": {}
     },
     "02553c75b2f54fa0b99b8daa798d66b9": {
      "model_module": "@jupyter-widgets/base",
      "model_module_version": "2.0.0",
      "model_name": "LayoutModel",
      "state": {}
     },
     "0479a2ec136445f0a64a4bcf1b9fa334": {
      "model_module": "@jupyter-widgets/controls",
      "model_module_version": "2.0.0",
      "model_name": "HTMLModel",
      "state": {
       "layout": "IPY_MODEL_6e1a432aef124b5aa31e99dd16c96ea1",
       "style": "IPY_MODEL_460ce2c17dd14ede9d182d92535d93d5",
       "value": " 100/100 [01:21&lt;00:00,  1.12it/s]"
      }
     },
     "048cba23694d49e6b814bc4b4c5b1269": {
      "model_module": "@jupyter-widgets/controls",
      "model_module_version": "2.0.0",
      "model_name": "HTMLStyleModel",
      "state": {
       "description_width": "",
       "font_size": null,
       "text_color": null
      }
     },
     "04d8f8c084f44889b7cc7fb0d5a46bfd": {
      "model_module": "@jupyter-widgets/base",
      "model_module_version": "2.0.0",
      "model_name": "LayoutModel",
      "state": {}
     },
     "052f584c8959499fa19f75bdeb36dc7d": {
      "model_module": "@jupyter-widgets/controls",
      "model_module_version": "2.0.0",
      "model_name": "HTMLStyleModel",
      "state": {
       "description_width": "",
       "font_size": null,
       "text_color": null
      }
     },
     "05a0d2dd32f54d1f91851819ed780ede": {
      "model_module": "@jupyter-widgets/controls",
      "model_module_version": "2.0.0",
      "model_name": "HBoxModel",
      "state": {
       "children": [
        "IPY_MODEL_e75ae5817ac344c0aa5c9489bb5b4e69",
        "IPY_MODEL_bb064262281540a1a80305ba30731be1",
        "IPY_MODEL_c4e6b7547b02478d84a1a0f18588371f"
       ],
       "layout": "IPY_MODEL_af72e00e3db1451f843951dc4afd9617"
      }
     },
     "071460920daf4764ba52d5663c294f75": {
      "model_module": "@jupyter-widgets/controls",
      "model_module_version": "2.0.0",
      "model_name": "HTMLStyleModel",
      "state": {
       "description_width": "",
       "font_size": null,
       "text_color": null
      }
     },
     "074bd28f57df4bba9305d461cd5440e5": {
      "model_module": "@jupyter-widgets/controls",
      "model_module_version": "2.0.0",
      "model_name": "HTMLModel",
      "state": {
       "layout": "IPY_MODEL_979c9e901ba64eb397aeed97a1f5d4c0",
       "style": "IPY_MODEL_dc5cf20013e04850ba22d36c577ed584",
       "value": " 100/100 [01:31&lt;00:00,  1.19it/s]"
      }
     },
     "0b1bbab890f641f9bb0cf4dbf67fd2f0": {
      "model_module": "@jupyter-widgets/base",
      "model_module_version": "2.0.0",
      "model_name": "LayoutModel",
      "state": {}
     },
     "0b8d1f1a9a9a4760992e9763a3868a00": {
      "model_module": "@jupyter-widgets/controls",
      "model_module_version": "2.0.0",
      "model_name": "HTMLModel",
      "state": {
       "layout": "IPY_MODEL_63ed4b7ba46940e5b0c35b970cd14f0f",
       "style": "IPY_MODEL_6ddcdd0ec26446eb8052e3c76401eec5",
       "value": "100%"
      }
     },
     "0d2d7f1ff48e4dd7bd17506979b72489": {
      "model_module": "@jupyter-widgets/controls",
      "model_module_version": "2.0.0",
      "model_name": "HBoxModel",
      "state": {
       "children": [
        "IPY_MODEL_75f6f3f279f24ed4abf12b4d40c365a3",
        "IPY_MODEL_26845d1ee4e341e6914217214224a7f7",
        "IPY_MODEL_0d7272dcb5984927be0769edc4351d20"
       ],
       "layout": "IPY_MODEL_17d1198575a64ad79145e21b402a8c92"
      }
     },
     "0d5061d79d324105b08a62f67e24e89b": {
      "model_module": "@jupyter-widgets/controls",
      "model_module_version": "2.0.0",
      "model_name": "HTMLStyleModel",
      "state": {
       "description_width": "",
       "font_size": null,
       "text_color": null
      }
     },
     "0d7272dcb5984927be0769edc4351d20": {
      "model_module": "@jupyter-widgets/controls",
      "model_module_version": "2.0.0",
      "model_name": "HTMLModel",
      "state": {
       "layout": "IPY_MODEL_4162fd66f3064b488364183deb5cd553",
       "style": "IPY_MODEL_4e2608be66234cb1b7a92d08d21323f9",
       "value": " 100/100 [01:14&lt;00:00,  1.45it/s]"
      }
     },
     "0e4fbd2c6c884e7caf711773133d44c2": {
      "model_module": "@jupyter-widgets/controls",
      "model_module_version": "2.0.0",
      "model_name": "HTMLStyleModel",
      "state": {
       "description_width": "",
       "font_size": null,
       "text_color": null
      }
     },
     "0e80eec1629740c980f2fe25c4f0ff85": {
      "model_module": "@jupyter-widgets/base",
      "model_module_version": "2.0.0",
      "model_name": "LayoutModel",
      "state": {}
     },
     "0e8ce85431f944deb1e9d5e64c6c2bb3": {
      "model_module": "@jupyter-widgets/controls",
      "model_module_version": "2.0.0",
      "model_name": "HTMLStyleModel",
      "state": {
       "description_width": "",
       "font_size": null,
       "text_color": null
      }
     },
     "1047da98bdc14acdb4fededd521ecb11": {
      "model_module": "@jupyter-widgets/controls",
      "model_module_version": "2.0.0",
      "model_name": "ProgressStyleModel",
      "state": {
       "description_width": ""
      }
     },
     "10738dd2b030448da0e98bedb71cec47": {
      "model_module": "@jupyter-widgets/base",
      "model_module_version": "2.0.0",
      "model_name": "LayoutModel",
      "state": {}
     },
     "10bbdd21298f4f74b46a00551585f72c": {
      "model_module": "@jupyter-widgets/base",
      "model_module_version": "2.0.0",
      "model_name": "LayoutModel",
      "state": {}
     },
     "11852eff8cf34e5494bf1a4f228b46d5": {
      "model_module": "@jupyter-widgets/base",
      "model_module_version": "2.0.0",
      "model_name": "LayoutModel",
      "state": {}
     },
     "12ee9a4f41b14139a9199395f6cb2e5c": {
      "model_module": "@jupyter-widgets/base",
      "model_module_version": "2.0.0",
      "model_name": "LayoutModel",
      "state": {}
     },
     "13ae07733e154192be2296df8aa3569d": {
      "model_module": "@jupyter-widgets/base",
      "model_module_version": "2.0.0",
      "model_name": "LayoutModel",
      "state": {}
     },
     "14212d4773144d018009644ee9201164": {
      "model_module": "@jupyter-widgets/controls",
      "model_module_version": "2.0.0",
      "model_name": "HTMLModel",
      "state": {
       "layout": "IPY_MODEL_a76b4bf787cf4f7a8e5a6ffb5337550e",
       "style": "IPY_MODEL_55dc2f8870824c6782595f3898d96afc",
       "value": "100%"
      }
     },
     "151284445bc544b5b65830d55ebec710": {
      "model_module": "@jupyter-widgets/base",
      "model_module_version": "2.0.0",
      "model_name": "LayoutModel",
      "state": {}
     },
     "1569fc3babf64200ae9850977f4acc5a": {
      "model_module": "@jupyter-widgets/controls",
      "model_module_version": "2.0.0",
      "model_name": "HTMLModel",
      "state": {
       "layout": "IPY_MODEL_406c760023cb426f92c54e28e3e71f2b",
       "style": "IPY_MODEL_83aac17dbf1e4d4b96f8ba640fda4bca",
       "value": " 100/100 [00:59&lt;00:00,  1.75it/s]"
      }
     },
     "1769b9e2d6ee4141b6e7e7c3b30d32df": {
      "model_module": "@jupyter-widgets/base",
      "model_module_version": "2.0.0",
      "model_name": "LayoutModel",
      "state": {}
     },
     "17d1198575a64ad79145e21b402a8c92": {
      "model_module": "@jupyter-widgets/base",
      "model_module_version": "2.0.0",
      "model_name": "LayoutModel",
      "state": {}
     },
     "1844dcea2d764c9a901f0890ecb189d3": {
      "model_module": "@jupyter-widgets/base",
      "model_module_version": "2.0.0",
      "model_name": "LayoutModel",
      "state": {}
     },
     "1854e7b1ee1b4875a6a8cee590f7028d": {
      "model_module": "@jupyter-widgets/base",
      "model_module_version": "2.0.0",
      "model_name": "LayoutModel",
      "state": {}
     },
     "188099bf31f2489a9552fe8d8375100e": {
      "model_module": "@jupyter-widgets/controls",
      "model_module_version": "2.0.0",
      "model_name": "HTMLStyleModel",
      "state": {
       "description_width": "",
       "font_size": null,
       "text_color": null
      }
     },
     "19546840b3dc471b84e1e1500634ce68": {
      "model_module": "@jupyter-widgets/controls",
      "model_module_version": "2.0.0",
      "model_name": "HTMLModel",
      "state": {
       "layout": "IPY_MODEL_70f3f46fd2c44a7eabd4b8dca83116ca",
       "style": "IPY_MODEL_048cba23694d49e6b814bc4b4c5b1269",
       "value": " 100/100 [01:12&lt;00:00,  1.49it/s]"
      }
     },
     "1980687ad91945c88a1a51a91e6bed62": {
      "model_module": "@jupyter-widgets/controls",
      "model_module_version": "2.0.0",
      "model_name": "HTMLStyleModel",
      "state": {
       "description_width": "",
       "font_size": null,
       "text_color": null
      }
     },
     "19b8aec82b6e4a69b052dba3755fcb56": {
      "model_module": "@jupyter-widgets/controls",
      "model_module_version": "2.0.0",
      "model_name": "HTMLModel",
      "state": {
       "layout": "IPY_MODEL_e9985544bafe4657b1ac2e9f25866fc3",
       "style": "IPY_MODEL_0d5061d79d324105b08a62f67e24e89b",
       "value": " 100/100 [01:11&lt;00:00,  1.55it/s]"
      }
     },
     "1ae1430597f04f54876071b321de73b5": {
      "model_module": "@jupyter-widgets/controls",
      "model_module_version": "2.0.0",
      "model_name": "FloatProgressModel",
      "state": {
       "bar_style": "success",
       "layout": "IPY_MODEL_2b9a7816c60146b298f16eb8a3cf5045",
       "style": "IPY_MODEL_58db30d3273441b8b00d479801e96f11",
       "value": 100
      }
     },
     "1ba7eb18d90c4deaa84c6b0e1e71cbe3": {
      "model_module": "@jupyter-widgets/controls",
      "model_module_version": "2.0.0",
      "model_name": "ProgressStyleModel",
      "state": {
       "description_width": ""
      }
     },
     "1c41e27410784faa81ee87aa55373c8f": {
      "model_module": "@jupyter-widgets/base",
      "model_module_version": "2.0.0",
      "model_name": "LayoutModel",
      "state": {}
     },
     "201a88686aac4698915b90dbcaaa3c91": {
      "model_module": "@jupyter-widgets/base",
      "model_module_version": "2.0.0",
      "model_name": "LayoutModel",
      "state": {}
     },
     "248da49c744d4505bad7dc0240e327ab": {
      "model_module": "@jupyter-widgets/base",
      "model_module_version": "2.0.0",
      "model_name": "LayoutModel",
      "state": {}
     },
     "26845d1ee4e341e6914217214224a7f7": {
      "model_module": "@jupyter-widgets/controls",
      "model_module_version": "2.0.0",
      "model_name": "FloatProgressModel",
      "state": {
       "bar_style": "success",
       "layout": "IPY_MODEL_273eb1b2b42d4ec0b835a7fd07e3873c",
       "style": "IPY_MODEL_1ba7eb18d90c4deaa84c6b0e1e71cbe3",
       "value": 100
      }
     },
     "273eb1b2b42d4ec0b835a7fd07e3873c": {
      "model_module": "@jupyter-widgets/base",
      "model_module_version": "2.0.0",
      "model_name": "LayoutModel",
      "state": {}
     },
     "28e677a1ae7146e6821ca84092425efc": {
      "model_module": "@jupyter-widgets/controls",
      "model_module_version": "2.0.0",
      "model_name": "FloatProgressModel",
      "state": {
       "bar_style": "success",
       "layout": "IPY_MODEL_eee38788ac0e4837ab0364c1169758b4",
       "style": "IPY_MODEL_e4e53cb02266452e932128cd83f0e2b9",
       "value": 100
      }
     },
     "2a913f96eca24fef8ace42b60d5d3940": {
      "model_module": "@jupyter-widgets/controls",
      "model_module_version": "2.0.0",
      "model_name": "HTMLStyleModel",
      "state": {
       "description_width": "",
       "font_size": null,
       "text_color": null
      }
     },
     "2b6839d99e6d428cbf8281c57b725837": {
      "model_module": "@jupyter-widgets/controls",
      "model_module_version": "2.0.0",
      "model_name": "HTMLModel",
      "state": {
       "layout": "IPY_MODEL_4099c2a289b84b16970c7d2ab4c741bf",
       "style": "IPY_MODEL_adf8305a941f4d57a94b5d44ed90e28f",
       "value": " 100/100 [01:04&lt;00:00,  1.66it/s]"
      }
     },
     "2b9a7816c60146b298f16eb8a3cf5045": {
      "model_module": "@jupyter-widgets/base",
      "model_module_version": "2.0.0",
      "model_name": "LayoutModel",
      "state": {}
     },
     "2c71b02aa4504866a96bb80e5e7cf2a2": {
      "model_module": "@jupyter-widgets/base",
      "model_module_version": "2.0.0",
      "model_name": "LayoutModel",
      "state": {}
     },
     "2d08a8b01fc6451a9adf6b5cb7029735": {
      "model_module": "@jupyter-widgets/controls",
      "model_module_version": "2.0.0",
      "model_name": "FloatProgressModel",
      "state": {
       "bar_style": "success",
       "layout": "IPY_MODEL_02553c75b2f54fa0b99b8daa798d66b9",
       "style": "IPY_MODEL_1047da98bdc14acdb4fededd521ecb11",
       "value": 100
      }
     },
     "2d983be83bc546b49effc402132c4ac7": {
      "model_module": "@jupyter-widgets/controls",
      "model_module_version": "2.0.0",
      "model_name": "ProgressStyleModel",
      "state": {
       "description_width": ""
      }
     },
     "2de40787d97146b49aafa522f5bbf334": {
      "model_module": "@jupyter-widgets/controls",
      "model_module_version": "2.0.0",
      "model_name": "HTMLModel",
      "state": {
       "layout": "IPY_MODEL_f3817027751e4eb6b89676b9ff31bca6",
       "style": "IPY_MODEL_8c3593d23895422e80d5b3021e5be211",
       "value": "100%"
      }
     },
     "2eb066ad92d84fc1af4065ddf4d27aad": {
      "model_module": "@jupyter-widgets/controls",
      "model_module_version": "2.0.0",
      "model_name": "FloatProgressModel",
      "state": {
       "bar_style": "success",
       "layout": "IPY_MODEL_dd50936f42134bb2a5bc7b228b6a8eb8",
       "style": "IPY_MODEL_56d141a850e048f79e4f0bfd45eedf93",
       "value": 100
      }
     },
     "30715643e9a642b3b1e8772dbb7ef056": {
      "model_module": "@jupyter-widgets/controls",
      "model_module_version": "2.0.0",
      "model_name": "HTMLStyleModel",
      "state": {
       "description_width": "",
       "font_size": null,
       "text_color": null
      }
     },
     "319b2d5feae446a58c2bb4c718a239b1": {
      "model_module": "@jupyter-widgets/controls",
      "model_module_version": "2.0.0",
      "model_name": "HBoxModel",
      "state": {
       "children": [
        "IPY_MODEL_d5c68c898a2f4642ad45dd0a61299d9b",
        "IPY_MODEL_1ae1430597f04f54876071b321de73b5",
        "IPY_MODEL_af87a905819f4cbfa8615de865761a56"
       ],
       "layout": "IPY_MODEL_0e80eec1629740c980f2fe25c4f0ff85"
      }
     },
     "319e3a69e6584979b44ae00ec9dab745": {
      "model_module": "@jupyter-widgets/controls",
      "model_module_version": "2.0.0",
      "model_name": "HTMLModel",
      "state": {
       "layout": "IPY_MODEL_3be358804316444ea2c78bdc9319df24",
       "style": "IPY_MODEL_3e21434bd2e0450d88c736f1190137f5",
       "value": "100%"
      }
     },
     "3409eab8c89a440fb6b089b89ae89167": {
      "model_module": "@jupyter-widgets/controls",
      "model_module_version": "2.0.0",
      "model_name": "HTMLStyleModel",
      "state": {
       "description_width": "",
       "font_size": null,
       "text_color": null
      }
     },
     "35885dca39f74a168df5ba9a08f3b7ff": {
      "model_module": "@jupyter-widgets/controls",
      "model_module_version": "2.0.0",
      "model_name": "HTMLStyleModel",
      "state": {
       "description_width": "",
       "font_size": null,
       "text_color": null
      }
     },
     "380890023ddd49b68a12d95ff811ab35": {
      "model_module": "@jupyter-widgets/base",
      "model_module_version": "2.0.0",
      "model_name": "LayoutModel",
      "state": {}
     },
     "3a863df150e940a8a25f21ca1adc515e": {
      "model_module": "@jupyter-widgets/base",
      "model_module_version": "2.0.0",
      "model_name": "LayoutModel",
      "state": {}
     },
     "3be358804316444ea2c78bdc9319df24": {
      "model_module": "@jupyter-widgets/base",
      "model_module_version": "2.0.0",
      "model_name": "LayoutModel",
      "state": {}
     },
     "3cd7e69869a04bc7ba9b10f410933127": {
      "model_module": "@jupyter-widgets/controls",
      "model_module_version": "2.0.0",
      "model_name": "HTMLModel",
      "state": {
       "layout": "IPY_MODEL_7c20005b639b4b658de3f0e92f045890",
       "style": "IPY_MODEL_9e0b10842dbb4e5e8bc53c84aab9b6be",
       "value": " 100/100 [01:08&lt;00:00,  1.52it/s]"
      }
     },
     "3e21434bd2e0450d88c736f1190137f5": {
      "model_module": "@jupyter-widgets/controls",
      "model_module_version": "2.0.0",
      "model_name": "HTMLStyleModel",
      "state": {
       "description_width": "",
       "font_size": null,
       "text_color": null
      }
     },
     "3eff9f8ad94e4cb4852b20fdef469336": {
      "model_module": "@jupyter-widgets/controls",
      "model_module_version": "2.0.0",
      "model_name": "HBoxModel",
      "state": {
       "children": [
        "IPY_MODEL_ec9306b7fb16472c883b42a1d4225220",
        "IPY_MODEL_d3f123ed2ca24baaaa7dfc83d533710d",
        "IPY_MODEL_3cd7e69869a04bc7ba9b10f410933127"
       ],
       "layout": "IPY_MODEL_5853be820f0746889a00e3a6217fb948"
      }
     },
     "406c760023cb426f92c54e28e3e71f2b": {
      "model_module": "@jupyter-widgets/base",
      "model_module_version": "2.0.0",
      "model_name": "LayoutModel",
      "state": {}
     },
     "4099c2a289b84b16970c7d2ab4c741bf": {
      "model_module": "@jupyter-widgets/base",
      "model_module_version": "2.0.0",
      "model_name": "LayoutModel",
      "state": {}
     },
     "4147f0b9a8f544dfab973c66f94f8930": {
      "model_module": "@jupyter-widgets/base",
      "model_module_version": "2.0.0",
      "model_name": "LayoutModel",
      "state": {}
     },
     "4162fd66f3064b488364183deb5cd553": {
      "model_module": "@jupyter-widgets/base",
      "model_module_version": "2.0.0",
      "model_name": "LayoutModel",
      "state": {}
     },
     "41e5273f7c2b4129a4fbee5ea824503f": {
      "model_module": "@jupyter-widgets/base",
      "model_module_version": "2.0.0",
      "model_name": "LayoutModel",
      "state": {}
     },
     "422a61f245454d73847112af2bd073e4": {
      "model_module": "@jupyter-widgets/controls",
      "model_module_version": "2.0.0",
      "model_name": "HTMLModel",
      "state": {
       "layout": "IPY_MODEL_df97119fc60345a5b588087c89e63d0e",
       "style": "IPY_MODEL_74e381e6e93947ab8a467f058244cfb4",
       "value": " 100/100 [01:02&lt;00:00,  1.72it/s]"
      }
     },
     "460ce2c17dd14ede9d182d92535d93d5": {
      "model_module": "@jupyter-widgets/controls",
      "model_module_version": "2.0.0",
      "model_name": "HTMLStyleModel",
      "state": {
       "description_width": "",
       "font_size": null,
       "text_color": null
      }
     },
     "4aa98cf7f4a743e0b4849419dd12c8a7": {
      "model_module": "@jupyter-widgets/controls",
      "model_module_version": "2.0.0",
      "model_name": "HBoxModel",
      "state": {
       "children": [
        "IPY_MODEL_67c39728b4b94c508481ce582064a635",
        "IPY_MODEL_901f821703064e6ea8b19e1abb5dc423",
        "IPY_MODEL_4c0cbac3f8ad411181537c191859b7a7"
       ],
       "layout": "IPY_MODEL_968c05514053476ba321c9ed454095ca"
      }
     },
     "4b666b096a9c425ea58d4c25b1b17c22": {
      "model_module": "@jupyter-widgets/base",
      "model_module_version": "2.0.0",
      "model_name": "LayoutModel",
      "state": {}
     },
     "4b8133a0e94544fb8204b6ec9ed3c119": {
      "model_module": "@jupyter-widgets/controls",
      "model_module_version": "2.0.0",
      "model_name": "FloatProgressModel",
      "state": {
       "bar_style": "success",
       "layout": "IPY_MODEL_380890023ddd49b68a12d95ff811ab35",
       "style": "IPY_MODEL_82b804625eb246e1bdf61bfacd2bd912",
       "value": 100
      }
     },
     "4c085a9ffccb4577935e61125bd9bd60": {
      "model_module": "@jupyter-widgets/controls",
      "model_module_version": "2.0.0",
      "model_name": "HTMLModel",
      "state": {
       "layout": "IPY_MODEL_cd7c02882b3042d39f72192130189167",
       "style": "IPY_MODEL_8eedd1a1dd0d41509cb61d7afbd02b82",
       "value": "100%"
      }
     },
     "4c0cbac3f8ad411181537c191859b7a7": {
      "model_module": "@jupyter-widgets/controls",
      "model_module_version": "2.0.0",
      "model_name": "HTMLModel",
      "state": {
       "layout": "IPY_MODEL_02473af43fc24d4d88f95a542b9f7475",
       "style": "IPY_MODEL_72bab365fde94ca1ad87abc700f31473",
       "value": " 100/100 [01:11&lt;00:00,  1.17it/s]"
      }
     },
     "4e2608be66234cb1b7a92d08d21323f9": {
      "model_module": "@jupyter-widgets/controls",
      "model_module_version": "2.0.0",
      "model_name": "HTMLStyleModel",
      "state": {
       "description_width": "",
       "font_size": null,
       "text_color": null
      }
     },
     "4fab78ce7dcd4be4aed78af3e31b00f9": {
      "model_module": "@jupyter-widgets/base",
      "model_module_version": "2.0.0",
      "model_name": "LayoutModel",
      "state": {}
     },
     "5003661c2d7c4ed88b7100862d1bc095": {
      "model_module": "@jupyter-widgets/controls",
      "model_module_version": "2.0.0",
      "model_name": "ProgressStyleModel",
      "state": {
       "description_width": ""
      }
     },
     "5107b330594c4ecbb038a4772eea75de": {
      "model_module": "@jupyter-widgets/controls",
      "model_module_version": "2.0.0",
      "model_name": "HBoxModel",
      "state": {
       "children": [
        "IPY_MODEL_f82153f9f40f4aa487033db785169428",
        "IPY_MODEL_2d08a8b01fc6451a9adf6b5cb7029735",
        "IPY_MODEL_62890b7b10ab4eb899bff65d498d3b78"
       ],
       "layout": "IPY_MODEL_3a863df150e940a8a25f21ca1adc515e"
      }
     },
     "51fbe7134a5046f1846d672742ce4966": {
      "model_module": "@jupyter-widgets/controls",
      "model_module_version": "2.0.0",
      "model_name": "HTMLModel",
      "state": {
       "layout": "IPY_MODEL_10bbdd21298f4f74b46a00551585f72c",
       "style": "IPY_MODEL_052f584c8959499fa19f75bdeb36dc7d",
       "value": " 100/100 [01:07&lt;00:00,  1.55it/s]"
      }
     },
     "531bd76769bf42b0834bbd9215d5fa88": {
      "model_module": "@jupyter-widgets/controls",
      "model_module_version": "2.0.0",
      "model_name": "HBoxModel",
      "state": {
       "children": [
        "IPY_MODEL_be9ededd693e4cd497d11d09a881dec2",
        "IPY_MODEL_5e993c350cb443dd9f5a52a4f5a712e6",
        "IPY_MODEL_f4bb21105b5b416084001d14a8c561c1"
       ],
       "layout": "IPY_MODEL_9a86c77aef304bd9ae8400afcbebb84e"
      }
     },
     "53345c4d03804c57a3396f35c456ec9a": {
      "model_module": "@jupyter-widgets/controls",
      "model_module_version": "2.0.0",
      "model_name": "ProgressStyleModel",
      "state": {
       "description_width": ""
      }
     },
     "53c171f5490b49d1be84f2c59db0e695": {
      "model_module": "@jupyter-widgets/base",
      "model_module_version": "2.0.0",
      "model_name": "LayoutModel",
      "state": {}
     },
     "55dc2f8870824c6782595f3898d96afc": {
      "model_module": "@jupyter-widgets/controls",
      "model_module_version": "2.0.0",
      "model_name": "HTMLStyleModel",
      "state": {
       "description_width": "",
       "font_size": null,
       "text_color": null
      }
     },
     "56c1139e0faf46d490b5043cb50dd723": {
      "model_module": "@jupyter-widgets/base",
      "model_module_version": "2.0.0",
      "model_name": "LayoutModel",
      "state": {}
     },
     "56d141a850e048f79e4f0bfd45eedf93": {
      "model_module": "@jupyter-widgets/controls",
      "model_module_version": "2.0.0",
      "model_name": "ProgressStyleModel",
      "state": {
       "description_width": ""
      }
     },
     "5853be820f0746889a00e3a6217fb948": {
      "model_module": "@jupyter-widgets/base",
      "model_module_version": "2.0.0",
      "model_name": "LayoutModel",
      "state": {}
     },
     "58db30d3273441b8b00d479801e96f11": {
      "model_module": "@jupyter-widgets/controls",
      "model_module_version": "2.0.0",
      "model_name": "ProgressStyleModel",
      "state": {
       "description_width": ""
      }
     },
     "5c216926709e40b1aa65bf559c412c35": {
      "model_module": "@jupyter-widgets/controls",
      "model_module_version": "2.0.0",
      "model_name": "HTMLModel",
      "state": {
       "layout": "IPY_MODEL_4fab78ce7dcd4be4aed78af3e31b00f9",
       "style": "IPY_MODEL_addd7a83c8404967b284b35a48b1d8ba",
       "value": " 100/100 [01:02&lt;00:00,  1.59it/s]"
      }
     },
     "5d1222f8eecb4084ae4e848245ecf4f0": {
      "model_module": "@jupyter-widgets/controls",
      "model_module_version": "2.0.0",
      "model_name": "HTMLModel",
      "state": {
       "layout": "IPY_MODEL_0b1bbab890f641f9bb0cf4dbf67fd2f0",
       "style": "IPY_MODEL_30715643e9a642b3b1e8772dbb7ef056",
       "value": " 100/100 [01:21&lt;00:00,  1.64it/s]"
      }
     },
     "5d7f0076ac164471a193dc7fcddd41da": {
      "model_module": "@jupyter-widgets/controls",
      "model_module_version": "2.0.0",
      "model_name": "HBoxModel",
      "state": {
       "children": [
        "IPY_MODEL_8cc7b0eedb714385b132a548c3394304",
        "IPY_MODEL_28e677a1ae7146e6821ca84092425efc",
        "IPY_MODEL_9dcc0edb6f5b4fd7ad5fa2fa445ffaeb"
       ],
       "layout": "IPY_MODEL_d36744d868054b7d8a604598de720bb0"
      }
     },
     "5dd77b1c81014006a690fd9280a32abf": {
      "model_module": "@jupyter-widgets/base",
      "model_module_version": "2.0.0",
      "model_name": "LayoutModel",
      "state": {}
     },
     "5e993c350cb443dd9f5a52a4f5a712e6": {
      "model_module": "@jupyter-widgets/controls",
      "model_module_version": "2.0.0",
      "model_name": "FloatProgressModel",
      "state": {
       "bar_style": "success",
       "layout": "IPY_MODEL_4147f0b9a8f544dfab973c66f94f8930",
       "style": "IPY_MODEL_cd0c6b6a49ab4e1ab1b337e8372227d7",
       "value": 100
      }
     },
     "614fae18389549aba6313a15d066c161": {
      "model_module": "@jupyter-widgets/base",
      "model_module_version": "2.0.0",
      "model_name": "LayoutModel",
      "state": {}
     },
     "61b991cf707840e18dd725de4178f210": {
      "model_module": "@jupyter-widgets/controls",
      "model_module_version": "2.0.0",
      "model_name": "HTMLStyleModel",
      "state": {
       "description_width": "",
       "font_size": null,
       "text_color": null
      }
     },
     "62890b7b10ab4eb899bff65d498d3b78": {
      "model_module": "@jupyter-widgets/controls",
      "model_module_version": "2.0.0",
      "model_name": "HTMLModel",
      "state": {
       "layout": "IPY_MODEL_f268f26c8b6845839ca3d2e3fce8e251",
       "style": "IPY_MODEL_2a913f96eca24fef8ace42b60d5d3940",
       "value": " 100/100 [01:00&lt;00:00,  1.61it/s]"
      }
     },
     "63ed4b7ba46940e5b0c35b970cd14f0f": {
      "model_module": "@jupyter-widgets/base",
      "model_module_version": "2.0.0",
      "model_name": "LayoutModel",
      "state": {}
     },
     "67c39728b4b94c508481ce582064a635": {
      "model_module": "@jupyter-widgets/controls",
      "model_module_version": "2.0.0",
      "model_name": "HTMLModel",
      "state": {
       "layout": "IPY_MODEL_12ee9a4f41b14139a9199395f6cb2e5c",
       "style": "IPY_MODEL_a778119b43bf4462a789b7af7f9d1a26",
       "value": "100%"
      }
     },
     "68125edcd4034a7ea4d3682ca5b7ad57": {
      "model_module": "@jupyter-widgets/controls",
      "model_module_version": "2.0.0",
      "model_name": "HTMLStyleModel",
      "state": {
       "description_width": "",
       "font_size": null,
       "text_color": null
      }
     },
     "686c607c9c9c40cc8a84bb67415bdc17": {
      "model_module": "@jupyter-widgets/controls",
      "model_module_version": "2.0.0",
      "model_name": "HTMLStyleModel",
      "state": {
       "description_width": "",
       "font_size": null,
       "text_color": null
      }
     },
     "696f4ffc7f0b48308f7c563e88cb7787": {
      "model_module": "@jupyter-widgets/base",
      "model_module_version": "2.0.0",
      "model_name": "LayoutModel",
      "state": {}
     },
     "6dcdc54d999b494bb3225a1e9632cf3e": {
      "model_module": "@jupyter-widgets/controls",
      "model_module_version": "2.0.0",
      "model_name": "HBoxModel",
      "state": {
       "children": [
        "IPY_MODEL_0b8d1f1a9a9a4760992e9763a3868a00",
        "IPY_MODEL_013c0ec1e0df42868c5f5e9f48c43a23",
        "IPY_MODEL_074bd28f57df4bba9305d461cd5440e5"
       ],
       "layout": "IPY_MODEL_7b5b18a71edd43daa8517ecbcb5efb14"
      }
     },
     "6ddcdd0ec26446eb8052e3c76401eec5": {
      "model_module": "@jupyter-widgets/controls",
      "model_module_version": "2.0.0",
      "model_name": "HTMLStyleModel",
      "state": {
       "description_width": "",
       "font_size": null,
       "text_color": null
      }
     },
     "6e1a432aef124b5aa31e99dd16c96ea1": {
      "model_module": "@jupyter-widgets/base",
      "model_module_version": "2.0.0",
      "model_name": "LayoutModel",
      "state": {}
     },
     "6f0ec49e564f4e86bc43c7fcb66decaf": {
      "model_module": "@jupyter-widgets/controls",
      "model_module_version": "2.0.0",
      "model_name": "ProgressStyleModel",
      "state": {
       "description_width": ""
      }
     },
     "6fcaae51a47248e5b16ae43220b6877d": {
      "model_module": "@jupyter-widgets/controls",
      "model_module_version": "2.0.0",
      "model_name": "FloatProgressModel",
      "state": {
       "bar_style": "success",
       "layout": "IPY_MODEL_151284445bc544b5b65830d55ebec710",
       "style": "IPY_MODEL_bdc5abdcea184d6b8d3574f5dddacde4",
       "value": 100
      }
     },
     "70f3f46fd2c44a7eabd4b8dca83116ca": {
      "model_module": "@jupyter-widgets/base",
      "model_module_version": "2.0.0",
      "model_name": "LayoutModel",
      "state": {}
     },
     "72bab365fde94ca1ad87abc700f31473": {
      "model_module": "@jupyter-widgets/controls",
      "model_module_version": "2.0.0",
      "model_name": "HTMLStyleModel",
      "state": {
       "description_width": "",
       "font_size": null,
       "text_color": null
      }
     },
     "747af1ff7b5b455282810d7a111b75c6": {
      "model_module": "@jupyter-widgets/controls",
      "model_module_version": "2.0.0",
      "model_name": "HTMLStyleModel",
      "state": {
       "description_width": "",
       "font_size": null,
       "text_color": null
      }
     },
     "74e381e6e93947ab8a467f058244cfb4": {
      "model_module": "@jupyter-widgets/controls",
      "model_module_version": "2.0.0",
      "model_name": "HTMLStyleModel",
      "state": {
       "description_width": "",
       "font_size": null,
       "text_color": null
      }
     },
     "7541073b4607420d85a5b7ecebdcbdf2": {
      "model_module": "@jupyter-widgets/base",
      "model_module_version": "2.0.0",
      "model_name": "LayoutModel",
      "state": {}
     },
     "7549e6382d65477e894107515bddd65f": {
      "model_module": "@jupyter-widgets/controls",
      "model_module_version": "2.0.0",
      "model_name": "HTMLStyleModel",
      "state": {
       "description_width": "",
       "font_size": null,
       "text_color": null
      }
     },
     "75f6f3f279f24ed4abf12b4d40c365a3": {
      "model_module": "@jupyter-widgets/controls",
      "model_module_version": "2.0.0",
      "model_name": "HTMLModel",
      "state": {
       "layout": "IPY_MODEL_c97ff3a78e454f79abad196add8371b4",
       "style": "IPY_MODEL_7549e6382d65477e894107515bddd65f",
       "value": "100%"
      }
     },
     "7710b01a9e7c41a9ae5e1320ab522d51": {
      "model_module": "@jupyter-widgets/base",
      "model_module_version": "2.0.0",
      "model_name": "LayoutModel",
      "state": {}
     },
     "7786221cf2e74e9a84d1e184b2de5798": {
      "model_module": "@jupyter-widgets/base",
      "model_module_version": "2.0.0",
      "model_name": "LayoutModel",
      "state": {}
     },
     "7847cd861dca47b4a1898be93f1b38eb": {
      "model_module": "@jupyter-widgets/base",
      "model_module_version": "2.0.0",
      "model_name": "LayoutModel",
      "state": {}
     },
     "7b5b18a71edd43daa8517ecbcb5efb14": {
      "model_module": "@jupyter-widgets/base",
      "model_module_version": "2.0.0",
      "model_name": "LayoutModel",
      "state": {}
     },
     "7c20005b639b4b658de3f0e92f045890": {
      "model_module": "@jupyter-widgets/base",
      "model_module_version": "2.0.0",
      "model_name": "LayoutModel",
      "state": {}
     },
     "7c7979f046ab4906abbcc0d594108cb1": {
      "model_module": "@jupyter-widgets/controls",
      "model_module_version": "2.0.0",
      "model_name": "FloatProgressModel",
      "state": {
       "bar_style": "success",
       "layout": "IPY_MODEL_82c09e2593ac4fb4bccdf8d6de7440e5",
       "style": "IPY_MODEL_6f0ec49e564f4e86bc43c7fcb66decaf",
       "value": 100
      }
     },
     "7c9365d521704d0586c2e4fcc1cf52d7": {
      "model_module": "@jupyter-widgets/controls",
      "model_module_version": "2.0.0",
      "model_name": "HTMLModel",
      "state": {
       "layout": "IPY_MODEL_97fa5a332e5f4d15b630dfacb20c9ee7",
       "style": "IPY_MODEL_686c607c9c9c40cc8a84bb67415bdc17",
       "value": "100%"
      }
     },
     "7f3bce9fd53a43aead4fae1f92bf2d71": {
      "model_module": "@jupyter-widgets/controls",
      "model_module_version": "2.0.0",
      "model_name": "HTMLStyleModel",
      "state": {
       "description_width": "",
       "font_size": null,
       "text_color": null
      }
     },
     "819106018c0243a4b05d8c9330f232f1": {
      "model_module": "@jupyter-widgets/base",
      "model_module_version": "2.0.0",
      "model_name": "LayoutModel",
      "state": {}
     },
     "821680a189814b59a6a1af4d62d4e277": {
      "model_module": "@jupyter-widgets/base",
      "model_module_version": "2.0.0",
      "model_name": "LayoutModel",
      "state": {}
     },
     "82b804625eb246e1bdf61bfacd2bd912": {
      "model_module": "@jupyter-widgets/controls",
      "model_module_version": "2.0.0",
      "model_name": "ProgressStyleModel",
      "state": {
       "description_width": ""
      }
     },
     "82c09e2593ac4fb4bccdf8d6de7440e5": {
      "model_module": "@jupyter-widgets/base",
      "model_module_version": "2.0.0",
      "model_name": "LayoutModel",
      "state": {}
     },
     "82eecbcc39e9401dbbf044d9182e224a": {
      "model_module": "@jupyter-widgets/base",
      "model_module_version": "2.0.0",
      "model_name": "LayoutModel",
      "state": {}
     },
     "83aac17dbf1e4d4b96f8ba640fda4bca": {
      "model_module": "@jupyter-widgets/controls",
      "model_module_version": "2.0.0",
      "model_name": "HTMLStyleModel",
      "state": {
       "description_width": "",
       "font_size": null,
       "text_color": null
      }
     },
     "8491f18bc09344c9ad1ab2ac9935ab2c": {
      "model_module": "@jupyter-widgets/controls",
      "model_module_version": "2.0.0",
      "model_name": "HBoxModel",
      "state": {
       "children": [
        "IPY_MODEL_e25fd1db5b344e61b64042035d5b74c5",
        "IPY_MODEL_2eb066ad92d84fc1af4065ddf4d27aad",
        "IPY_MODEL_19546840b3dc471b84e1e1500634ce68"
       ],
       "layout": "IPY_MODEL_53c171f5490b49d1be84f2c59db0e695"
      }
     },
     "852fc7c4ffd9400db85aca4af6fad759": {
      "model_module": "@jupyter-widgets/controls",
      "model_module_version": "2.0.0",
      "model_name": "HTMLModel",
      "state": {
       "layout": "IPY_MODEL_56c1139e0faf46d490b5043cb50dd723",
       "style": "IPY_MODEL_1980687ad91945c88a1a51a91e6bed62",
       "value": " 100/100 [00:59&lt;00:00,  1.80it/s]"
      }
     },
     "859b8e2cc7b84ca3b7d1816e98abead0": {
      "model_module": "@jupyter-widgets/controls",
      "model_module_version": "2.0.0",
      "model_name": "HTMLStyleModel",
      "state": {
       "description_width": "",
       "font_size": null,
       "text_color": null
      }
     },
     "8845f5b153204156a82f2747c4d3ac86": {
      "model_module": "@jupyter-widgets/controls",
      "model_module_version": "2.0.0",
      "model_name": "ProgressStyleModel",
      "state": {
       "description_width": ""
      }
     },
     "885a8dc596fb45809b66a19639d75e6b": {
      "model_module": "@jupyter-widgets/controls",
      "model_module_version": "2.0.0",
      "model_name": "ProgressStyleModel",
      "state": {
       "description_width": ""
      }
     },
     "89f4fca16d1144ca9e703280a3abd69f": {
      "model_module": "@jupyter-widgets/controls",
      "model_module_version": "2.0.0",
      "model_name": "HTMLStyleModel",
      "state": {
       "description_width": "",
       "font_size": null,
       "text_color": null
      }
     },
     "8b7b5558d3b04a0882832eb00e68c3b9": {
      "model_module": "@jupyter-widgets/base",
      "model_module_version": "2.0.0",
      "model_name": "LayoutModel",
      "state": {}
     },
     "8c3593d23895422e80d5b3021e5be211": {
      "model_module": "@jupyter-widgets/controls",
      "model_module_version": "2.0.0",
      "model_name": "HTMLStyleModel",
      "state": {
       "description_width": "",
       "font_size": null,
       "text_color": null
      }
     },
     "8cc08359f8f04784b70d94b288ea24ab": {
      "model_module": "@jupyter-widgets/controls",
      "model_module_version": "2.0.0",
      "model_name": "HTMLStyleModel",
      "state": {
       "description_width": "",
       "font_size": null,
       "text_color": null
      }
     },
     "8cc7b0eedb714385b132a548c3394304": {
      "model_module": "@jupyter-widgets/controls",
      "model_module_version": "2.0.0",
      "model_name": "HTMLModel",
      "state": {
       "layout": "IPY_MODEL_e7ab697b26fc43b684663249465cf913",
       "style": "IPY_MODEL_8cc08359f8f04784b70d94b288ea24ab",
       "value": "100%"
      }
     },
     "8d3a1c0d6e48442d8bb12e5e979a77ba": {
      "model_module": "@jupyter-widgets/controls",
      "model_module_version": "2.0.0",
      "model_name": "FloatProgressModel",
      "state": {
       "bar_style": "success",
       "layout": "IPY_MODEL_7541073b4607420d85a5b7ecebdcbdf2",
       "style": "IPY_MODEL_f4b7dbc0387a459bad8ad5d6b01a3e3a",
       "value": 100
      }
     },
     "8eeb21ff272047df973e2067fa01f9a6": {
      "model_module": "@jupyter-widgets/controls",
      "model_module_version": "2.0.0",
      "model_name": "HBoxModel",
      "state": {
       "children": [
        "IPY_MODEL_e843d3cdf56f49b89539878d1c7a2e85",
        "IPY_MODEL_d052ef7922174e399b557292d4a47f66",
        "IPY_MODEL_00136827c5154525ac5dcd963ac00ee7"
       ],
       "layout": "IPY_MODEL_c70b1b197d0d4ac8ac3bf95403500a94"
      }
     },
     "8eedd1a1dd0d41509cb61d7afbd02b82": {
      "model_module": "@jupyter-widgets/controls",
      "model_module_version": "2.0.0",
      "model_name": "HTMLStyleModel",
      "state": {
       "description_width": "",
       "font_size": null,
       "text_color": null
      }
     },
     "901f821703064e6ea8b19e1abb5dc423": {
      "model_module": "@jupyter-widgets/controls",
      "model_module_version": "2.0.0",
      "model_name": "FloatProgressModel",
      "state": {
       "bar_style": "success",
       "layout": "IPY_MODEL_2c71b02aa4504866a96bb80e5e7cf2a2",
       "style": "IPY_MODEL_97ba250a133447b389c97ae2a24bb9f4",
       "value": 100
      }
     },
     "93bcbfb3b2274b9daad477f5fd6ed626": {
      "model_module": "@jupyter-widgets/controls",
      "model_module_version": "2.0.0",
      "model_name": "HTMLModel",
      "state": {
       "layout": "IPY_MODEL_5dd77b1c81014006a690fd9280a32abf",
       "style": "IPY_MODEL_35885dca39f74a168df5ba9a08f3b7ff",
       "value": "100%"
      }
     },
     "94210e15e3674921a2f99a134ded4bfb": {
      "model_module": "@jupyter-widgets/base",
      "model_module_version": "2.0.0",
      "model_name": "LayoutModel",
      "state": {}
     },
     "944a696c56714c74b05d40f07a7f24c9": {
      "model_module": "@jupyter-widgets/controls",
      "model_module_version": "2.0.0",
      "model_name": "HBoxModel",
      "state": {
       "children": [
        "IPY_MODEL_2de40787d97146b49aafa522f5bbf334",
        "IPY_MODEL_e1d121167fcb4331856629e6e8be4a6c",
        "IPY_MODEL_852fc7c4ffd9400db85aca4af6fad759"
       ],
       "layout": "IPY_MODEL_4b666b096a9c425ea58d4c25b1b17c22"
      }
     },
     "954bba08a8fb47f4b0a05416d07c6ed6": {
      "model_module": "@jupyter-widgets/controls",
      "model_module_version": "2.0.0",
      "model_name": "HTMLModel",
      "state": {
       "layout": "IPY_MODEL_96e2017915a347a685e009485a84f2b6",
       "style": "IPY_MODEL_188099bf31f2489a9552fe8d8375100e",
       "value": " 100/100 [01:04&lt;00:00,  1.64it/s]"
      }
     },
     "968c05514053476ba321c9ed454095ca": {
      "model_module": "@jupyter-widgets/base",
      "model_module_version": "2.0.0",
      "model_name": "LayoutModel",
      "state": {}
     },
     "96e2017915a347a685e009485a84f2b6": {
      "model_module": "@jupyter-widgets/base",
      "model_module_version": "2.0.0",
      "model_name": "LayoutModel",
      "state": {}
     },
     "979c9e901ba64eb397aeed97a1f5d4c0": {
      "model_module": "@jupyter-widgets/base",
      "model_module_version": "2.0.0",
      "model_name": "LayoutModel",
      "state": {}
     },
     "97ba250a133447b389c97ae2a24bb9f4": {
      "model_module": "@jupyter-widgets/controls",
      "model_module_version": "2.0.0",
      "model_name": "ProgressStyleModel",
      "state": {
       "description_width": ""
      }
     },
     "97fa5a332e5f4d15b630dfacb20c9ee7": {
      "model_module": "@jupyter-widgets/base",
      "model_module_version": "2.0.0",
      "model_name": "LayoutModel",
      "state": {}
     },
     "9828c369c55644ec90fd6d7af3311098": {
      "model_module": "@jupyter-widgets/controls",
      "model_module_version": "2.0.0",
      "model_name": "ProgressStyleModel",
      "state": {
       "description_width": ""
      }
     },
     "9a280f6aa2484d41a4e99b831441804c": {
      "model_module": "@jupyter-widgets/base",
      "model_module_version": "2.0.0",
      "model_name": "LayoutModel",
      "state": {}
     },
     "9a86c77aef304bd9ae8400afcbebb84e": {
      "model_module": "@jupyter-widgets/base",
      "model_module_version": "2.0.0",
      "model_name": "LayoutModel",
      "state": {}
     },
     "9a99aaa31ba1447ab9120d1b5c171b43": {
      "model_module": "@jupyter-widgets/base",
      "model_module_version": "2.0.0",
      "model_name": "LayoutModel",
      "state": {}
     },
     "9dcc0edb6f5b4fd7ad5fa2fa445ffaeb": {
      "model_module": "@jupyter-widgets/controls",
      "model_module_version": "2.0.0",
      "model_name": "HTMLModel",
      "state": {
       "layout": "IPY_MODEL_10738dd2b030448da0e98bedb71cec47",
       "style": "IPY_MODEL_7f3bce9fd53a43aead4fae1f92bf2d71",
       "value": " 100/100 [01:03&lt;00:00,  1.66it/s]"
      }
     },
     "9e0b10842dbb4e5e8bc53c84aab9b6be": {
      "model_module": "@jupyter-widgets/controls",
      "model_module_version": "2.0.0",
      "model_name": "HTMLStyleModel",
      "state": {
       "description_width": "",
       "font_size": null,
       "text_color": null
      }
     },
     "a18b4dcaa7904320a4aec0a2e9758954": {
      "model_module": "@jupyter-widgets/controls",
      "model_module_version": "2.0.0",
      "model_name": "HTMLModel",
      "state": {
       "layout": "IPY_MODEL_d4a1b92c89b849efba912fdc02a3f476",
       "style": "IPY_MODEL_61b991cf707840e18dd725de4178f210",
       "value": "100%"
      }
     },
     "a3166ba998e548d49b9cd0a689060bd2": {
      "model_module": "@jupyter-widgets/base",
      "model_module_version": "2.0.0",
      "model_name": "LayoutModel",
      "state": {}
     },
     "a76b4bf787cf4f7a8e5a6ffb5337550e": {
      "model_module": "@jupyter-widgets/base",
      "model_module_version": "2.0.0",
      "model_name": "LayoutModel",
      "state": {}
     },
     "a778119b43bf4462a789b7af7f9d1a26": {
      "model_module": "@jupyter-widgets/controls",
      "model_module_version": "2.0.0",
      "model_name": "HTMLStyleModel",
      "state": {
       "description_width": "",
       "font_size": null,
       "text_color": null
      }
     },
     "a87d9d1d106144dc89590bfb457151ae": {
      "model_module": "@jupyter-widgets/controls",
      "model_module_version": "2.0.0",
      "model_name": "HBoxModel",
      "state": {
       "children": [
        "IPY_MODEL_319e3a69e6584979b44ae00ec9dab745",
        "IPY_MODEL_bdb6fb5c9e9446b2a993ee13e2627243",
        "IPY_MODEL_1569fc3babf64200ae9850977f4acc5a"
       ],
       "layout": "IPY_MODEL_a3166ba998e548d49b9cd0a689060bd2"
      }
     },
     "addd7a83c8404967b284b35a48b1d8ba": {
      "model_module": "@jupyter-widgets/controls",
      "model_module_version": "2.0.0",
      "model_name": "HTMLStyleModel",
      "state": {
       "description_width": "",
       "font_size": null,
       "text_color": null
      }
     },
     "adf8305a941f4d57a94b5d44ed90e28f": {
      "model_module": "@jupyter-widgets/controls",
      "model_module_version": "2.0.0",
      "model_name": "HTMLStyleModel",
      "state": {
       "description_width": "",
       "font_size": null,
       "text_color": null
      }
     },
     "ae1e0acee46345809535a68068eaad23": {
      "model_module": "@jupyter-widgets/controls",
      "model_module_version": "2.0.0",
      "model_name": "FloatProgressModel",
      "state": {
       "bar_style": "success",
       "layout": "IPY_MODEL_b7cdbcdfe1da4223980e04851e26fa01",
       "style": "IPY_MODEL_885a8dc596fb45809b66a19639d75e6b",
       "value": 100
      }
     },
     "af72e00e3db1451f843951dc4afd9617": {
      "model_module": "@jupyter-widgets/base",
      "model_module_version": "2.0.0",
      "model_name": "LayoutModel",
      "state": {}
     },
     "af87a905819f4cbfa8615de865761a56": {
      "model_module": "@jupyter-widgets/controls",
      "model_module_version": "2.0.0",
      "model_name": "HTMLModel",
      "state": {
       "layout": "IPY_MODEL_fde82d9f2009494e87f4a47721b6879f",
       "style": "IPY_MODEL_d7eea7714e2e4d3797b464ea6a3275eb",
       "value": " 100/100 [01:06&lt;00:00,  1.53it/s]"
      }
     },
     "b640d92296df48c6be9a2ce946316b32": {
      "model_module": "@jupyter-widgets/controls",
      "model_module_version": "2.0.0",
      "model_name": "HBoxModel",
      "state": {
       "children": [
        "IPY_MODEL_ee29692203474547b68b39d6e3126c96",
        "IPY_MODEL_e741e9e6266b47019b0193ec71425fc8",
        "IPY_MODEL_5d1222f8eecb4084ae4e848245ecf4f0"
       ],
       "layout": "IPY_MODEL_821680a189814b59a6a1af4d62d4e277"
      }
     },
     "b7cdbcdfe1da4223980e04851e26fa01": {
      "model_module": "@jupyter-widgets/base",
      "model_module_version": "2.0.0",
      "model_name": "LayoutModel",
      "state": {}
     },
     "bad4ff197f3249cd837f9a92a56f88f0": {
      "model_module": "@jupyter-widgets/controls",
      "model_module_version": "2.0.0",
      "model_name": "ProgressStyleModel",
      "state": {
       "description_width": ""
      }
     },
     "bb064262281540a1a80305ba30731be1": {
      "model_module": "@jupyter-widgets/controls",
      "model_module_version": "2.0.0",
      "model_name": "FloatProgressModel",
      "state": {
       "bar_style": "success",
       "layout": "IPY_MODEL_e16b82961e45455d9660ca2a5f4c06a7",
       "style": "IPY_MODEL_53345c4d03804c57a3396f35c456ec9a",
       "value": 100
      }
     },
     "bc5d84145cc04721b17129b21d8dd835": {
      "model_module": "@jupyter-widgets/base",
      "model_module_version": "2.0.0",
      "model_name": "LayoutModel",
      "state": {}
     },
     "bce279f6bd004d88b6a8a8d9e24c939f": {
      "model_module": "@jupyter-widgets/controls",
      "model_module_version": "2.0.0",
      "model_name": "HTMLModel",
      "state": {
       "layout": "IPY_MODEL_1c41e27410784faa81ee87aa55373c8f",
       "style": "IPY_MODEL_071460920daf4764ba52d5663c294f75",
       "value": "100%"
      }
     },
     "bd49bcd7e5a2411c862b4191a152593d": {
      "model_module": "@jupyter-widgets/controls",
      "model_module_version": "2.0.0",
      "model_name": "ProgressStyleModel",
      "state": {
       "description_width": ""
      }
     },
     "bdb6fb5c9e9446b2a993ee13e2627243": {
      "model_module": "@jupyter-widgets/controls",
      "model_module_version": "2.0.0",
      "model_name": "FloatProgressModel",
      "state": {
       "bar_style": "success",
       "layout": "IPY_MODEL_7786221cf2e74e9a84d1e184b2de5798",
       "style": "IPY_MODEL_bd49bcd7e5a2411c862b4191a152593d",
       "value": 100
      }
     },
     "bdc5abdcea184d6b8d3574f5dddacde4": {
      "model_module": "@jupyter-widgets/controls",
      "model_module_version": "2.0.0",
      "model_name": "ProgressStyleModel",
      "state": {
       "description_width": ""
      }
     },
     "be13cab2f18b4278a4e9ee2d111d55cf": {
      "model_module": "@jupyter-widgets/base",
      "model_module_version": "2.0.0",
      "model_name": "LayoutModel",
      "state": {}
     },
     "be9ededd693e4cd497d11d09a881dec2": {
      "model_module": "@jupyter-widgets/controls",
      "model_module_version": "2.0.0",
      "model_name": "HTMLModel",
      "state": {
       "layout": "IPY_MODEL_696f4ffc7f0b48308f7c563e88cb7787",
       "style": "IPY_MODEL_f45618f9423344228862e5094dcac8d7",
       "value": "100%"
      }
     },
     "bef9c58cd4584b78bf37ece213c57e1a": {
      "model_module": "@jupyter-widgets/base",
      "model_module_version": "2.0.0",
      "model_name": "LayoutModel",
      "state": {}
     },
     "bf02a413aafb4c7cb877a34d327b5842": {
      "model_module": "@jupyter-widgets/base",
      "model_module_version": "2.0.0",
      "model_name": "LayoutModel",
      "state": {}
     },
     "c4156fb3e5c147c99789eee99d60511a": {
      "model_module": "@jupyter-widgets/base",
      "model_module_version": "2.0.0",
      "model_name": "LayoutModel",
      "state": {}
     },
     "c4e6b7547b02478d84a1a0f18588371f": {
      "model_module": "@jupyter-widgets/controls",
      "model_module_version": "2.0.0",
      "model_name": "HTMLModel",
      "state": {
       "layout": "IPY_MODEL_41e5273f7c2b4129a4fbee5ea824503f",
       "style": "IPY_MODEL_ce61ff339cb143f5ae28aea7ed3d93ee",
       "value": " 100/100 [01:01&lt;00:00,  1.58it/s]"
      }
     },
     "c541344e0ea940abad360d0496fd38dd": {
      "model_module": "@jupyter-widgets/controls",
      "model_module_version": "2.0.0",
      "model_name": "HBoxModel",
      "state": {
       "children": [
        "IPY_MODEL_bce279f6bd004d88b6a8a8d9e24c939f",
        "IPY_MODEL_c63077fec62f4d1c880e39e5bcb2bc1d",
        "IPY_MODEL_422a61f245454d73847112af2bd073e4"
       ],
       "layout": "IPY_MODEL_9a280f6aa2484d41a4e99b831441804c"
      }
     },
     "c63077fec62f4d1c880e39e5bcb2bc1d": {
      "model_module": "@jupyter-widgets/controls",
      "model_module_version": "2.0.0",
      "model_name": "FloatProgressModel",
      "state": {
       "bar_style": "success",
       "layout": "IPY_MODEL_11852eff8cf34e5494bf1a4f228b46d5",
       "style": "IPY_MODEL_8845f5b153204156a82f2747c4d3ac86",
       "value": 100
      }
     },
     "c646bf20823d466c8f72081295e53d17": {
      "model_module": "@jupyter-widgets/base",
      "model_module_version": "2.0.0",
      "model_name": "LayoutModel",
      "state": {}
     },
     "c70b1b197d0d4ac8ac3bf95403500a94": {
      "model_module": "@jupyter-widgets/base",
      "model_module_version": "2.0.0",
      "model_name": "LayoutModel",
      "state": {}
     },
     "c97ff3a78e454f79abad196add8371b4": {
      "model_module": "@jupyter-widgets/base",
      "model_module_version": "2.0.0",
      "model_name": "LayoutModel",
      "state": {}
     },
     "c983bb04fa3f4a4e86d53dddd3231a32": {
      "model_module": "@jupyter-widgets/controls",
      "model_module_version": "2.0.0",
      "model_name": "FloatProgressModel",
      "state": {
       "bar_style": "success",
       "layout": "IPY_MODEL_04d8f8c084f44889b7cc7fb0d5a46bfd",
       "style": "IPY_MODEL_ea0d8266052e400aa87b0ba8df285e6c",
       "value": 100
      }
     },
     "ccd98a14891c4750a8abf1abb15b7e6a": {
      "model_module": "@jupyter-widgets/controls",
      "model_module_version": "2.0.0",
      "model_name": "HTMLModel",
      "state": {
       "layout": "IPY_MODEL_9a99aaa31ba1447ab9120d1b5c171b43",
       "style": "IPY_MODEL_89f4fca16d1144ca9e703280a3abd69f",
       "value": "100%"
      }
     },
     "cd0c6b6a49ab4e1ab1b337e8372227d7": {
      "model_module": "@jupyter-widgets/controls",
      "model_module_version": "2.0.0",
      "model_name": "ProgressStyleModel",
      "state": {
       "description_width": ""
      }
     },
     "cd7c02882b3042d39f72192130189167": {
      "model_module": "@jupyter-widgets/base",
      "model_module_version": "2.0.0",
      "model_name": "LayoutModel",
      "state": {}
     },
     "cdc88ada11ef431aa8cc0c3301b2b245": {
      "model_module": "@jupyter-widgets/base",
      "model_module_version": "2.0.0",
      "model_name": "LayoutModel",
      "state": {}
     },
     "ce61ff339cb143f5ae28aea7ed3d93ee": {
      "model_module": "@jupyter-widgets/controls",
      "model_module_version": "2.0.0",
      "model_name": "HTMLStyleModel",
      "state": {
       "description_width": "",
       "font_size": null,
       "text_color": null
      }
     },
     "d012727a0037491e87044d905f1aaac9": {
      "model_module": "@jupyter-widgets/base",
      "model_module_version": "2.0.0",
      "model_name": "LayoutModel",
      "state": {}
     },
     "d052ef7922174e399b557292d4a47f66": {
      "model_module": "@jupyter-widgets/controls",
      "model_module_version": "2.0.0",
      "model_name": "FloatProgressModel",
      "state": {
       "bar_style": "success",
       "layout": "IPY_MODEL_201a88686aac4698915b90dbcaaa3c91",
       "style": "IPY_MODEL_2d983be83bc546b49effc402132c4ac7",
       "value": 100
      }
     },
     "d210d0db87d24e60a10b7d777e4af898": {
      "model_module": "@jupyter-widgets/controls",
      "model_module_version": "2.0.0",
      "model_name": "ProgressStyleModel",
      "state": {
       "description_width": ""
      }
     },
     "d33a6b42d8104301bf2242f9a5339c11": {
      "model_module": "@jupyter-widgets/base",
      "model_module_version": "2.0.0",
      "model_name": "LayoutModel",
      "state": {}
     },
     "d36744d868054b7d8a604598de720bb0": {
      "model_module": "@jupyter-widgets/base",
      "model_module_version": "2.0.0",
      "model_name": "LayoutModel",
      "state": {}
     },
     "d3f123ed2ca24baaaa7dfc83d533710d": {
      "model_module": "@jupyter-widgets/controls",
      "model_module_version": "2.0.0",
      "model_name": "FloatProgressModel",
      "state": {
       "bar_style": "success",
       "layout": "IPY_MODEL_1769b9e2d6ee4141b6e7e7c3b30d32df",
       "style": "IPY_MODEL_5003661c2d7c4ed88b7100862d1bc095",
       "value": 100
      }
     },
     "d4a1b92c89b849efba912fdc02a3f476": {
      "model_module": "@jupyter-widgets/base",
      "model_module_version": "2.0.0",
      "model_name": "LayoutModel",
      "state": {}
     },
     "d5c68c898a2f4642ad45dd0a61299d9b": {
      "model_module": "@jupyter-widgets/controls",
      "model_module_version": "2.0.0",
      "model_name": "HTMLModel",
      "state": {
       "layout": "IPY_MODEL_c646bf20823d466c8f72081295e53d17",
       "style": "IPY_MODEL_3409eab8c89a440fb6b089b89ae89167",
       "value": "100%"
      }
     },
     "d713726d79fd4d3c952c1bb73bb65b68": {
      "model_module": "@jupyter-widgets/controls",
      "model_module_version": "2.0.0",
      "model_name": "HTMLModel",
      "state": {
       "layout": "IPY_MODEL_1844dcea2d764c9a901f0890ecb189d3",
       "style": "IPY_MODEL_0e4fbd2c6c884e7caf711773133d44c2",
       "value": " 100/100 [00:59&lt;00:00,  1.78it/s]"
      }
     },
     "d781903d8fac498f9c6422f745c9b093": {
      "model_module": "@jupyter-widgets/controls",
      "model_module_version": "2.0.0",
      "model_name": "HBoxModel",
      "state": {
       "children": [
        "IPY_MODEL_4c085a9ffccb4577935e61125bd9bd60",
        "IPY_MODEL_6fcaae51a47248e5b16ae43220b6877d",
        "IPY_MODEL_5c216926709e40b1aa65bf559c412c35"
       ],
       "layout": "IPY_MODEL_c4156fb3e5c147c99789eee99d60511a"
      }
     },
     "d7eea7714e2e4d3797b464ea6a3275eb": {
      "model_module": "@jupyter-widgets/controls",
      "model_module_version": "2.0.0",
      "model_name": "HTMLStyleModel",
      "state": {
       "description_width": "",
       "font_size": null,
       "text_color": null
      }
     },
     "d995e4a171214204a5e0b3b8a5ad4133": {
      "model_module": "@jupyter-widgets/controls",
      "model_module_version": "2.0.0",
      "model_name": "HBoxModel",
      "state": {
       "children": [
        "IPY_MODEL_7c9365d521704d0586c2e4fcc1cf52d7",
        "IPY_MODEL_ae1e0acee46345809535a68068eaad23",
        "IPY_MODEL_2b6839d99e6d428cbf8281c57b725837"
       ],
       "layout": "IPY_MODEL_be13cab2f18b4278a4e9ee2d111d55cf"
      }
     },
     "da128999b7cd4e5dbba30042105414ea": {
      "model_module": "@jupyter-widgets/controls",
      "model_module_version": "2.0.0",
      "model_name": "HTMLStyleModel",
      "state": {
       "description_width": "",
       "font_size": null,
       "text_color": null
      }
     },
     "db0ba726af6c4e358dfae0a8df17a832": {
      "model_module": "@jupyter-widgets/controls",
      "model_module_version": "2.0.0",
      "model_name": "HBoxModel",
      "state": {
       "children": [
        "IPY_MODEL_93bcbfb3b2274b9daad477f5fd6ed626",
        "IPY_MODEL_7c7979f046ab4906abbcc0d594108cb1",
        "IPY_MODEL_d713726d79fd4d3c952c1bb73bb65b68"
       ],
       "layout": "IPY_MODEL_dda200a166044cb28ae8c8e1478433bb"
      }
     },
     "dc5cf20013e04850ba22d36c577ed584": {
      "model_module": "@jupyter-widgets/controls",
      "model_module_version": "2.0.0",
      "model_name": "HTMLStyleModel",
      "state": {
       "description_width": "",
       "font_size": null,
       "text_color": null
      }
     },
     "dd50936f42134bb2a5bc7b228b6a8eb8": {
      "model_module": "@jupyter-widgets/base",
      "model_module_version": "2.0.0",
      "model_name": "LayoutModel",
      "state": {}
     },
     "dda200a166044cb28ae8c8e1478433bb": {
      "model_module": "@jupyter-widgets/base",
      "model_module_version": "2.0.0",
      "model_name": "LayoutModel",
      "state": {}
     },
     "deb40a65ad2e42f481938b3b76a32b3b": {
      "model_module": "@jupyter-widgets/controls",
      "model_module_version": "2.0.0",
      "model_name": "HTMLModel",
      "state": {
       "layout": "IPY_MODEL_94210e15e3674921a2f99a134ded4bfb",
       "style": "IPY_MODEL_da128999b7cd4e5dbba30042105414ea",
       "value": "100%"
      }
     },
     "df97119fc60345a5b588087c89e63d0e": {
      "model_module": "@jupyter-widgets/base",
      "model_module_version": "2.0.0",
      "model_name": "LayoutModel",
      "state": {}
     },
     "e0262ab3a8934f7d9625b27b576b5382": {
      "model_module": "@jupyter-widgets/controls",
      "model_module_version": "2.0.0",
      "model_name": "HTMLStyleModel",
      "state": {
       "description_width": "",
       "font_size": null,
       "text_color": null
      }
     },
     "e16b82961e45455d9660ca2a5f4c06a7": {
      "model_module": "@jupyter-widgets/base",
      "model_module_version": "2.0.0",
      "model_name": "LayoutModel",
      "state": {}
     },
     "e1d121167fcb4331856629e6e8be4a6c": {
      "model_module": "@jupyter-widgets/controls",
      "model_module_version": "2.0.0",
      "model_name": "FloatProgressModel",
      "state": {
       "bar_style": "success",
       "layout": "IPY_MODEL_bc5d84145cc04721b17129b21d8dd835",
       "style": "IPY_MODEL_d210d0db87d24e60a10b7d777e4af898",
       "value": 100
      }
     },
     "e25fd1db5b344e61b64042035d5b74c5": {
      "model_module": "@jupyter-widgets/controls",
      "model_module_version": "2.0.0",
      "model_name": "HTMLModel",
      "state": {
       "layout": "IPY_MODEL_82eecbcc39e9401dbbf044d9182e224a",
       "style": "IPY_MODEL_f84aced03d8e42a98f38d094a8067f1d",
       "value": "100%"
      }
     },
     "e4e53cb02266452e932128cd83f0e2b9": {
      "model_module": "@jupyter-widgets/controls",
      "model_module_version": "2.0.0",
      "model_name": "ProgressStyleModel",
      "state": {
       "description_width": ""
      }
     },
     "e732c6f5ab7144228af1f412f48e8443": {
      "model_module": "@jupyter-widgets/controls",
      "model_module_version": "2.0.0",
      "model_name": "HBoxModel",
      "state": {
       "children": [
        "IPY_MODEL_ccd98a14891c4750a8abf1abb15b7e6a",
        "IPY_MODEL_f1bed91ff21246539d1bab6fb8e2613b",
        "IPY_MODEL_0479a2ec136445f0a64a4bcf1b9fa334"
       ],
       "layout": "IPY_MODEL_bef9c58cd4584b78bf37ece213c57e1a"
      }
     },
     "e741e9e6266b47019b0193ec71425fc8": {
      "model_module": "@jupyter-widgets/controls",
      "model_module_version": "2.0.0",
      "model_name": "FloatProgressModel",
      "state": {
       "bar_style": "success",
       "layout": "IPY_MODEL_7847cd861dca47b4a1898be93f1b38eb",
       "style": "IPY_MODEL_9828c369c55644ec90fd6d7af3311098",
       "value": 100
      }
     },
     "e75ae5817ac344c0aa5c9489bb5b4e69": {
      "model_module": "@jupyter-widgets/controls",
      "model_module_version": "2.0.0",
      "model_name": "HTMLModel",
      "state": {
       "layout": "IPY_MODEL_d33a6b42d8104301bf2242f9a5339c11",
       "style": "IPY_MODEL_f0d8f9e7200c41318a49fb187f1a988a",
       "value": "100%"
      }
     },
     "e7ab697b26fc43b684663249465cf913": {
      "model_module": "@jupyter-widgets/base",
      "model_module_version": "2.0.0",
      "model_name": "LayoutModel",
      "state": {}
     },
     "e843d3cdf56f49b89539878d1c7a2e85": {
      "model_module": "@jupyter-widgets/controls",
      "model_module_version": "2.0.0",
      "model_name": "HTMLModel",
      "state": {
       "layout": "IPY_MODEL_7710b01a9e7c41a9ae5e1320ab522d51",
       "style": "IPY_MODEL_e0262ab3a8934f7d9625b27b576b5382",
       "value": "100%"
      }
     },
     "e9985544bafe4657b1ac2e9f25866fc3": {
      "model_module": "@jupyter-widgets/base",
      "model_module_version": "2.0.0",
      "model_name": "LayoutModel",
      "state": {}
     },
     "ea0d8266052e400aa87b0ba8df285e6c": {
      "model_module": "@jupyter-widgets/controls",
      "model_module_version": "2.0.0",
      "model_name": "ProgressStyleModel",
      "state": {
       "description_width": ""
      }
     },
     "eaec33a453a942128bf21d7d84b35b77": {
      "model_module": "@jupyter-widgets/base",
      "model_module_version": "2.0.0",
      "model_name": "LayoutModel",
      "state": {}
     },
     "ec9306b7fb16472c883b42a1d4225220": {
      "model_module": "@jupyter-widgets/controls",
      "model_module_version": "2.0.0",
      "model_name": "HTMLModel",
      "state": {
       "layout": "IPY_MODEL_bf02a413aafb4c7cb877a34d327b5842",
       "style": "IPY_MODEL_fd181778ae68451a9753ddba2b61c961",
       "value": "100%"
      }
     },
     "ee29692203474547b68b39d6e3126c96": {
      "model_module": "@jupyter-widgets/controls",
      "model_module_version": "2.0.0",
      "model_name": "HTMLModel",
      "state": {
       "layout": "IPY_MODEL_eaec33a453a942128bf21d7d84b35b77",
       "style": "IPY_MODEL_747af1ff7b5b455282810d7a111b75c6",
       "value": "100%"
      }
     },
     "eee38788ac0e4837ab0364c1169758b4": {
      "model_module": "@jupyter-widgets/base",
      "model_module_version": "2.0.0",
      "model_name": "LayoutModel",
      "state": {}
     },
     "ef10f5d9c6604a9b959fada2dec793a9": {
      "model_module": "@jupyter-widgets/controls",
      "model_module_version": "2.0.0",
      "model_name": "HBoxModel",
      "state": {
       "children": [
        "IPY_MODEL_deb40a65ad2e42f481938b3b76a32b3b",
        "IPY_MODEL_8d3a1c0d6e48442d8bb12e5e979a77ba",
        "IPY_MODEL_19b8aec82b6e4a69b052dba3755fcb56"
       ],
       "layout": "IPY_MODEL_d012727a0037491e87044d905f1aaac9"
      }
     },
     "f0d8f9e7200c41318a49fb187f1a988a": {
      "model_module": "@jupyter-widgets/controls",
      "model_module_version": "2.0.0",
      "model_name": "HTMLStyleModel",
      "state": {
       "description_width": "",
       "font_size": null,
       "text_color": null
      }
     },
     "f1bed91ff21246539d1bab6fb8e2613b": {
      "model_module": "@jupyter-widgets/controls",
      "model_module_version": "2.0.0",
      "model_name": "FloatProgressModel",
      "state": {
       "bar_style": "success",
       "layout": "IPY_MODEL_cdc88ada11ef431aa8cc0c3301b2b245",
       "style": "IPY_MODEL_f2a3966021ff491c8a6566e9c07a6b76",
       "value": 100
      }
     },
     "f268f26c8b6845839ca3d2e3fce8e251": {
      "model_module": "@jupyter-widgets/base",
      "model_module_version": "2.0.0",
      "model_name": "LayoutModel",
      "state": {}
     },
     "f2a3966021ff491c8a6566e9c07a6b76": {
      "model_module": "@jupyter-widgets/controls",
      "model_module_version": "2.0.0",
      "model_name": "ProgressStyleModel",
      "state": {
       "description_width": ""
      }
     },
     "f3817027751e4eb6b89676b9ff31bca6": {
      "model_module": "@jupyter-widgets/base",
      "model_module_version": "2.0.0",
      "model_name": "LayoutModel",
      "state": {}
     },
     "f45618f9423344228862e5094dcac8d7": {
      "model_module": "@jupyter-widgets/controls",
      "model_module_version": "2.0.0",
      "model_name": "HTMLStyleModel",
      "state": {
       "description_width": "",
       "font_size": null,
       "text_color": null
      }
     },
     "f4b7dbc0387a459bad8ad5d6b01a3e3a": {
      "model_module": "@jupyter-widgets/controls",
      "model_module_version": "2.0.0",
      "model_name": "ProgressStyleModel",
      "state": {
       "description_width": ""
      }
     },
     "f4bb21105b5b416084001d14a8c561c1": {
      "model_module": "@jupyter-widgets/controls",
      "model_module_version": "2.0.0",
      "model_name": "HTMLModel",
      "state": {
       "layout": "IPY_MODEL_13ae07733e154192be2296df8aa3569d",
       "style": "IPY_MODEL_0e8ce85431f944deb1e9d5e64c6c2bb3",
       "value": " 100/100 [01:05&lt;00:00,  1.58it/s]"
      }
     },
     "f7d3f17a644e4457a315c1707f712a9d": {
      "model_module": "@jupyter-widgets/controls",
      "model_module_version": "2.0.0",
      "model_name": "HBoxModel",
      "state": {
       "children": [
        "IPY_MODEL_a18b4dcaa7904320a4aec0a2e9758954",
        "IPY_MODEL_c983bb04fa3f4a4e86d53dddd3231a32",
        "IPY_MODEL_954bba08a8fb47f4b0a05416d07c6ed6"
       ],
       "layout": "IPY_MODEL_1854e7b1ee1b4875a6a8cee590f7028d"
      }
     },
     "f82153f9f40f4aa487033db785169428": {
      "model_module": "@jupyter-widgets/controls",
      "model_module_version": "2.0.0",
      "model_name": "HTMLModel",
      "state": {
       "layout": "IPY_MODEL_614fae18389549aba6313a15d066c161",
       "style": "IPY_MODEL_859b8e2cc7b84ca3b7d1816e98abead0",
       "value": "100%"
      }
     },
     "f84aced03d8e42a98f38d094a8067f1d": {
      "model_module": "@jupyter-widgets/controls",
      "model_module_version": "2.0.0",
      "model_name": "HTMLStyleModel",
      "state": {
       "description_width": "",
       "font_size": null,
       "text_color": null
      }
     },
     "fd181778ae68451a9753ddba2b61c961": {
      "model_module": "@jupyter-widgets/controls",
      "model_module_version": "2.0.0",
      "model_name": "HTMLStyleModel",
      "state": {
       "description_width": "",
       "font_size": null,
       "text_color": null
      }
     },
     "fde82d9f2009494e87f4a47721b6879f": {
      "model_module": "@jupyter-widgets/base",
      "model_module_version": "2.0.0",
      "model_name": "LayoutModel",
      "state": {}
     },
     "fe75d892715f4dc4a85b634bd41a001e": {
      "model_module": "@jupyter-widgets/controls",
      "model_module_version": "2.0.0",
      "model_name": "HBoxModel",
      "state": {
       "children": [
        "IPY_MODEL_14212d4773144d018009644ee9201164",
        "IPY_MODEL_4b8133a0e94544fb8204b6ec9ed3c119",
        "IPY_MODEL_51fbe7134a5046f1846d672742ce4966"
       ],
       "layout": "IPY_MODEL_8b7b5558d3b04a0882832eb00e68c3b9"
      }
     }
    },
    "version_major": 2,
    "version_minor": 0
   }
  }
 },
 "nbformat": 4,
 "nbformat_minor": 4
}
