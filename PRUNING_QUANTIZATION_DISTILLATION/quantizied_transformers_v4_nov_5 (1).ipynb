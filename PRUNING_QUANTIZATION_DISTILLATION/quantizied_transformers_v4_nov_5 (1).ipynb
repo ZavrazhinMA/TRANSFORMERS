{
 "cells": [
  {
   "cell_type": "markdown",
   "metadata": {
    "id": "BjpXhqlD3YB9"
   },
   "source": [
    "**Create quantizised version of GPT-2 and save the memory =)**\n",
    "\n",
    "Egor Shvetsov, Viktoriia Chekalina"
   ]
  },
  {
   "cell_type": "code",
   "execution_count": 1,
   "metadata": {
    "colab": {
     "base_uri": "https://localhost:8080/"
    },
    "id": "20tBT4dDFX5g",
    "outputId": "d57dba57-4111-4bad-922e-7418115fcd11"
   },
   "outputs": [],
   "source": [
    "# ! pip install transformers"
   ]
  },
  {
   "cell_type": "code",
   "execution_count": 2,
   "metadata": {
    "id": "bgm9EjAdApon"
   },
   "outputs": [],
   "source": [
    "device = 'cuda:0'"
   ]
  },
  {
   "cell_type": "markdown",
   "metadata": {
    "id": "VEXnwbzgVE-t"
   },
   "source": [
    "## Class Quantizator"
   ]
  },
  {
   "cell_type": "code",
   "execution_count": 3,
   "metadata": {
    "id": "o-x83_e5V9cW"
   },
   "outputs": [],
   "source": [
    "import numpy as np\n",
    "\n",
    "import torch\n",
    "import torch.nn as nn\n",
    "import torch.optim as optim\n",
    "import torch.nn.functional as F\n",
    "\n",
    "import matplotlib.pyplot as plt\n",
    "from tqdm.auto import tqdm"
   ]
  },
  {
   "cell_type": "markdown",
   "metadata": {
    "id": "9Z-NJ79EApop"
   },
   "source": [
    "![Image](https://drive.google.com/uc?export=view&id=1qG2l66t1tZNk-V-CQs80e-DiyevAF2ea)"
   ]
  },
  {
   "cell_type": "code",
   "execution_count": 4,
   "metadata": {
    "id": "gb0gzK2QVK6I"
   },
   "outputs": [],
   "source": [
    "class Quantizer(nn.Module):\n",
    "    def __init__(self, bit):\n",
    "\n",
    "        super(Quantizer, self).__init__()\n",
    "        self.bit = bit\n",
    "        self.thd_neg = -(2 ** (bit - 1))\n",
    "        self.thd_pos = 2 ** (bit - 1) - 1\n",
    "        #print (\"bit, pos, neg\", bit, self.thd_neg, self.thd_pos)\n",
    "        self.s = nn.Parameter(torch.ones(1))\n",
    "\n",
    "    def init_from(self, x):\n",
    "        #print (\"x.max(), x.min()\", x.max(), x.min())\n",
    "        s = (x.max() - x.min()) / (self.thd_pos - self.thd_neg )\n",
    "        #print (\"s\", s)\n",
    "        self.s = nn.Parameter(s)\n",
    "\n",
    "    def skip_grad_scale(self,x, scale):\n",
    "        y = x\n",
    "        y_grad = x * scale\n",
    "        return (y - y_grad).detach() + y_grad\n",
    "\n",
    "    def round_pass(self, x): # round ans clip are not differentiable\n",
    "        y = x.round()\n",
    "        y_grad = x\n",
    "        return (y - y_grad).detach() + y_grad\n",
    "\n",
    "    def forward(self, x):\n",
    "        if self.bit >= 32:\n",
    "            return x\n",
    "\n",
    "        s_grad_scale = 1.0 / ((self.thd_pos * x.numel()) ** 0.5)\n",
    "\n",
    "        #print (\"s_grad_scale\", s_grad_scale)\n",
    "        device = x.device\n",
    "\n",
    "        s_scale = self.skip_grad_scale(self.s, s_grad_scale).to(device)\n",
    "\n",
    "        #print (\"s_scale\", s_scale)\n",
    "\n",
    "        x = x / (s_scale) # go to new space\n",
    "        x = torch.clamp(x, self.thd_neg, self.thd_pos) # clip\n",
    "        x = self.round_pass(x) #go back\n",
    "        x = x * (s_scale)\n",
    "        return x"
   ]
  },
  {
   "cell_type": "code",
   "execution_count": 5,
   "metadata": {
    "id": "X7TvAtimApop"
   },
   "outputs": [],
   "source": [
    "vector =(np.arange(-10, 10, 1))**2"
   ]
  },
  {
   "cell_type": "code",
   "execution_count": 6,
   "metadata": {
    "colab": {
     "base_uri": "https://localhost:8080/"
    },
    "id": "AJ8R5k1eApop",
    "outputId": "2ea81620-5283-4d0c-ed43-f2e94de47de2"
   },
   "outputs": [
    {
     "data": {
      "text/plain": [
       "array([100,  81,  64,  49,  36,  25,  16,   9,   4,   1,   0,   1,   4,\n",
       "         9,  16,  25,  36,  49,  64,  81])"
      ]
     },
     "execution_count": 6,
     "metadata": {},
     "output_type": "execute_result"
    }
   ],
   "source": [
    "vector"
   ]
  },
  {
   "cell_type": "code",
   "execution_count": 7,
   "metadata": {
    "colab": {
     "base_uri": "https://localhost:8080/"
    },
    "id": "26nZzWEGApoq",
    "outputId": "2d6b1a44-fd14-4510-9d32-41f70260157e"
   },
   "outputs": [
    {
     "data": {
      "text/plain": [
       "array([46.666664 , 46.666664 , 46.666664 , 46.666664 , 33.333332 ,\n",
       "       26.666666 , 13.333333 ,  6.6666665,  6.6666665,  0.       ,\n",
       "        0.       ,  0.       ,  6.6666665,  6.6666665, 13.333333 ,\n",
       "       26.666666 , 33.333332 , 46.666664 , 46.666664 , 46.666664 ],\n",
       "      dtype=float32)"
      ]
     },
     "execution_count": 7,
     "metadata": {},
     "output_type": "execute_result"
    }
   ],
   "source": [
    "quantizer = Quantizer(4)\n",
    "vector = torch.tensor(vector)\n",
    "quantizer.init_from(vector)\n",
    "quantizer(vector).detach().numpy()"
   ]
  },
  {
   "cell_type": "code",
   "execution_count": 8,
   "metadata": {
    "colab": {
     "base_uri": "https://localhost:8080/"
    },
    "id": "wtOcROcsApoq",
    "outputId": "c8f828e4-3199-4b0c-f84e-6375c776a466"
   },
   "outputs": [
    {
     "data": {
      "text/plain": [
       "Parameter containing:\n",
       "tensor(6.6667, requires_grad=True)"
      ]
     },
     "execution_count": 8,
     "metadata": {},
     "output_type": "execute_result"
    }
   ],
   "source": [
    "quantizer.s"
   ]
  },
  {
   "cell_type": "code",
   "execution_count": 9,
   "metadata": {
    "colab": {
     "base_uri": "https://localhost:8080/"
    },
    "id": "_V1WmV09Apor",
    "outputId": "0ac5d85e-154b-45c3-96b3-2233db98a31c"
   },
   "outputs": [
    {
     "name": "stderr",
     "output_type": "stream",
     "text": [
      "C:\\Temp\\ipykernel_6640\\367059996.py:2: UserWarning: To copy construct from a tensor, it is recommended to use sourceTensor.clone().detach() or sourceTensor.clone().detach().requires_grad_(True), rather than torch.tensor(sourceTensor).\n",
      "  vector = torch.tensor(vector)\n"
     ]
    },
    {
     "data": {
      "text/plain": [
       "array([49.999237  , 49.999237  , 49.999237  , 48.99977   , 36.00061   ,\n",
       "       25.000381  , 16.00061   ,  8.999771  ,  3.9993896 ,  0.99946594,\n",
       "        0.        ,  0.99946594,  3.9993896 ,  8.999771  , 16.00061   ,\n",
       "       25.000381  , 36.00061   , 48.99977   , 49.999237  , 49.999237  ],\n",
       "      dtype=float32)"
      ]
     },
     "execution_count": 9,
     "metadata": {},
     "output_type": "execute_result"
    }
   ],
   "source": [
    "quantizer = Quantizer(16)\n",
    "vector = torch.tensor(vector)\n",
    "quantizer.init_from(vector)\n",
    "quantizer(vector).detach().numpy()"
   ]
  },
  {
   "cell_type": "code",
   "execution_count": 10,
   "metadata": {
    "colab": {
     "base_uri": "https://localhost:8080/",
     "height": 486
    },
    "id": "kj2lhaY7VVM-",
    "outputId": "33f5f48d-7247-4b7b-c2b7-2d95a88a4429"
   },
   "outputs": [],
   "source": [
    "# vector =(np.arange(-10, 10, 1))**2\n",
    "\n",
    "# vector = torch.tensor(vector)\n",
    "\n",
    "# plt.figure(figsize=(10,7))\n",
    "\n",
    "# f = plt.figure(figsize = (10, 5))\n",
    "\n",
    "# plt.plot(range(len(vector)), vector,label='orig', marker='o')\n",
    "# for bit in [2,3,4, 8, 16]:\n",
    "#     quantizer = Quantizer(bit)\n",
    "#     quantizer.init_from(vector) # define step\n",
    "#     dequantized = quantizer(vector) #\n",
    "\n",
    "#     dequantized = dequantized.detach().numpy()\n",
    "\n",
    "#     plt.plot(range(len(vector)),dequantized,label=f'int_{bit}')\n",
    "\n",
    "# plt.title('DE - Quantized');\n",
    "# plt.legend();"
   ]
  },
  {
   "cell_type": "code",
   "execution_count": 11,
   "metadata": {
    "id": "eQpCt_zRXA2W"
   },
   "outputs": [],
   "source": [
    "def plot_weight_distribution(model, bitwidth=32):\n",
    "\n",
    "    fig, axes = plt.subplots(1,len([(p,n) for (p,n) in model.named_parameters()])-1, figsize=(15, 5))\n",
    "\n",
    "    quantizer = Quantizer(bitwidth)\n",
    "    qmin, qmax = quantizer.thd_neg,  quantizer.thd_pos,\n",
    "    for i, (name, param) in enumerate(model.named_parameters()):\n",
    "        if param.dim() > 1:\n",
    "            quantizer.init_from(param)\n",
    "            dequantized = quantizer(param)\n",
    "            dequantized = dequantized.detach().cpu().numpy()\n",
    "\n",
    "            axes[i].hist(dequantized.flatten(),  density=True, color = 'blue', alpha = 0.5,\n",
    "                    edgecolor='black' if bitwidth <= 4 else None)\n",
    "\n",
    "            axes[i].set_xlabel(name)\n",
    "            axes[i].set_ylabel('density')\n",
    "\n",
    "    fig.suptitle(f'Histogram of Weights (bitwidth={bitwidth} bits)')\n",
    "    fig.tight_layout()\n",
    "    fig.subplots_adjust(top=0.925)\n",
    "    plt.show()"
   ]
  },
  {
   "cell_type": "code",
   "execution_count": 12,
   "metadata": {
    "id": "q4xk3wbYApor"
   },
   "outputs": [],
   "source": [
    "class QALinear(nn.Module):\n",
    "    def __init__(self, fc_w, fc_b, bit):\n",
    "        super(QALinear, self).__init__()\n",
    "        self.bit = bit\n",
    "        self.in_features, self.out_features = fc_w.shape\n",
    "        self.fc = nn.Linear(in_features = self.in_features,\n",
    "                      out_features = self.out_features,\n",
    "                      bias = True)\n",
    "        self.fc.weight = torch.nn.Parameter(torch.t(fc_w))\n",
    "        self.fc.bias = fc_b\n",
    "        self.define_q_fucntions(self.bit)\n",
    "\n",
    "\n",
    "    # can be used to modify bits during the training\n",
    "    def define_q_fucntions(self, bit):\n",
    "        self.quantizer_act = Quantizer(bit)\n",
    "        self.quantizer_weigh = Quantizer(bit)\n",
    "        self.quantizer_weigh.init_from(self.fc.weight)\n",
    "\n",
    "        self.quantizer_bias = Quantizer(bit)\n",
    "\n",
    "    def forward(self, input_x):\n",
    "        quantized_weight = self.quantizer_weigh(self.fc.weight)\n",
    "        quantized_bias = self.quantizer_weigh(self.fc.bias)\n",
    "        quantized_act = self.quantizer_act(input_x)\n",
    "        out = nn.functional.linear(quantized_act, quantized_weight, bias=quantized_bias) #torch.nn.functional.linear(input, weight, bias)\n",
    "        return out"
   ]
  },
  {
   "cell_type": "markdown",
   "metadata": {
    "id": "AVF7iwDE3YCD"
   },
   "source": [
    "# Transformer-based model quantization\n",
    "\n",
    "### GPT-2 quantization pipeline\n",
    "\n",
    "1) Extract fully-connected (transformers.conv1D()) from pretrained GPT-2\n",
    "\n",
    "2) Create quantized QALinear object over it\n",
    "\n",
    "3) Replace initial fully-connected layer with quantized layer\n",
    "\n",
    "4) Fine-tune model to recover performance degradation\n",
    "\n",
    "\n",
    "## Let's go through all of the stages in the pipeline"
   ]
  },
  {
   "cell_type": "code",
   "execution_count": 13,
   "metadata": {
    "id": "_ET7wDTrz9xm"
   },
   "outputs": [],
   "source": [
    "import numpy as np"
   ]
  },
  {
   "cell_type": "code",
   "execution_count": 14,
   "metadata": {
    "id": "Ku-vaYsh3YCI"
   },
   "outputs": [],
   "source": [
    "from transformers import GPT2Model, GPT2Config, GPT2LMHeadModel, GPT2Tokenizer, TextDataset\n",
    "from torch.utils.data import DataLoader\n",
    "\n",
    "# Initializing a GPT2 configuration\n",
    "configuration = GPT2Config()\n",
    "\n",
    "device = 'cuda'\n",
    "\n",
    "\n",
    "model = GPT2LMHeadModel(configuration).from_pretrained(\"gpt2\",\n",
    "                                                return_dict=True,\n",
    "                                                is_decoder=True)\n",
    "outt = model.to(device)\n"
   ]
  },
  {
   "cell_type": "code",
   "execution_count": 15,
   "metadata": {},
   "outputs": [
    {
     "data": {
      "text/plain": [
       "GPT2LMHeadModel(\n",
       "  (transformer): GPT2Model(\n",
       "    (wte): Embedding(50257, 768)\n",
       "    (wpe): Embedding(1024, 768)\n",
       "    (drop): Dropout(p=0.1, inplace=False)\n",
       "    (h): ModuleList(\n",
       "      (0-11): 12 x GPT2Block(\n",
       "        (ln_1): LayerNorm((768,), eps=1e-05, elementwise_affine=True)\n",
       "        (attn): GPT2SdpaAttention(\n",
       "          (c_attn): Conv1D(nf=2304, nx=768)\n",
       "          (c_proj): Conv1D(nf=768, nx=768)\n",
       "          (attn_dropout): Dropout(p=0.1, inplace=False)\n",
       "          (resid_dropout): Dropout(p=0.1, inplace=False)\n",
       "        )\n",
       "        (ln_2): LayerNorm((768,), eps=1e-05, elementwise_affine=True)\n",
       "        (mlp): GPT2MLP(\n",
       "          (c_fc): Conv1D(nf=3072, nx=768)\n",
       "          (c_proj): Conv1D(nf=768, nx=3072)\n",
       "          (act): NewGELUActivation()\n",
       "          (dropout): Dropout(p=0.1, inplace=False)\n",
       "        )\n",
       "      )\n",
       "    )\n",
       "    (ln_f): LayerNorm((768,), eps=1e-05, elementwise_affine=True)\n",
       "  )\n",
       "  (lm_head): Linear(in_features=768, out_features=50257, bias=False)\n",
       ")"
      ]
     },
     "execution_count": 15,
     "metadata": {},
     "output_type": "execute_result"
    }
   ],
   "source": [
    "model"
   ]
  },
  {
   "cell_type": "markdown",
   "metadata": {
    "id": "Ci96e-xx3YCO"
   },
   "source": [
    "We will validate a pre-trained language GPT-2 model on a validation part **Wikitext-103** dataset.\n",
    "\n",
    "To create a validation dataset we should:\n",
    "    \n",
    "- download archieved dataset\n",
    "- extract it\n",
    "- wrap tran and test parts in TextDataset and further Dataloader class"
   ]
  },
  {
   "cell_type": "code",
   "execution_count": 16,
   "metadata": {},
   "outputs": [],
   "source": [
    "from datasets import load_dataset\n",
    "dataset = load_dataset(\"Salesforce/wikitext\", \"wikitext-103-v1\")"
   ]
  },
  {
   "cell_type": "code",
   "execution_count": 17,
   "metadata": {
    "colab": {
     "base_uri": "https://localhost:8080/"
    },
    "id": "keM80yyxrBga",
    "outputId": "d3f953fa-6b9f-4b7a-87d4-b2762ad94f2a"
   },
   "outputs": [
    {
     "name": "stdout",
     "output_type": "stream",
     "text": [
      "Размер валидационного набора: 484\n",
      "Размер тестового набора: 553\n"
     ]
    },
    {
     "name": "stderr",
     "output_type": "stream",
     "text": [
      "C:\\Users\\MAKSIM\\anaconda3\\Lib\\site-packages\\transformers\\data\\datasets\\language_modeling.py:53: FutureWarning: This dataset will be removed from the library soon, preprocessing should be handled with the 🤗 Datasets library. You can have a look at this example script for pointers: https://github.com/huggingface/transformers/blob/main/examples/pytorch/language-modeling/run_mlm.py\n",
      "  warnings.warn(\n"
     ]
    }
   ],
   "source": [
    "import os\n",
    "\n",
    "os.makedirs(\"data\", exist_ok=True)\n",
    "\n",
    "with open(\"data/wiki.valid.tokens\", \"w\", encoding=\"utf-8\") as f:\n",
    "    for line in dataset['validation']['text']:\n",
    "        f.write(line + \"\\n\")\n",
    "\n",
    "with open(\"data/wiki.test.tokens\", \"w\", encoding=\"utf-8\") as f:\n",
    "    for line in dataset['test']['text']:\n",
    "        f.write(line + \"\\n\")\n",
    "\n",
    "tokenizer = GPT2Tokenizer.from_pretrained(\"gpt2\")\n",
    "\n",
    "dataset_valid = TextDataset(\n",
    "    tokenizer=tokenizer,\n",
    "    file_path=\"data/wiki.valid.tokens\",\n",
    "    block_size=512\n",
    ")\n",
    "\n",
    "dataset_test = TextDataset(\n",
    "    tokenizer=tokenizer,\n",
    "    file_path=\"data/wiki.test.tokens\",\n",
    "    block_size=512\n",
    ")\n",
    "\n",
    "eval_dataloader = DataLoader(dataset_valid, batch_size=10)\n",
    "\n",
    "print(f\"Размер валидационного набора: {len(dataset_valid)}\")\n",
    "print(f\"Размер тестового набора: {len(dataset_test)}\")"
   ]
  },
  {
   "cell_type": "markdown",
   "metadata": {
    "id": "uGOdDVX83YCR"
   },
   "source": [
    "Create a validation dataset and measure perplexity of regular GPT-2"
   ]
  },
  {
   "cell_type": "markdown",
   "metadata": {
    "id": "DJgWvPbp3YCd"
   },
   "source": [
    "Validate model and calculate a perplexity:"
   ]
  },
  {
   "cell_type": "code",
   "execution_count": 18,
   "metadata": {
    "id": "9JVtPbFv3YCj"
   },
   "outputs": [],
   "source": [
    "model.eval()\n",
    "import torch\n",
    "\n",
    "device = 'cuda'\n",
    "\n",
    "def evaluate(model):\n",
    "    losses = []\n",
    "    eval_loss = 0.0\n",
    "    perplexity = 0.0\n",
    "    nb_eval_steps = 0\n",
    "    for batch in tqdm(eval_dataloader, desc=\"Evaluating\"):\n",
    "        inputs, labels = (batch, batch)\n",
    "        inputs = inputs.to(device)\n",
    "        labels = labels.to(device)\n",
    "\n",
    "        with torch.no_grad():\n",
    "            outputs = model(inputs, labels=labels)\n",
    "            lm_loss = outputs[0]\n",
    "            eval_loss += lm_loss.mean().item()\n",
    "            perplexity += torch.exp(torch.tensor(eval_loss))\n",
    "            losses.append(eval_loss)\n",
    "        nb_eval_steps += 1\n",
    "\n",
    "    eval_loss = eval_loss / nb_eval_steps\n",
    "\n",
    "    perplexity = torch.exp(torch.tensor(eval_loss))\n",
    "    perplexity = perplexity\n",
    "    return perplexity"
   ]
  },
  {
   "cell_type": "code",
   "execution_count": 19,
   "metadata": {
    "colab": {
     "base_uri": "https://localhost:8080/"
    },
    "id": "e3O7hZ333YCq",
    "outputId": "b0af3736-4e2a-4d3f-b3eb-e0a53c5c1f78"
   },
   "outputs": [
    {
     "data": {
      "application/vnd.jupyter.widget-view+json": {
       "model_id": "67c5770a4ed9466e9c3cfc63b6fbfb3f",
       "version_major": 2,
       "version_minor": 0
      },
      "text/plain": [
       "Evaluating:   0%|          | 0/49 [00:00<?, ?it/s]"
      ]
     },
     "metadata": {},
     "output_type": "display_data"
    },
    {
     "data": {
      "text/plain": [
       "tensor(36.5398)"
      ]
     },
     "execution_count": 19,
     "metadata": {},
     "output_type": "execute_result"
    }
   ],
   "source": [
    "perplexity = evaluate(model.to(device))\n",
    "perplexity"
   ]
  },
  {
   "cell_type": "code",
   "execution_count": 20,
   "metadata": {
    "colab": {
     "base_uri": "https://localhost:8080/"
    },
    "id": "1loUt8ZjRciK",
    "outputId": "f8fb53a6-b737-45df-d0be-d36470124077"
   },
   "outputs": [
    {
     "data": {
      "text/plain": [
       "torch.Size([768, 3072])"
      ]
     },
     "execution_count": 20,
     "metadata": {},
     "output_type": "execute_result"
    }
   ],
   "source": [
    "model.transformer.h[1].mlp.c_fc.weight.shape"
   ]
  },
  {
   "cell_type": "markdown",
   "metadata": {
    "id": "SbTPSv3BzX-b"
   },
   "source": [
    "Let's generate text to ensure that model is good."
   ]
  },
  {
   "cell_type": "code",
   "execution_count": 21,
   "metadata": {
    "id": "nCjz-pTTzqy1"
   },
   "outputs": [],
   "source": [
    "seq_len = 512"
   ]
  },
  {
   "cell_type": "code",
   "execution_count": 22,
   "metadata": {
    "colab": {
     "base_uri": "https://localhost:8080/"
    },
    "id": "K8j3aKX7zYnt",
    "outputId": "3e79178b-5c00-4dc6-958d-3471ba6fb467"
   },
   "outputs": [
    {
     "data": {
      "application/vnd.jupyter.widget-view+json": {
       "model_id": "ad8121cf9dbf49e78a0b768342f197b6",
       "version_major": 2,
       "version_minor": 0
      },
      "text/plain": [
       "0it [00:00, ?it/s]"
      ]
     },
     "metadata": {},
     "output_type": "display_data"
    },
    {
     "name": "stdout",
     "output_type": "stream",
     "text": [
      "\n",
      "\n",
      "input_ids[0][-20:]  americanus . The two species are very similar ,\n",
      "\n",
      "\n",
      "label_ids[0][-21:] anus . The two species are very similar ,\n",
      "\n",
      "\n",
      "output anus . It American species are closely similar in but\n",
      "\n",
      "\n",
      "\n",
      "\n",
      "\n",
      "\n",
      "\n",
      "\n",
      "\n",
      "input_ids[0][-20:]  The Michigan Department of Transportation ( MDOT ) ,\n",
      "\n",
      "\n",
      "label_ids[0][-21:]  Michigan Department of Transportation ( MDOT ) ,\n",
      "\n",
      "\n",
      "output  current State of Transportation (MOT ) has which\n",
      "\n",
      "\n",
      "\n",
      "\n",
      "\n",
      "\n",
      "\n",
      "\n",
      "\n",
      "input_ids[0][-20:]  these help downtown become more active during the day and\n",
      "\n",
      "\n",
      "label_ids[0][-21:]  help downtown become more active during the day and\n",
      "\n",
      "\n",
      "output  businesses to residents a attractive and the day and provide\n",
      "\n",
      "\n",
      "\n",
      "\n",
      "\n",
      "\n",
      "\n",
      "\n",
      "\n",
      "input_ids[0][-20:]  turn of the last century . Architecture students from around\n",
      "\n",
      "\n",
      "label_ids[0][-21:]  of the last century . Architecture students from around\n",
      "\n",
      "\n",
      "output  of the 20 century . The is and the the\n",
      "\n",
      "\n",
      "\n",
      "\n",
      "\n",
      "\n",
      "\n",
      "\n",
      "\n",
      "input_ids[0][-20:]  the American Civil War . \n",
      "\n",
      " Dill Harris ,\n",
      "\n",
      "\n",
      "label_ids[0][-21:]  American Civil War . \n",
      "\n",
      " Dill Harris ,\n",
      "\n",
      "\n",
      "output  Civil Civil War . \n",
      "\n",
      "\n",
      "inger , the\n",
      "\n",
      "\n",
      "\n",
      "\n",
      "\n",
      "\n",
      "\n",
      "\n",
      "\n",
      "input_ids[0][-20:]  sympathizing which have followed Slayer throughout their career .\n",
      "\n",
      "\n",
      "label_ids[0][-21:] izing which have followed Slayer throughout their career .\n",
      "\n",
      "\n",
      "output ies and were been the ' the career . \n",
      "\n",
      "\n",
      "\n",
      "\n",
      "\n",
      "\n",
      "\n",
      "\n",
      "\n",
      "input_ids[0][-20:]  situated roughly 85 mi ( 140 km ) southeast of\n",
      "\n",
      "\n",
      "label_ids[0][-21:]  roughly 85 mi ( 140 km ) southeast of\n",
      "\n",
      "\n",
      "output  at at mi (100 km ) northwest of the\n",
      "\n",
      "\n",
      "\n",
      "\n",
      "\n",
      "\n",
      "\n",
      "\n",
      "\n",
      "input_ids[0][-20:]  energetic fight with her male dancers which demonstrated her bending\n",
      "\n",
      "\n",
      "label_ids[0][-21:]  fight with her male dancers which demonstrated her bending\n",
      "\n",
      "\n",
      "output  dance with the dancers dancers . ends her strength backwards\n",
      "\n",
      "\n",
      "\n",
      "\n",
      "\n",
      "\n",
      "\n",
      "\n",
      "\n",
      "input_ids[0][-20:]  @-@ lengths over Bill Elliott . In the\n",
      "\n",
      "\n",
      "label_ids[0][-21:] -@ lengths over Bill Elliott . In the\n",
      "\n",
      "\n",
      "output -@ . . the Ham . Richmond the final\n",
      "\n",
      "\n",
      "\n",
      "\n",
      "\n",
      "\n",
      "\n",
      "\n",
      "\n",
      "input_ids[0][-20:]  a species of mushroom in the family Mycen\n",
      "\n",
      "\n",
      "label_ids[0][-21:]  species of mushroom in the family Mycen\n",
      "\n",
      "\n",
      "output  large of wood- the genus Mycenaidae\n",
      "\n",
      "\n",
      "\n",
      "\n",
      "\n",
      "\n",
      "\n",
      "\n",
      "\n",
      "input_ids[0][-20:]  CLASS Award were from the Big Ten , including Michigan\n",
      "\n",
      "\n",
      "label_ids[0][-21:]  Award were from the Big Ten , including Michigan\n",
      "\n",
      "\n",
      "output  Award were selected Michigan Big Ten Conference including: '\n",
      "\n",
      "\n",
      "\n",
      "\n"
     ]
    }
   ],
   "source": [
    "i = 0\n",
    "for batch_idx, sample in tqdm(enumerate(eval_dataloader)):\n",
    "    input_ids, label_ids = sample[0][:seq_len - 1], sample[0][1:seq_len]\n",
    "    input_ids = input_ids.to(device=device)\n",
    "    label_ids = label_ids.to(device=device)\n",
    "    outputs = model(input_ids)\n",
    "    print (\"\\n\")\n",
    "    print(\"input_ids[0][-20:]\", tokenizer.decode(input_ids[-10:]))\n",
    "    print (\"\\n\")\n",
    "    print(\"label_ids[0][-21:]\", tokenizer.decode(input_ids[-9:]))\n",
    "    print (\"\\n\")\n",
    "    print(\"output\", tokenizer.decode(outputs.logits.argmax(dim=-1)[-10:]))\n",
    "    #print(\"GENERATED\", tokenizer.decode(outputs.logits.argmax(dim=-1)[0][-1:]))\n",
    "    print(\"\\n\\n\\n\")\n",
    "    i += 1\n",
    "    if i > 10: break\n",
    "    print (\"\\n\\n\")"
   ]
  },
  {
   "cell_type": "code",
   "execution_count": 23,
   "metadata": {
    "id": "l5_nzaEr1abP"
   },
   "outputs": [
    {
     "data": {
      "application/vnd.jupyter.widget-view+json": {
       "model_id": "05dd661acbe04fdfad0c1b64898c0c53",
       "version_major": 2,
       "version_minor": 0
      },
      "text/plain": [
       "Evaluating:   0%|          | 0/49 [00:00<?, ?it/s]"
      ]
     },
     "metadata": {},
     "output_type": "display_data"
    },
    {
     "name": "stdout",
     "output_type": "stream",
     "text": [
      "perplexity для квантизации до 16bit: 234.6772003173828\n"
     ]
    },
    {
     "data": {
      "application/vnd.jupyter.widget-view+json": {
       "model_id": "47b706da193c4645aba2677a87b7028a",
       "version_major": 2,
       "version_minor": 0
      },
      "text/plain": [
       "Evaluating:   0%|          | 0/49 [00:00<?, ?it/s]"
      ]
     },
     "metadata": {},
     "output_type": "display_data"
    },
    {
     "name": "stdout",
     "output_type": "stream",
     "text": [
      "perplexity для квантизации до 8bit: 235.67401123046875\n"
     ]
    },
    {
     "data": {
      "application/vnd.jupyter.widget-view+json": {
       "model_id": "e0c518ad73dc44919992ec21fc4dd88a",
       "version_major": 2,
       "version_minor": 0
      },
      "text/plain": [
       "Evaluating:   0%|          | 0/49 [00:00<?, ?it/s]"
      ]
     },
     "metadata": {},
     "output_type": "display_data"
    },
    {
     "name": "stdout",
     "output_type": "stream",
     "text": [
      "perplexity для квантизации до 4bit: 143.77352905273438\n"
     ]
    }
   ],
   "source": [
    "for bit in [16, 8, 4]:\n",
    "    model = GPT2LMHeadModel(configuration).from_pretrained(\"gpt2\",\n",
    "                                                return_dict=True,\n",
    "                                                is_decoder=True)\n",
    "    for i in [6, 8, 9, 10, 11]:\n",
    "        fc_w = model.transformer.h[i].mlp.c_fc\n",
    "        fp_w = model.transformer.h[i].mlp.c_proj\n",
    "        model.transformer.h[i].mlp.c_fc = QALinear(fc_w.weight, fc_w.bias, bit)\n",
    "        model.transformer.h[i].mlp.c_proj = QALinear(fp_w.weight, fp_w.bias, bit)\n",
    "    perplexity = evaluate(model.to(device))\n",
    "    print(f'perplexity для квантизации до {bit}bit: {perplexity}')"
   ]
  },
  {
   "cell_type": "markdown",
   "metadata": {
    "id": "UzWCE0XSApou"
   },
   "source": [
    "perplexity для квантизации до 4bit - ниже чем до 8-16. из объяснений это нестабильность модели при такой квантизации"
   ]
  },
  {
   "cell_type": "markdown",
   "metadata": {
    "id": "M6Lz0P5qApov"
   },
   "source": [
    "## Fine-tune the model"
   ]
  },
  {
   "cell_type": "code",
   "execution_count": 24,
   "metadata": {
    "colab": {
     "base_uri": "https://localhost:8080/",
     "height": 311
    },
    "id": "ZYa2Nor3Oz1i",
    "outputId": "9b5898db-8078-4a78-b009-afb73f3865ec"
   },
   "outputs": [
    {
     "data": {
      "application/vnd.jupyter.widget-view+json": {
       "model_id": "58f66b55f27d4f3f989e61ebf79e1a15",
       "version_major": 2,
       "version_minor": 0
      },
      "text/plain": [
       "Evaluating:   0%|          | 0/49 [00:00<?, ?it/s]"
      ]
     },
     "metadata": {},
     "output_type": "display_data"
    },
    {
     "name": "stdout",
     "output_type": "stream",
     "text": [
      "perplexity для квантизации до 8bit: 235.67401123046875\n"
     ]
    }
   ],
   "source": [
    "model = GPT2LMHeadModel(configuration).from_pretrained(\"gpt2\",\n",
    "                                                return_dict=True,\n",
    "                                                is_decoder=True)\n",
    "for i in [6, 8, 9, 10, 11]:\n",
    "    fc_w = model.transformer.h[i].mlp.c_fc\n",
    "    fp_w = model.transformer.h[i].mlp.c_proj\n",
    "    model.transformer.h[i].mlp.c_fc = QALinear(fc_w.weight, fc_w.bias, 8)\n",
    "    model.transformer.h[i].mlp.c_proj = QALinear(fp_w.weight, fp_w.bias, 8)\n",
    "perplexity = evaluate(model.to(device))\n",
    "print(f'perplexity для квантизации до 8bit: {perplexity}')"
   ]
  },
  {
   "cell_type": "code",
   "execution_count": 25,
   "metadata": {
    "id": "_7mrHBs-Apov"
   },
   "outputs": [],
   "source": [
    "train_dataloader = DataLoader(dataset_valid, batch_size=4)"
   ]
  },
  {
   "cell_type": "code",
   "execution_count": 26,
   "metadata": {
    "id": "CNld15GWApov"
   },
   "outputs": [],
   "source": [
    "from transformers import get_cosine_schedule_with_warmup"
   ]
  },
  {
   "cell_type": "code",
   "execution_count": 27,
   "metadata": {
    "colab": {
     "base_uri": "https://localhost:8080/"
    },
    "id": "4ePfhP29Apov",
    "outputId": "de664b90-9052-4ce5-d67a-3695116e69ca"
   },
   "outputs": [
    {
     "data": {
      "application/vnd.jupyter.widget-view+json": {
       "model_id": "212a0e6fe3454576b0fe80c0b79b976b",
       "version_major": 2,
       "version_minor": 0
      },
      "text/plain": [
       "0it [00:00, ?it/s]"
      ]
     },
     "metadata": {},
     "output_type": "display_data"
    },
    {
     "name": "stdout",
     "output_type": "stream",
     "text": [
      "loss tensor(0.5827, device='cuda:0', grad_fn=<DivBackward0>)\n"
     ]
    },
    {
     "data": {
      "application/vnd.jupyter.widget-view+json": {
       "model_id": "177998b749384222b99b9e432a335c2b",
       "version_major": 2,
       "version_minor": 0
      },
      "text/plain": [
       "Evaluating:   0%|          | 0/49 [00:00<?, ?it/s]"
      ]
     },
     "metadata": {},
     "output_type": "display_data"
    },
    {
     "name": "stdout",
     "output_type": "stream",
     "text": [
      "perplexity tensor(364.2351)\n",
      "loss tensor(0.6009, device='cuda:0', grad_fn=<DivBackward0>)\n"
     ]
    },
    {
     "data": {
      "application/vnd.jupyter.widget-view+json": {
       "model_id": "9fc2433af0914e67a1255e123e64ab80",
       "version_major": 2,
       "version_minor": 0
      },
      "text/plain": [
       "Evaluating:   0%|          | 0/49 [00:00<?, ?it/s]"
      ]
     },
     "metadata": {},
     "output_type": "display_data"
    },
    {
     "name": "stdout",
     "output_type": "stream",
     "text": [
      "perplexity tensor(362.7926)\n",
      "loss tensor(0.6250, device='cuda:0', grad_fn=<DivBackward0>)\n"
     ]
    },
    {
     "data": {
      "application/vnd.jupyter.widget-view+json": {
       "model_id": "98e77dae10244e4bb5cd15ed4fa7abc4",
       "version_major": 2,
       "version_minor": 0
      },
      "text/plain": [
       "Evaluating:   0%|          | 0/49 [00:00<?, ?it/s]"
      ]
     },
     "metadata": {},
     "output_type": "display_data"
    },
    {
     "name": "stdout",
     "output_type": "stream",
     "text": [
      "perplexity tensor(360.9767)\n",
      "loss tensor(0.5880, device='cuda:0', grad_fn=<DivBackward0>)\n"
     ]
    },
    {
     "data": {
      "application/vnd.jupyter.widget-view+json": {
       "model_id": "49097ea5559c4e6b81f19e22d49f00ae",
       "version_major": 2,
       "version_minor": 0
      },
      "text/plain": [
       "Evaluating:   0%|          | 0/49 [00:00<?, ?it/s]"
      ]
     },
     "metadata": {},
     "output_type": "display_data"
    },
    {
     "name": "stdout",
     "output_type": "stream",
     "text": [
      "perplexity tensor(356.6887)\n",
      "loss tensor(0.5970, device='cuda:0', grad_fn=<DivBackward0>)\n"
     ]
    },
    {
     "data": {
      "application/vnd.jupyter.widget-view+json": {
       "model_id": "3fead7f03dfe483f904513e5ea6ea3f7",
       "version_major": 2,
       "version_minor": 0
      },
      "text/plain": [
       "Evaluating:   0%|          | 0/49 [00:00<?, ?it/s]"
      ]
     },
     "metadata": {},
     "output_type": "display_data"
    },
    {
     "name": "stdout",
     "output_type": "stream",
     "text": [
      "perplexity tensor(352.2087)\n",
      "loss tensor(0.5923, device='cuda:0', grad_fn=<DivBackward0>)\n"
     ]
    },
    {
     "data": {
      "application/vnd.jupyter.widget-view+json": {
       "model_id": "7280ee64eb784f6cade4335280574ad1",
       "version_major": 2,
       "version_minor": 0
      },
      "text/plain": [
       "Evaluating:   0%|          | 0/49 [00:00<?, ?it/s]"
      ]
     },
     "metadata": {},
     "output_type": "display_data"
    },
    {
     "name": "stdout",
     "output_type": "stream",
     "text": [
      "perplexity tensor(345.7061)\n",
      "loss tensor(0.5627, device='cuda:0', grad_fn=<DivBackward0>)\n"
     ]
    },
    {
     "data": {
      "application/vnd.jupyter.widget-view+json": {
       "model_id": "b4045def848b4b5ab5f825525373ce08",
       "version_major": 2,
       "version_minor": 0
      },
      "text/plain": [
       "Evaluating:   0%|          | 0/49 [00:00<?, ?it/s]"
      ]
     },
     "metadata": {},
     "output_type": "display_data"
    },
    {
     "name": "stdout",
     "output_type": "stream",
     "text": [
      "perplexity tensor(338.3391)\n"
     ]
    },
    {
     "data": {
      "application/vnd.jupyter.widget-view+json": {
       "model_id": "815589a9f1b34a4ca49f4120b75ed3bc",
       "version_major": 2,
       "version_minor": 0
      },
      "text/plain": [
       "0it [00:00, ?it/s]"
      ]
     },
     "metadata": {},
     "output_type": "display_data"
    },
    {
     "name": "stdout",
     "output_type": "stream",
     "text": [
      "loss tensor(0.5782, device='cuda:0', grad_fn=<DivBackward0>)\n"
     ]
    },
    {
     "data": {
      "application/vnd.jupyter.widget-view+json": {
       "model_id": "27ead50a8f704a73a77a2035fa04910f",
       "version_major": 2,
       "version_minor": 0
      },
      "text/plain": [
       "Evaluating:   0%|          | 0/49 [00:00<?, ?it/s]"
      ]
     },
     "metadata": {},
     "output_type": "display_data"
    },
    {
     "name": "stdout",
     "output_type": "stream",
     "text": [
      "perplexity tensor(333.5949)\n",
      "loss tensor(0.5863, device='cuda:0', grad_fn=<DivBackward0>)\n"
     ]
    },
    {
     "data": {
      "application/vnd.jupyter.widget-view+json": {
       "model_id": "f0e60cb342bf4253a4e0957c9b4f6e33",
       "version_major": 2,
       "version_minor": 0
      },
      "text/plain": [
       "Evaluating:   0%|          | 0/49 [00:00<?, ?it/s]"
      ]
     },
     "metadata": {},
     "output_type": "display_data"
    },
    {
     "name": "stdout",
     "output_type": "stream",
     "text": [
      "perplexity tensor(324.2414)\n",
      "loss tensor(0.6130, device='cuda:0', grad_fn=<DivBackward0>)\n"
     ]
    },
    {
     "data": {
      "application/vnd.jupyter.widget-view+json": {
       "model_id": "684f36f1fc05423692d5cbbede475da2",
       "version_major": 2,
       "version_minor": 0
      },
      "text/plain": [
       "Evaluating:   0%|          | 0/49 [00:00<?, ?it/s]"
      ]
     },
     "metadata": {},
     "output_type": "display_data"
    },
    {
     "name": "stdout",
     "output_type": "stream",
     "text": [
      "perplexity tensor(314.8481)\n",
      "loss tensor(0.5706, device='cuda:0', grad_fn=<DivBackward0>)\n"
     ]
    },
    {
     "data": {
      "application/vnd.jupyter.widget-view+json": {
       "model_id": "1346056a1dc04dbb90e21fd2fed93da0",
       "version_major": 2,
       "version_minor": 0
      },
      "text/plain": [
       "Evaluating:   0%|          | 0/49 [00:00<?, ?it/s]"
      ]
     },
     "metadata": {},
     "output_type": "display_data"
    },
    {
     "name": "stdout",
     "output_type": "stream",
     "text": [
      "perplexity tensor(304.6779)\n",
      "loss tensor(0.5798, device='cuda:0', grad_fn=<DivBackward0>)\n"
     ]
    },
    {
     "data": {
      "application/vnd.jupyter.widget-view+json": {
       "model_id": "fbdbab5d681a4079970ca1beb89ab673",
       "version_major": 2,
       "version_minor": 0
      },
      "text/plain": [
       "Evaluating:   0%|          | 0/49 [00:00<?, ?it/s]"
      ]
     },
     "metadata": {},
     "output_type": "display_data"
    },
    {
     "name": "stdout",
     "output_type": "stream",
     "text": [
      "perplexity tensor(293.7579)\n",
      "loss tensor(0.5672, device='cuda:0', grad_fn=<DivBackward0>)\n"
     ]
    },
    {
     "data": {
      "application/vnd.jupyter.widget-view+json": {
       "model_id": "301d0b8f34cb407ab9c41d9bb53a612c",
       "version_major": 2,
       "version_minor": 0
      },
      "text/plain": [
       "Evaluating:   0%|          | 0/49 [00:00<?, ?it/s]"
      ]
     },
     "metadata": {},
     "output_type": "display_data"
    },
    {
     "name": "stdout",
     "output_type": "stream",
     "text": [
      "perplexity tensor(283.1278)\n",
      "loss tensor(0.5426, device='cuda:0', grad_fn=<DivBackward0>)\n"
     ]
    },
    {
     "data": {
      "application/vnd.jupyter.widget-view+json": {
       "model_id": "8ec3ee67687448ab83e9fe2724c00b37",
       "version_major": 2,
       "version_minor": 0
      },
      "text/plain": [
       "Evaluating:   0%|          | 0/49 [00:00<?, ?it/s]"
      ]
     },
     "metadata": {},
     "output_type": "display_data"
    },
    {
     "name": "stdout",
     "output_type": "stream",
     "text": [
      "perplexity tensor(271.4561)\n"
     ]
    }
   ],
   "source": [
    "\n",
    "epochs = 10\n",
    "gradient_accumulation_steps = 10\n",
    "num_train_batches = len(train_dataloader)\n",
    "cross_entropy = torch.nn.CrossEntropyLoss(ignore_index=tokenizer.eos_token_id)\n",
    "training_steps = num_train_batches // gradient_accumulation_steps * epochs\n",
    "optimizer = torch.optim.Adam(model.parameters(), lr=1.25e-4)\n",
    "scheduler = get_cosine_schedule_with_warmup(optimizer, num_warmup_steps=800, num_training_steps=training_steps)\n",
    "\n",
    "\n",
    "for epoch in range(2):\n",
    "\n",
    "    train_loss = 0\n",
    "    epoch_iterator = tqdm(train_dataloader, desc=\"Iteration\", disable=True)\n",
    "    for train_batch_idx, item in enumerate(epoch_iterator):\n",
    "        optimizer.zero_grad() # in case there are unused accumulated gradients\n",
    "\n",
    "        model.train()\n",
    "        src, tgt = (item, item)\n",
    "        src = src.to(device=device)\n",
    "        tgt = tgt.to(device=device)\n",
    "\n",
    "\n",
    "        output = model(input_ids=src, labels=tgt)\n",
    "        loss = output.loss\n",
    "        train_loss += loss.item() # before gradient accumulation step\n",
    "        if gradient_accumulation_steps > 1:\n",
    "            loss = loss / gradient_accumulation_steps\n",
    "        loss.backward() # accumulate gradients\n",
    "\n",
    "        if train_batch_idx % gradient_accumulation_steps == 0:\n",
    "            optimizer.step()\n",
    "            scheduler.step()  # Update learning rate schedule\n",
    "            optimizer.zero_grad()\n",
    "\n",
    "        if train_batch_idx % 20 == 0:\n",
    "            print (\"loss\", loss)\n",
    "            perplexity = evaluate(model)\n",
    "            print (\"perplexity\", perplexity)\n"
   ]
  },
  {
   "cell_type": "code",
   "execution_count": 28,
   "metadata": {
    "id": "ExpNzS5tApow"
   },
   "outputs": [
    {
     "data": {
      "application/vnd.jupyter.widget-view+json": {
       "model_id": "8d6e1f05ca47437e99c216531e867f4d",
       "version_major": 2,
       "version_minor": 0
      },
      "text/plain": [
       "Evaluating:   0%|          | 0/49 [00:00<?, ?it/s]"
      ]
     },
     "metadata": {},
     "output_type": "display_data"
    },
    {
     "data": {
      "text/plain": [
       "tensor(272.5520)"
      ]
     },
     "execution_count": 28,
     "metadata": {},
     "output_type": "execute_result"
    }
   ],
   "source": [
    "perplexity = evaluate(model)\n",
    "perplexity"
   ]
  },
  {
   "cell_type": "code",
   "execution_count": 29,
   "metadata": {
    "id": "cPfxjj0iApow"
   },
   "outputs": [
    {
     "data": {
      "application/vnd.jupyter.widget-view+json": {
       "model_id": "150afb8f3e5d4ed7bc0113b6fcf2cac3",
       "version_major": 2,
       "version_minor": 0
      },
      "text/plain": [
       "0it [00:00, ?it/s]"
      ]
     },
     "metadata": {},
     "output_type": "display_data"
    },
    {
     "name": "stdout",
     "output_type": "stream",
     "text": [
      "\n",
      "\n",
      "input_ids[0][-20:]  americanus . The two species are very similar ,\n",
      "\n",
      "\n",
      "label_ids[0][-21:] anus . The two species are very similar ,\n",
      "\n",
      "\n",
      "output us , The most of are also close, and\n",
      "\n",
      "\n",
      "\n",
      "\n",
      "\n",
      "\n",
      "\n",
      "\n",
      "\n",
      "input_ids[0][-20:]  The Michigan Department of Transportation ( MDOT ) ,\n",
      "\n",
      "\n",
      "label_ids[0][-21:]  Michigan Department of Transportation ( MDOT ) ,\n",
      "\n",
      "\n",
      "output  area State of the and Department- ) and and\n",
      "\n",
      "\n",
      "\n",
      "\n",
      "\n",
      "\n",
      "\n",
      "\n",
      "\n",
      "input_ids[0][-20:]  these help downtown become more active during the day and\n",
      "\n",
      "\n",
      "label_ids[0][-21:]  help downtown become more active during the day and\n",
      "\n",
      "\n",
      "output  \" to and a and and the time , the\n",
      "\n",
      "\n",
      "\n",
      "\n",
      "\n",
      "\n",
      "\n",
      "\n",
      "\n",
      "input_ids[0][-20:]  turn of the last century . Architecture students from around\n",
      "\n",
      "\n",
      "label_ids[0][-21:]  of the last century . Architecture students from around\n",
      "\n",
      "\n",
      "output - the world year . The and and the the\n",
      "\n",
      "\n",
      "\n",
      "\n",
      "\n",
      "\n",
      "\n",
      "\n",
      "\n",
      "input_ids[0][-20:]  the American Civil War . \n",
      "\n",
      " Dill Harris ,\n",
      "\n",
      "\n",
      "label_ids[0][-21:]  American Civil War . \n",
      "\n",
      " Dill Harris ,\n",
      "\n",
      "\n",
      "output  first and and .\n",
      "\n",
      "\n",
      "\n",
      "\n",
      ", , the\n",
      "\n",
      "\n",
      "\n",
      "\n",
      "\n",
      "\n",
      "\n",
      "\n",
      "\n",
      "input_ids[0][-20:]  sympathizing which have followed Slayer throughout their career .\n",
      "\n",
      "\n",
      "label_ids[0][-21:] izing which have followed Slayer throughout their career .\n",
      "\n",
      "\n",
      "output  and and, the the's the own and The\n",
      "\n",
      "\n",
      "\n",
      "\n",
      "\n",
      "\n",
      "\n",
      "\n",
      "\n",
      "input_ids[0][-20:]  situated roughly 85 mi ( 140 km ) southeast of\n",
      "\n",
      "\n",
      "label_ids[0][-21:]  roughly 85 mi ( 140 km ) southeast of\n",
      "\n",
      "\n",
      "output  in in% ( 5 km) in to the\n",
      "\n",
      "\n",
      "\n",
      "\n",
      "\n",
      "\n",
      "\n",
      "\n",
      "\n",
      "input_ids[0][-20:]  energetic fight with her male dancers which demonstrated her bending\n",
      "\n",
      "\n",
      "label_ids[0][-21:]  fight with her male dancers which demonstrated her bending\n",
      "\n",
      "\n",
      "output  and with the own and and the the own and\n",
      "\n",
      "\n",
      "\n",
      "\n",
      "\n",
      "\n",
      "\n",
      "\n",
      "\n",
      "input_ids[0][-20:]  @-@ lengths over Bill Elliott . In the\n",
      "\n",
      "\n",
      "label_ids[0][-21:] -@ lengths over Bill Elliott . In the\n",
      "\n",
      "\n",
      "output -@ . . the C . The the final\n",
      "\n",
      "\n",
      "\n",
      "\n",
      "\n",
      "\n",
      "\n",
      "\n",
      "\n",
      "input_ids[0][-20:]  a species of mushroom in the family Mycen\n",
      "\n",
      "\n",
      "label_ids[0][-21:]  species of mushroom in the family Mycen\n",
      "\n",
      "\n",
      "output  small of the, the most,-ena,\n",
      "\n",
      "\n",
      "\n",
      "\n",
      "\n",
      "\n",
      "\n",
      "\n",
      "\n",
      "input_ids[0][-20:]  CLASS Award were from the Big Ten , including Michigan\n",
      "\n",
      "\n",
      "label_ids[0][-21:]  Award were from the Big Ten , including Michigan\n",
      "\n",
      "\n",
      "output  ( ( in the first- and and the ,\n",
      "\n",
      "\n",
      "\n",
      "\n"
     ]
    }
   ],
   "source": [
    "i = 0\n",
    "for batch_idx, sample in tqdm(enumerate(eval_dataloader)):\n",
    "    input_ids, label_ids = sample[0][:seq_len - 1], sample[0][1:seq_len]\n",
    "    input_ids = input_ids.to(device=device)\n",
    "    label_ids = label_ids.to(device=device)\n",
    "    outputs = model(input_ids)\n",
    "    print (\"\\n\")\n",
    "    print(\"input_ids[0][-20:]\", tokenizer.decode(input_ids[-10:]))\n",
    "    print (\"\\n\")\n",
    "    print(\"label_ids[0][-21:]\", tokenizer.decode(input_ids[-9:]))\n",
    "    print (\"\\n\")\n",
    "    print(\"output\", tokenizer.decode(outputs.logits.argmax(dim=-1)[-10:]))\n",
    "    #print(\"GENERATED\", tokenizer.decode(outputs.logits.argmax(dim=-1)[0][-1:]))\n",
    "    print(\"\\n\\n\\n\")\n",
    "    i += 1\n",
    "    if i > 10: break\n",
    "    print (\"\\n\\n\")"
   ]
  },
  {
   "cell_type": "code",
   "execution_count": null,
   "metadata": {
    "id": "1kWsHfatApow"
   },
   "outputs": [],
   "source": []
  }
 ],
 "metadata": {
  "accelerator": "GPU",
  "colab": {
   "gpuType": "T4",
   "provenance": []
  },
  "kernelspec": {
   "display_name": "Python 3 (ipykernel)",
   "language": "python",
   "name": "python3"
  },
  "language_info": {
   "codemirror_mode": {
    "name": "ipython",
    "version": 3
   },
   "file_extension": ".py",
   "mimetype": "text/x-python",
   "name": "python",
   "nbconvert_exporter": "python",
   "pygments_lexer": "ipython3",
   "version": "3.12.4"
  },
  "widgets": {
   "application/vnd.jupyter.widget-state+json": {
    "state": {
     "0069b88b6fe14f649ce5eb7a9fa4d540": {
      "model_module": "@jupyter-widgets/base",
      "model_module_version": "2.0.0",
      "model_name": "LayoutModel",
      "state": {}
     },
     "00fbc31defa24c60a6e46e593d874c57": {
      "model_module": "@jupyter-widgets/controls",
      "model_module_version": "2.0.0",
      "model_name": "HTMLModel",
      "state": {
       "layout": "IPY_MODEL_5f1c984699994b26ba040ed484d69f81",
       "style": "IPY_MODEL_a7dfbbda12c64274bc715ba2942c52a0",
       "value": "Evaluating: 100%"
      }
     },
     "0107e8e627db46d1bd1ce409d5bd0fbc": {
      "model_module": "@jupyter-widgets/controls",
      "model_module_version": "2.0.0",
      "model_name": "HTMLModel",
      "state": {
       "layout": "IPY_MODEL_3245ff0405ce45e78f03c119878f1fb5",
       "style": "IPY_MODEL_c0439368c9f642e584e14bd5b9daef9b",
       "value": " 49/49 [00:46&lt;00:00,  1.29it/s]"
      }
     },
     "023c81807ef34ef99470bdc096e471bd": {
      "model_module": "@jupyter-widgets/controls",
      "model_module_version": "2.0.0",
      "model_name": "FloatProgressModel",
      "state": {
       "bar_style": "success",
       "layout": "IPY_MODEL_6373bb7c21f543199c102af484e21431",
       "max": 1,
       "style": "IPY_MODEL_e9e33f824d2d44dea952b4a377eb0b1d",
       "value": 1
      }
     },
     "033034b9cc0b4faab21c299e47df369f": {
      "model_module": "@jupyter-widgets/controls",
      "model_module_version": "2.0.0",
      "model_name": "FloatProgressModel",
      "state": {
       "bar_style": "success",
       "layout": "IPY_MODEL_84a6050879ec4b9fb91ea1d985bfd4f8",
       "max": 49,
       "style": "IPY_MODEL_b2ca2ce9da6b42e49e74a07175997ace",
       "value": 49
      }
     },
     "03d1291b05a54dc0b54f32edc7d3f6fc": {
      "model_module": "@jupyter-widgets/base",
      "model_module_version": "2.0.0",
      "model_name": "LayoutModel",
      "state": {}
     },
     "05dd661acbe04fdfad0c1b64898c0c53": {
      "model_module": "@jupyter-widgets/controls",
      "model_module_version": "2.0.0",
      "model_name": "HBoxModel",
      "state": {
       "children": [
        "IPY_MODEL_1609506a07d34fb79040c2749c05fe02",
        "IPY_MODEL_7f9d35fa7ed748099ace9351ec87d397",
        "IPY_MODEL_f0971e6d934b4311964f43f3bb1e7ef0"
       ],
       "layout": "IPY_MODEL_6abb5021bacf4ffda90d1b1ed2e7c25d"
      }
     },
     "068e88d369c3448f81f29cd3c00b579a": {
      "model_module": "@jupyter-widgets/controls",
      "model_module_version": "2.0.0",
      "model_name": "HTMLModel",
      "state": {
       "layout": "IPY_MODEL_e5639fb2a8754d31b83791ef4743197d",
       "style": "IPY_MODEL_7558e89a51284ae3bd1e981873d35f20",
       "value": " 49/49 [00:44&lt;00:00,  1.32it/s]"
      }
     },
     "08bb5aca7b1d4e90845b81b17c4027c0": {
      "model_module": "@jupyter-widgets/base",
      "model_module_version": "2.0.0",
      "model_name": "LayoutModel",
      "state": {}
     },
     "08e40642faf7404a91f196188815485a": {
      "model_module": "@jupyter-widgets/controls",
      "model_module_version": "2.0.0",
      "model_name": "HTMLStyleModel",
      "state": {
       "description_width": "",
       "font_size": null,
       "text_color": null
      }
     },
     "0acf1722de694e748ed3cefc78c37845": {
      "model_module": "@jupyter-widgets/controls",
      "model_module_version": "2.0.0",
      "model_name": "ProgressStyleModel",
      "state": {
       "description_width": ""
      }
     },
     "0c3db658b4f94101a3a8bc1332982c76": {
      "model_module": "@jupyter-widgets/base",
      "model_module_version": "2.0.0",
      "model_name": "LayoutModel",
      "state": {}
     },
     "0e45445bfadc4a2c9df2d37fff3657fe": {
      "model_module": "@jupyter-widgets/controls",
      "model_module_version": "2.0.0",
      "model_name": "HTMLModel",
      "state": {
       "layout": "IPY_MODEL_f7b30d60f4a8490eb33d55e430e81c35",
       "style": "IPY_MODEL_6c674763fff64aab88114bb60f180bbc",
       "value": "Evaluating: 100%"
      }
     },
     "0efa00b413eb4bf08108048030ee85a6": {
      "model_module": "@jupyter-widgets/base",
      "model_module_version": "2.0.0",
      "model_name": "LayoutModel",
      "state": {}
     },
     "109b58724019438d8ccb1e900bc52582": {
      "model_module": "@jupyter-widgets/base",
      "model_module_version": "2.0.0",
      "model_name": "LayoutModel",
      "state": {}
     },
     "11417b69d218472e9af119958548730d": {
      "model_module": "@jupyter-widgets/controls",
      "model_module_version": "2.0.0",
      "model_name": "ProgressStyleModel",
      "state": {
       "description_width": ""
      }
     },
     "12f1e0c705c84512ab6c8709eb513b17": {
      "model_module": "@jupyter-widgets/controls",
      "model_module_version": "2.0.0",
      "model_name": "FloatProgressModel",
      "state": {
       "bar_style": "success",
       "layout": "IPY_MODEL_b511ed27f316465196be43c77c1d87d0",
       "max": 49,
       "style": "IPY_MODEL_3819626c8b874a108deb718d518fc364",
       "value": 49
      }
     },
     "1346056a1dc04dbb90e21fd2fed93da0": {
      "model_module": "@jupyter-widgets/controls",
      "model_module_version": "2.0.0",
      "model_name": "HBoxModel",
      "state": {
       "children": [
        "IPY_MODEL_679b711c5b0e4943bf94de555d754f85",
        "IPY_MODEL_033034b9cc0b4faab21c299e47df369f",
        "IPY_MODEL_f8397460f80345dd8b44b93e82e4c473"
       ],
       "layout": "IPY_MODEL_6211c9953d75496caf1a008857c374a0"
      }
     },
     "1365c4292928495c8aa31bd8ca468dd5": {
      "model_module": "@jupyter-widgets/base",
      "model_module_version": "2.0.0",
      "model_name": "LayoutModel",
      "state": {}
     },
     "1457ed0d05fc414b9d6c4225b277e0f5": {
      "model_module": "@jupyter-widgets/controls",
      "model_module_version": "2.0.0",
      "model_name": "HTMLModel",
      "state": {
       "layout": "IPY_MODEL_57eed4352ec84d9b842a9a07a845ec9f",
       "style": "IPY_MODEL_6ffbe0129aea445db7f4545a66f15a08",
       "value": " 49/49 [00:45&lt;00:00,  1.15it/s]"
      }
     },
     "1460ff2d5c7849ecafb1b8c277471084": {
      "model_module": "@jupyter-widgets/controls",
      "model_module_version": "2.0.0",
      "model_name": "HTMLStyleModel",
      "state": {
       "description_width": "",
       "font_size": null,
       "text_color": null
      }
     },
     "150afb8f3e5d4ed7bc0113b6fcf2cac3": {
      "model_module": "@jupyter-widgets/controls",
      "model_module_version": "2.0.0",
      "model_name": "HBoxModel",
      "state": {
       "children": [
        "IPY_MODEL_56d70955141d4c1db1f7e6982f12e863",
        "IPY_MODEL_e06aa1547d2c466683a2e9d5475fe11c",
        "IPY_MODEL_894ea4a2db724c7a94e9030397543c83"
       ],
       "layout": "IPY_MODEL_9842443120684fdea79b61b71e33a965"
      }
     },
     "1609506a07d34fb79040c2749c05fe02": {
      "model_module": "@jupyter-widgets/controls",
      "model_module_version": "2.0.0",
      "model_name": "HTMLModel",
      "state": {
       "layout": "IPY_MODEL_c1c9fe2b3cda4256af411bc8ed101733",
       "style": "IPY_MODEL_41f3c26037844beb82174beab6f9ceee",
       "value": "Evaluating: 100%"
      }
     },
     "16a993c5100d4a9bb570e4a6cd2e5bf6": {
      "model_module": "@jupyter-widgets/controls",
      "model_module_version": "2.0.0",
      "model_name": "FloatProgressModel",
      "state": {
       "bar_style": "success",
       "layout": "IPY_MODEL_ed53610a46f14e8bbad2be275ff0bbc8",
       "max": 49,
       "style": "IPY_MODEL_fbdf910bd8e9449d857a3d179112f505",
       "value": 49
      }
     },
     "177998b749384222b99b9e432a335c2b": {
      "model_module": "@jupyter-widgets/controls",
      "model_module_version": "2.0.0",
      "model_name": "HBoxModel",
      "state": {
       "children": [
        "IPY_MODEL_39324f4e1bec46b8a2730dd741df2b56",
        "IPY_MODEL_74922817762248198c9dae738760fce5",
        "IPY_MODEL_65bf50e83480469baad2863bb17b87cd"
       ],
       "layout": "IPY_MODEL_743e05619c6b4182b21c1abbde0f17de"
      }
     },
     "186e8d7769df40d6844a96d7dc4a4054": {
      "model_module": "@jupyter-widgets/controls",
      "model_module_version": "2.0.0",
      "model_name": "HTMLModel",
      "state": {
       "layout": "IPY_MODEL_59680229a3ec4ded97b1019ad114c6c3",
       "style": "IPY_MODEL_79fabcb1953140cd8ba0d18d32d0aa35",
       "value": "Evaluating: 100%"
      }
     },
     "19237ae3f85e4fc6bfa52e012106bf9c": {
      "model_module": "@jupyter-widgets/base",
      "model_module_version": "2.0.0",
      "model_name": "LayoutModel",
      "state": {
       "width": "20px"
      }
     },
     "1bb1bfb9e932433cbaa06869f5c06f56": {
      "model_module": "@jupyter-widgets/controls",
      "model_module_version": "2.0.0",
      "model_name": "ProgressStyleModel",
      "state": {
       "description_width": ""
      }
     },
     "1db4dd12f2374cf8bdf9d77c6082ae04": {
      "model_module": "@jupyter-widgets/base",
      "model_module_version": "2.0.0",
      "model_name": "LayoutModel",
      "state": {}
     },
     "212a0e6fe3454576b0fe80c0b79b976b": {
      "model_module": "@jupyter-widgets/controls",
      "model_module_version": "2.0.0",
      "model_name": "HBoxModel",
      "state": {
       "children": [
        "IPY_MODEL_ae797146319344f8bb63fd06dedaf57e",
        "IPY_MODEL_b723336d52154e7d9df130f549a1f355",
        "IPY_MODEL_c8b8d2e072444b3a9645cc9d7596093d"
       ],
       "layout": "IPY_MODEL_5da76d28274647ea86cbac8de7660559"
      }
     },
     "213770975cb648608505184f5104c3a0": {
      "model_module": "@jupyter-widgets/base",
      "model_module_version": "2.0.0",
      "model_name": "LayoutModel",
      "state": {}
     },
     "21944d1e06724cc3ba730997e6d892e7": {
      "model_module": "@jupyter-widgets/controls",
      "model_module_version": "2.0.0",
      "model_name": "ProgressStyleModel",
      "state": {
       "description_width": ""
      }
     },
     "21969f1dca9749c1afc4b7cc27051901": {
      "model_module": "@jupyter-widgets/base",
      "model_module_version": "2.0.0",
      "model_name": "LayoutModel",
      "state": {}
     },
     "22bc592ba53345318567922b7283e09c": {
      "model_module": "@jupyter-widgets/controls",
      "model_module_version": "2.0.0",
      "model_name": "HTMLStyleModel",
      "state": {
       "description_width": "",
       "font_size": null,
       "text_color": null
      }
     },
     "242dbb617f644f84845a44e96076fb0f": {
      "model_module": "@jupyter-widgets/base",
      "model_module_version": "2.0.0",
      "model_name": "LayoutModel",
      "state": {}
     },
     "24587398c0084b56a84e410c1fda81aa": {
      "model_module": "@jupyter-widgets/base",
      "model_module_version": "2.0.0",
      "model_name": "LayoutModel",
      "state": {}
     },
     "25d5da48a4344c30ace19c76d1c45ebc": {
      "model_module": "@jupyter-widgets/controls",
      "model_module_version": "2.0.0",
      "model_name": "HTMLStyleModel",
      "state": {
       "description_width": "",
       "font_size": null,
       "text_color": null
      }
     },
     "2638575557444c22bdee70e2c0cd0e7d": {
      "model_module": "@jupyter-widgets/controls",
      "model_module_version": "2.0.0",
      "model_name": "HTMLStyleModel",
      "state": {
       "description_width": "",
       "font_size": null,
       "text_color": null
      }
     },
     "265a95da9af04aa3accfb1490890b508": {
      "model_module": "@jupyter-widgets/base",
      "model_module_version": "2.0.0",
      "model_name": "LayoutModel",
      "state": {}
     },
     "26a9fb45c0ca48d3b9a944df81a7280d": {
      "model_module": "@jupyter-widgets/controls",
      "model_module_version": "2.0.0",
      "model_name": "HTMLModel",
      "state": {
       "layout": "IPY_MODEL_4686a7e233db41b3a65990f012d1cfbb",
       "style": "IPY_MODEL_449aeae92963476889ec1ec705e045bb",
       "value": "Evaluating: 100%"
      }
     },
     "27ead50a8f704a73a77a2035fa04910f": {
      "model_module": "@jupyter-widgets/controls",
      "model_module_version": "2.0.0",
      "model_name": "HBoxModel",
      "state": {
       "children": [
        "IPY_MODEL_c33527985afd4f0e957fc3a054ad6589",
        "IPY_MODEL_bdcc6a98052f48e4889ee9f6240d99c5",
        "IPY_MODEL_39791b9915774d449dac35498a75b1ba"
       ],
       "layout": "IPY_MODEL_a9c105f274ba400fb491a53fe5907236"
      }
     },
     "28275aee4d664f518b6798f23bb25600": {
      "model_module": "@jupyter-widgets/base",
      "model_module_version": "2.0.0",
      "model_name": "LayoutModel",
      "state": {}
     },
     "2cc3df6d24f84cf18ca0f82ad56eabf8": {
      "model_module": "@jupyter-widgets/base",
      "model_module_version": "2.0.0",
      "model_name": "LayoutModel",
      "state": {}
     },
     "2ef3fe8be3a84f008092b2722ffbbfa7": {
      "model_module": "@jupyter-widgets/controls",
      "model_module_version": "2.0.0",
      "model_name": "ProgressStyleModel",
      "state": {
       "description_width": ""
      }
     },
     "300ed0e0284846f199a67e071f40bd30": {
      "model_module": "@jupyter-widgets/controls",
      "model_module_version": "2.0.0",
      "model_name": "HTMLStyleModel",
      "state": {
       "description_width": "",
       "font_size": null,
       "text_color": null
      }
     },
     "301d0b8f34cb407ab9c41d9bb53a612c": {
      "model_module": "@jupyter-widgets/controls",
      "model_module_version": "2.0.0",
      "model_name": "HBoxModel",
      "state": {
       "children": [
        "IPY_MODEL_26a9fb45c0ca48d3b9a944df81a7280d",
        "IPY_MODEL_8c403b270b8e41098c8f727af2079536",
        "IPY_MODEL_fc499a1caf9543c7ac0293e1ef92e0b2"
       ],
       "layout": "IPY_MODEL_94a306ab687d4b519b2e83f56da071c2"
      }
     },
     "3123e0772fbd4d2192b729d7b15f11c5": {
      "model_module": "@jupyter-widgets/base",
      "model_module_version": "2.0.0",
      "model_name": "LayoutModel",
      "state": {}
     },
     "31bc547229964ea2b96080fabd229672": {
      "model_module": "@jupyter-widgets/base",
      "model_module_version": "2.0.0",
      "model_name": "LayoutModel",
      "state": {}
     },
     "31d7a54181ed4448b8b8400330109169": {
      "model_module": "@jupyter-widgets/controls",
      "model_module_version": "2.0.0",
      "model_name": "HTMLStyleModel",
      "state": {
       "description_width": "",
       "font_size": null,
       "text_color": null
      }
     },
     "3245ff0405ce45e78f03c119878f1fb5": {
      "model_module": "@jupyter-widgets/base",
      "model_module_version": "2.0.0",
      "model_name": "LayoutModel",
      "state": {}
     },
     "337eb7bb119848df8d9907db9a53cb59": {
      "model_module": "@jupyter-widgets/controls",
      "model_module_version": "2.0.0",
      "model_name": "ProgressStyleModel",
      "state": {
       "description_width": ""
      }
     },
     "345084458406410291d7397dffe67ec2": {
      "model_module": "@jupyter-widgets/base",
      "model_module_version": "2.0.0",
      "model_name": "LayoutModel",
      "state": {}
     },
     "3819626c8b874a108deb718d518fc364": {
      "model_module": "@jupyter-widgets/controls",
      "model_module_version": "2.0.0",
      "model_name": "ProgressStyleModel",
      "state": {
       "description_width": ""
      }
     },
     "38b70f4b86ce439e88c5e2053bb23d6b": {
      "model_module": "@jupyter-widgets/base",
      "model_module_version": "2.0.0",
      "model_name": "LayoutModel",
      "state": {}
     },
     "38cf0090caf14fe68bef4a8827bff535": {
      "model_module": "@jupyter-widgets/controls",
      "model_module_version": "2.0.0",
      "model_name": "HTMLStyleModel",
      "state": {
       "description_width": "",
       "font_size": null,
       "text_color": null
      }
     },
     "390c0dd248354ca4b7e97107fa25e73c": {
      "model_module": "@jupyter-widgets/controls",
      "model_module_version": "2.0.0",
      "model_name": "HTMLStyleModel",
      "state": {
       "description_width": "",
       "font_size": null,
       "text_color": null
      }
     },
     "39324f4e1bec46b8a2730dd741df2b56": {
      "model_module": "@jupyter-widgets/controls",
      "model_module_version": "2.0.0",
      "model_name": "HTMLModel",
      "state": {
       "layout": "IPY_MODEL_886cf7da61cc41ceb979c3d89eb10b6e",
       "style": "IPY_MODEL_5a916959cd5441b19f6b58da2be0093c",
       "value": "Evaluating: 100%"
      }
     },
     "39791b9915774d449dac35498a75b1ba": {
      "model_module": "@jupyter-widgets/controls",
      "model_module_version": "2.0.0",
      "model_name": "HTMLModel",
      "state": {
       "layout": "IPY_MODEL_fa5ce870cb47420abcfac57c16462543",
       "style": "IPY_MODEL_f2fea46434fe4e8f818218cc2444b5b6",
       "value": " 49/49 [00:34&lt;00:00,  1.67it/s]"
      }
     },
     "3c53558c39ba42d6b487cf98117950b0": {
      "model_module": "@jupyter-widgets/controls",
      "model_module_version": "2.0.0",
      "model_name": "HTMLModel",
      "state": {
       "layout": "IPY_MODEL_345084458406410291d7397dffe67ec2",
       "style": "IPY_MODEL_6ffdaa7fca314538be7a4fa487da76ca",
       "value": "Evaluating: 100%"
      }
     },
     "3c5c300e93a040b39c8755f0e92ca8a7": {
      "model_module": "@jupyter-widgets/controls",
      "model_module_version": "2.0.0",
      "model_name": "HTMLModel",
      "state": {
       "layout": "IPY_MODEL_03d1291b05a54dc0b54f32edc7d3f6fc",
       "style": "IPY_MODEL_2638575557444c22bdee70e2c0cd0e7d",
       "value": "Evaluating: 100%"
      }
     },
     "3cfe7b2d946f49358cbdfdc259b408cf": {
      "model_module": "@jupyter-widgets/base",
      "model_module_version": "2.0.0",
      "model_name": "LayoutModel",
      "state": {}
     },
     "3d8d545169564ddcb869213a80ca7a0e": {
      "model_module": "@jupyter-widgets/base",
      "model_module_version": "2.0.0",
      "model_name": "LayoutModel",
      "state": {}
     },
     "3d9a9853f6d846b2b01aeff5a6be46c6": {
      "model_module": "@jupyter-widgets/base",
      "model_module_version": "2.0.0",
      "model_name": "LayoutModel",
      "state": {}
     },
     "3fead7f03dfe483f904513e5ea6ea3f7": {
      "model_module": "@jupyter-widgets/controls",
      "model_module_version": "2.0.0",
      "model_name": "HBoxModel",
      "state": {
       "children": [
        "IPY_MODEL_5f0501cbb2e948208c40866515e0cb8f",
        "IPY_MODEL_8b982fd3050e414db851ce7c6d4166cb",
        "IPY_MODEL_cc9b5d9f5ec14b45ad321dbe4454525a"
       ],
       "layout": "IPY_MODEL_52732480eace4ca0bc61107a14d0707e"
      }
     },
     "407ced7642fa429ca8abfa54588b6b8c": {
      "model_module": "@jupyter-widgets/controls",
      "model_module_version": "2.0.0",
      "model_name": "HTMLModel",
      "state": {
       "layout": "IPY_MODEL_d0e5ef7dbbb947c8a81f16a92d066c3b",
       "style": "IPY_MODEL_e974b88c267048aeb3bcfb0d57594173",
       "value": " 49/49 [00:13&lt;00:00,  4.44it/s]"
      }
     },
     "41f3c26037844beb82174beab6f9ceee": {
      "model_module": "@jupyter-widgets/controls",
      "model_module_version": "2.0.0",
      "model_name": "HTMLStyleModel",
      "state": {
       "description_width": "",
       "font_size": null,
       "text_color": null
      }
     },
     "430090c063624334af7f8cd72f1b1f42": {
      "model_module": "@jupyter-widgets/controls",
      "model_module_version": "2.0.0",
      "model_name": "HTMLStyleModel",
      "state": {
       "description_width": "",
       "font_size": null,
       "text_color": null
      }
     },
     "436b07b6092a47929b008d5dbd8b7c16": {
      "model_module": "@jupyter-widgets/controls",
      "model_module_version": "2.0.0",
      "model_name": "HTMLModel",
      "state": {
       "layout": "IPY_MODEL_4f3f9354a48142a2a16c7cee678368b0",
       "style": "IPY_MODEL_6b4905d27d5c411fae1e8cc39d333727",
       "value": "Evaluating: 100%"
      }
     },
     "43d72e38ec234b62ba7e1fe147774f6b": {
      "model_module": "@jupyter-widgets/base",
      "model_module_version": "2.0.0",
      "model_name": "LayoutModel",
      "state": {}
     },
     "44121956e37c4a038cd82428c3ad5051": {
      "model_module": "@jupyter-widgets/base",
      "model_module_version": "2.0.0",
      "model_name": "LayoutModel",
      "state": {}
     },
     "449aeae92963476889ec1ec705e045bb": {
      "model_module": "@jupyter-widgets/controls",
      "model_module_version": "2.0.0",
      "model_name": "HTMLStyleModel",
      "state": {
       "description_width": "",
       "font_size": null,
       "text_color": null
      }
     },
     "4686a7e233db41b3a65990f012d1cfbb": {
      "model_module": "@jupyter-widgets/base",
      "model_module_version": "2.0.0",
      "model_name": "LayoutModel",
      "state": {}
     },
     "477a4b1cad2347d68d1d2e26e993d4b7": {
      "model_module": "@jupyter-widgets/controls",
      "model_module_version": "2.0.0",
      "model_name": "ProgressStyleModel",
      "state": {
       "description_width": ""
      }
     },
     "47b706da193c4645aba2677a87b7028a": {
      "model_module": "@jupyter-widgets/controls",
      "model_module_version": "2.0.0",
      "model_name": "HBoxModel",
      "state": {
       "children": [
        "IPY_MODEL_3c5c300e93a040b39c8755f0e92ca8a7",
        "IPY_MODEL_a52a296a48604807b441cdc894b0996f",
        "IPY_MODEL_f92364a424fe4fb8ac2c39d19bc1b2a0"
       ],
       "layout": "IPY_MODEL_bd9775194dae4b788dfa2378884515f6"
      }
     },
     "49097ea5559c4e6b81f19e22d49f00ae": {
      "model_module": "@jupyter-widgets/controls",
      "model_module_version": "2.0.0",
      "model_name": "HBoxModel",
      "state": {
       "children": [
        "IPY_MODEL_d416650aff3b472da7ad3f9c3e52a328",
        "IPY_MODEL_671302f31f814699acd34264b246aa3b",
        "IPY_MODEL_5dd804a045244825997220e46726b8df"
       ],
       "layout": "IPY_MODEL_91502968088a4e50872bb1afd510deb9"
      }
     },
     "49f3501f58504191a9db16921fc6a757": {
      "model_module": "@jupyter-widgets/base",
      "model_module_version": "2.0.0",
      "model_name": "LayoutModel",
      "state": {}
     },
     "4a21dc2019e64e6caddf68f5527ed7b2": {
      "model_module": "@jupyter-widgets/base",
      "model_module_version": "2.0.0",
      "model_name": "LayoutModel",
      "state": {}
     },
     "4caba6463deb4d93a8aa1a2798341e29": {
      "model_module": "@jupyter-widgets/controls",
      "model_module_version": "2.0.0",
      "model_name": "HTMLModel",
      "state": {
       "layout": "IPY_MODEL_65535110a2e84b3b9d49f042a8f9af58",
       "style": "IPY_MODEL_430090c063624334af7f8cd72f1b1f42"
      }
     },
     "4e375518184c42f08cc14b13a988b472": {
      "model_module": "@jupyter-widgets/controls",
      "model_module_version": "2.0.0",
      "model_name": "HTMLModel",
      "state": {
       "layout": "IPY_MODEL_8033bb871d6842ebb47b463c111f4f12",
       "style": "IPY_MODEL_25d5da48a4344c30ace19c76d1c45ebc",
       "value": " 49/49 [00:50&lt;00:00,  1.32it/s]"
      }
     },
     "4f3f9354a48142a2a16c7cee678368b0": {
      "model_module": "@jupyter-widgets/base",
      "model_module_version": "2.0.0",
      "model_name": "LayoutModel",
      "state": {}
     },
     "512938db0a43465f9790892af598b0f1": {
      "model_module": "@jupyter-widgets/controls",
      "model_module_version": "2.0.0",
      "model_name": "HTMLModel",
      "state": {
       "layout": "IPY_MODEL_44121956e37c4a038cd82428c3ad5051",
       "style": "IPY_MODEL_eb0342368101484bb2ad838558e54396",
       "value": " 49/49 [00:28&lt;00:00,  2.02it/s]"
      }
     },
     "51cab4f111144804b6798f5dd7cf343f": {
      "model_module": "@jupyter-widgets/controls",
      "model_module_version": "2.0.0",
      "model_name": "HTMLModel",
      "state": {
       "layout": "IPY_MODEL_28275aee4d664f518b6798f23bb25600",
       "style": "IPY_MODEL_c7d3844789e0460d9aa79eedc60758f2",
       "value": "Evaluating: 100%"
      }
     },
     "52732480eace4ca0bc61107a14d0707e": {
      "model_module": "@jupyter-widgets/base",
      "model_module_version": "2.0.0",
      "model_name": "LayoutModel",
      "state": {}
     },
     "547aca014dc8442e83816667a98fcaac": {
      "model_module": "@jupyter-widgets/controls",
      "model_module_version": "2.0.0",
      "model_name": "HTMLStyleModel",
      "state": {
       "description_width": "",
       "font_size": null,
       "text_color": null
      }
     },
     "55b218a2abf04e1785077b703e8b33a0": {
      "model_module": "@jupyter-widgets/controls",
      "model_module_version": "2.0.0",
      "model_name": "FloatProgressModel",
      "state": {
       "bar_style": "danger",
       "layout": "IPY_MODEL_e9f3d681499a440ebadccca78d099f0d",
       "max": 1,
       "style": "IPY_MODEL_2ef3fe8be3a84f008092b2722ffbbfa7",
       "value": 1
      }
     },
     "563a315cf6ba4c6a9f54fa5260e08ac3": {
      "model_module": "@jupyter-widgets/controls",
      "model_module_version": "2.0.0",
      "model_name": "HTMLModel",
      "state": {
       "layout": "IPY_MODEL_6a744ccea1c84d1bb73150ec68a2e8d0",
       "style": "IPY_MODEL_c2bcb0d1840a45c0bbc3f64c0d4762eb",
       "value": " 49/49 [00:51&lt;00:00,  1.27it/s]"
      }
     },
     "56d70955141d4c1db1f7e6982f12e863": {
      "model_module": "@jupyter-widgets/controls",
      "model_module_version": "2.0.0",
      "model_name": "HTMLModel",
      "state": {
       "layout": "IPY_MODEL_91c740fc314e4c08b4bfadefc0699fe3",
       "style": "IPY_MODEL_72c4bdd23be9469abadba6bd01a56099"
      }
     },
     "57eed4352ec84d9b842a9a07a845ec9f": {
      "model_module": "@jupyter-widgets/base",
      "model_module_version": "2.0.0",
      "model_name": "LayoutModel",
      "state": {}
     },
     "58f66b55f27d4f3f989e61ebf79e1a15": {
      "model_module": "@jupyter-widgets/controls",
      "model_module_version": "2.0.0",
      "model_name": "HBoxModel",
      "state": {
       "children": [
        "IPY_MODEL_80be89ea9bcc4ea993ef4115054b411c",
        "IPY_MODEL_7805f4f1172c4d17b2d608b6accf36db",
        "IPY_MODEL_407ced7642fa429ca8abfa54588b6b8c"
       ],
       "layout": "IPY_MODEL_5b66d476024f4660b9e61a627550c5d3"
      }
     },
     "59680229a3ec4ded97b1019ad114c6c3": {
      "model_module": "@jupyter-widgets/base",
      "model_module_version": "2.0.0",
      "model_name": "LayoutModel",
      "state": {}
     },
     "599f7a6a5e5f4d3dac7d7bd9436bb89c": {
      "model_module": "@jupyter-widgets/controls",
      "model_module_version": "2.0.0",
      "model_name": "HTMLModel",
      "state": {
       "layout": "IPY_MODEL_7c536e9e94714d8fb3909072bd72afca",
       "style": "IPY_MODEL_547aca014dc8442e83816667a98fcaac",
       "value": " 10/? [00:00&lt;00:00, 35.52it/s]"
      }
     },
     "5a916959cd5441b19f6b58da2be0093c": {
      "model_module": "@jupyter-widgets/controls",
      "model_module_version": "2.0.0",
      "model_name": "HTMLStyleModel",
      "state": {
       "description_width": "",
       "font_size": null,
       "text_color": null
      }
     },
     "5ab86c2991a84b1299248991c8da82f5": {
      "model_module": "@jupyter-widgets/controls",
      "model_module_version": "2.0.0",
      "model_name": "ProgressStyleModel",
      "state": {
       "description_width": ""
      }
     },
     "5b3b63303dd6433db2d2768c0806e72c": {
      "model_module": "@jupyter-widgets/base",
      "model_module_version": "2.0.0",
      "model_name": "LayoutModel",
      "state": {}
     },
     "5b66d476024f4660b9e61a627550c5d3": {
      "model_module": "@jupyter-widgets/base",
      "model_module_version": "2.0.0",
      "model_name": "LayoutModel",
      "state": {}
     },
     "5cd9a71f6ef94b0ca854aa213324ef79": {
      "model_module": "@jupyter-widgets/controls",
      "model_module_version": "2.0.0",
      "model_name": "FloatProgressModel",
      "state": {
       "bar_style": "success",
       "layout": "IPY_MODEL_f3653e00ac6f4fd0829ffcbef4f442fe",
       "max": 49,
       "style": "IPY_MODEL_74e617fd8a374a0882baf53fdb9c6b6e",
       "value": 49
      }
     },
     "5da76d28274647ea86cbac8de7660559": {
      "model_module": "@jupyter-widgets/base",
      "model_module_version": "2.0.0",
      "model_name": "LayoutModel",
      "state": {}
     },
     "5dd804a045244825997220e46726b8df": {
      "model_module": "@jupyter-widgets/controls",
      "model_module_version": "2.0.0",
      "model_name": "HTMLModel",
      "state": {
       "layout": "IPY_MODEL_69a347c2e3e74e50bfe98d3087f4d85a",
       "style": "IPY_MODEL_7ae0eef0125c4d4f832915c437879fb5",
       "value": " 49/49 [00:49&lt;00:00,  1.08it/s]"
      }
     },
     "5f0501cbb2e948208c40866515e0cb8f": {
      "model_module": "@jupyter-widgets/controls",
      "model_module_version": "2.0.0",
      "model_name": "HTMLModel",
      "state": {
       "layout": "IPY_MODEL_5b3b63303dd6433db2d2768c0806e72c",
       "style": "IPY_MODEL_31d7a54181ed4448b8b8400330109169",
       "value": "Evaluating: 100%"
      }
     },
     "5f15c28d0f474deeb4cf26cb136eec0f": {
      "model_module": "@jupyter-widgets/base",
      "model_module_version": "2.0.0",
      "model_name": "LayoutModel",
      "state": {}
     },
     "5f1c984699994b26ba040ed484d69f81": {
      "model_module": "@jupyter-widgets/base",
      "model_module_version": "2.0.0",
      "model_name": "LayoutModel",
      "state": {}
     },
     "6119477781ca420081b51062b3ef9afd": {
      "model_module": "@jupyter-widgets/controls",
      "model_module_version": "2.0.0",
      "model_name": "ProgressStyleModel",
      "state": {
       "description_width": ""
      }
     },
     "6211c9953d75496caf1a008857c374a0": {
      "model_module": "@jupyter-widgets/base",
      "model_module_version": "2.0.0",
      "model_name": "LayoutModel",
      "state": {}
     },
     "6227fe5427ef40518f2f2fbcb6f171e1": {
      "model_module": "@jupyter-widgets/controls",
      "model_module_version": "2.0.0",
      "model_name": "HTMLStyleModel",
      "state": {
       "description_width": "",
       "font_size": null,
       "text_color": null
      }
     },
     "62645fcfb82547a1b42618636bd968ba": {
      "model_module": "@jupyter-widgets/controls",
      "model_module_version": "2.0.0",
      "model_name": "HTMLStyleModel",
      "state": {
       "description_width": "",
       "font_size": null,
       "text_color": null
      }
     },
     "6373bb7c21f543199c102af484e21431": {
      "model_module": "@jupyter-widgets/base",
      "model_module_version": "2.0.0",
      "model_name": "LayoutModel",
      "state": {
       "width": "20px"
      }
     },
     "65535110a2e84b3b9d49f042a8f9af58": {
      "model_module": "@jupyter-widgets/base",
      "model_module_version": "2.0.0",
      "model_name": "LayoutModel",
      "state": {}
     },
     "65bf50e83480469baad2863bb17b87cd": {
      "model_module": "@jupyter-widgets/controls",
      "model_module_version": "2.0.0",
      "model_name": "HTMLModel",
      "state": {
       "layout": "IPY_MODEL_df898da877a64af09e8b5aee321fabab",
       "style": "IPY_MODEL_22bc592ba53345318567922b7283e09c",
       "value": " 49/49 [00:26&lt;00:00,  2.33it/s]"
      }
     },
     "66ac46df224247ac9f584de7c2fc03f4": {
      "model_module": "@jupyter-widgets/base",
      "model_module_version": "2.0.0",
      "model_name": "LayoutModel",
      "state": {
       "width": "20px"
      }
     },
     "66bc72d2ddaa4f6fa303b4db72c21c42": {
      "model_module": "@jupyter-widgets/controls",
      "model_module_version": "2.0.0",
      "model_name": "HTMLStyleModel",
      "state": {
       "description_width": "",
       "font_size": null,
       "text_color": null
      }
     },
     "671302f31f814699acd34264b246aa3b": {
      "model_module": "@jupyter-widgets/controls",
      "model_module_version": "2.0.0",
      "model_name": "FloatProgressModel",
      "state": {
       "bar_style": "success",
       "layout": "IPY_MODEL_f91b83d11fc747648dae168c3563357b",
       "max": 49,
       "style": "IPY_MODEL_7d23ede10d0a4a2497917414e1fcad20",
       "value": 49
      }
     },
     "679b711c5b0e4943bf94de555d754f85": {
      "model_module": "@jupyter-widgets/controls",
      "model_module_version": "2.0.0",
      "model_name": "HTMLModel",
      "state": {
       "layout": "IPY_MODEL_c4f89d609fd7429a99bca7e2cee31965",
       "style": "IPY_MODEL_390c0dd248354ca4b7e97107fa25e73c",
       "value": "Evaluating: 100%"
      }
     },
     "67c5770a4ed9466e9c3cfc63b6fbfb3f": {
      "model_module": "@jupyter-widgets/controls",
      "model_module_version": "2.0.0",
      "model_name": "HBoxModel",
      "state": {
       "children": [
        "IPY_MODEL_7be7a2bdf9f349b3ae46cee362583f3c",
        "IPY_MODEL_8566459fbc9e49b8aa914dbefbec9fa1",
        "IPY_MODEL_8fff4d2546214472ab03e9d9650a3414"
       ],
       "layout": "IPY_MODEL_e0afe38d8eff4c8e8c6a10811882a3f9"
      }
     },
     "684f36f1fc05423692d5cbbede475da2": {
      "model_module": "@jupyter-widgets/controls",
      "model_module_version": "2.0.0",
      "model_name": "HBoxModel",
      "state": {
       "children": [
        "IPY_MODEL_ebd3a8b4f5214c1f8bf6cc61adfc671c",
        "IPY_MODEL_9fad0047cc454b2a9eae083ae75478ce",
        "IPY_MODEL_4e375518184c42f08cc14b13a988b472"
       ],
       "layout": "IPY_MODEL_8e8ec8a90bbb46a497f757033da2ccb5"
      }
     },
     "686178db1536444ea2f2db6e42b9ba32": {
      "model_module": "@jupyter-widgets/controls",
      "model_module_version": "2.0.0",
      "model_name": "FloatProgressModel",
      "state": {
       "bar_style": "success",
       "layout": "IPY_MODEL_6d7b886af53c4b9c96493b0217cf777a",
       "max": 49,
       "style": "IPY_MODEL_337eb7bb119848df8d9907db9a53cb59",
       "value": 49
      }
     },
     "69a347c2e3e74e50bfe98d3087f4d85a": {
      "model_module": "@jupyter-widgets/base",
      "model_module_version": "2.0.0",
      "model_name": "LayoutModel",
      "state": {}
     },
     "6a71735e0c6b4883a3b6a755e62f7515": {
      "model_module": "@jupyter-widgets/controls",
      "model_module_version": "2.0.0",
      "model_name": "HTMLStyleModel",
      "state": {
       "description_width": "",
       "font_size": null,
       "text_color": null
      }
     },
     "6a744ccea1c84d1bb73150ec68a2e8d0": {
      "model_module": "@jupyter-widgets/base",
      "model_module_version": "2.0.0",
      "model_name": "LayoutModel",
      "state": {}
     },
     "6abb5021bacf4ffda90d1b1ed2e7c25d": {
      "model_module": "@jupyter-widgets/base",
      "model_module_version": "2.0.0",
      "model_name": "LayoutModel",
      "state": {}
     },
     "6ac0356e706040f8b11c551ffa0eea3c": {
      "model_module": "@jupyter-widgets/base",
      "model_module_version": "2.0.0",
      "model_name": "LayoutModel",
      "state": {}
     },
     "6b4905d27d5c411fae1e8cc39d333727": {
      "model_module": "@jupyter-widgets/controls",
      "model_module_version": "2.0.0",
      "model_name": "HTMLStyleModel",
      "state": {
       "description_width": "",
       "font_size": null,
       "text_color": null
      }
     },
     "6c674763fff64aab88114bb60f180bbc": {
      "model_module": "@jupyter-widgets/controls",
      "model_module_version": "2.0.0",
      "model_name": "HTMLStyleModel",
      "state": {
       "description_width": "",
       "font_size": null,
       "text_color": null
      }
     },
     "6cf9ac2f1cdc431cb239b01b5d8dac11": {
      "model_module": "@jupyter-widgets/base",
      "model_module_version": "2.0.0",
      "model_name": "LayoutModel",
      "state": {}
     },
     "6d7b886af53c4b9c96493b0217cf777a": {
      "model_module": "@jupyter-widgets/base",
      "model_module_version": "2.0.0",
      "model_name": "LayoutModel",
      "state": {}
     },
     "6ffbe0129aea445db7f4545a66f15a08": {
      "model_module": "@jupyter-widgets/controls",
      "model_module_version": "2.0.0",
      "model_name": "HTMLStyleModel",
      "state": {
       "description_width": "",
       "font_size": null,
       "text_color": null
      }
     },
     "6ffdaa7fca314538be7a4fa487da76ca": {
      "model_module": "@jupyter-widgets/controls",
      "model_module_version": "2.0.0",
      "model_name": "HTMLStyleModel",
      "state": {
       "description_width": "",
       "font_size": null,
       "text_color": null
      }
     },
     "71142821c94948f69098158bcede7e05": {
      "model_module": "@jupyter-widgets/controls",
      "model_module_version": "2.0.0",
      "model_name": "ProgressStyleModel",
      "state": {
       "description_width": ""
      }
     },
     "7280ee64eb784f6cade4335280574ad1": {
      "model_module": "@jupyter-widgets/controls",
      "model_module_version": "2.0.0",
      "model_name": "HBoxModel",
      "state": {
       "children": [
        "IPY_MODEL_00fbc31defa24c60a6e46e593d874c57",
        "IPY_MODEL_12f1e0c705c84512ab6c8709eb513b17",
        "IPY_MODEL_068e88d369c3448f81f29cd3c00b579a"
       ],
       "layout": "IPY_MODEL_0efa00b413eb4bf08108048030ee85a6"
      }
     },
     "72c4bdd23be9469abadba6bd01a56099": {
      "model_module": "@jupyter-widgets/controls",
      "model_module_version": "2.0.0",
      "model_name": "HTMLStyleModel",
      "state": {
       "description_width": "",
       "font_size": null,
       "text_color": null
      }
     },
     "740382b22e114ae6b99935bf6ea946ef": {
      "model_module": "@jupyter-widgets/controls",
      "model_module_version": "2.0.0",
      "model_name": "HTMLStyleModel",
      "state": {
       "description_width": "",
       "font_size": null,
       "text_color": null
      }
     },
     "743e05619c6b4182b21c1abbde0f17de": {
      "model_module": "@jupyter-widgets/base",
      "model_module_version": "2.0.0",
      "model_name": "LayoutModel",
      "state": {}
     },
     "74922817762248198c9dae738760fce5": {
      "model_module": "@jupyter-widgets/controls",
      "model_module_version": "2.0.0",
      "model_name": "FloatProgressModel",
      "state": {
       "bar_style": "success",
       "layout": "IPY_MODEL_6ac0356e706040f8b11c551ffa0eea3c",
       "max": 49,
       "style": "IPY_MODEL_6119477781ca420081b51062b3ef9afd",
       "value": 49
      }
     },
     "74e617fd8a374a0882baf53fdb9c6b6e": {
      "model_module": "@jupyter-widgets/controls",
      "model_module_version": "2.0.0",
      "model_name": "ProgressStyleModel",
      "state": {
       "description_width": ""
      }
     },
     "7558e89a51284ae3bd1e981873d35f20": {
      "model_module": "@jupyter-widgets/controls",
      "model_module_version": "2.0.0",
      "model_name": "HTMLStyleModel",
      "state": {
       "description_width": "",
       "font_size": null,
       "text_color": null
      }
     },
     "7805f4f1172c4d17b2d608b6accf36db": {
      "model_module": "@jupyter-widgets/controls",
      "model_module_version": "2.0.0",
      "model_name": "FloatProgressModel",
      "state": {
       "bar_style": "success",
       "layout": "IPY_MODEL_bcce8c3f02a8488b8a6da48fe5d45bcf",
       "max": 49,
       "style": "IPY_MODEL_a62581e686254f3294951802ae5cf4d4",
       "value": 49
      }
     },
     "791c5f40b25b4534960a745b24134bca": {
      "model_module": "@jupyter-widgets/controls",
      "model_module_version": "2.0.0",
      "model_name": "HTMLStyleModel",
      "state": {
       "description_width": "",
       "font_size": null,
       "text_color": null
      }
     },
     "792b920fd7e0476884b67339cb0ae75b": {
      "model_module": "@jupyter-widgets/controls",
      "model_module_version": "2.0.0",
      "model_name": "HTMLStyleModel",
      "state": {
       "description_width": "",
       "font_size": null,
       "text_color": null
      }
     },
     "79fabcb1953140cd8ba0d18d32d0aa35": {
      "model_module": "@jupyter-widgets/controls",
      "model_module_version": "2.0.0",
      "model_name": "HTMLStyleModel",
      "state": {
       "description_width": "",
       "font_size": null,
       "text_color": null
      }
     },
     "7ae0eef0125c4d4f832915c437879fb5": {
      "model_module": "@jupyter-widgets/controls",
      "model_module_version": "2.0.0",
      "model_name": "HTMLStyleModel",
      "state": {
       "description_width": "",
       "font_size": null,
       "text_color": null
      }
     },
     "7be7a2bdf9f349b3ae46cee362583f3c": {
      "model_module": "@jupyter-widgets/controls",
      "model_module_version": "2.0.0",
      "model_name": "HTMLModel",
      "state": {
       "layout": "IPY_MODEL_fbf3ca21aaae4cecb83c07b66454ae6c",
       "style": "IPY_MODEL_66bc72d2ddaa4f6fa303b4db72c21c42",
       "value": "Evaluating: 100%"
      }
     },
     "7c536e9e94714d8fb3909072bd72afca": {
      "model_module": "@jupyter-widgets/base",
      "model_module_version": "2.0.0",
      "model_name": "LayoutModel",
      "state": {}
     },
     "7d23ede10d0a4a2497917414e1fcad20": {
      "model_module": "@jupyter-widgets/controls",
      "model_module_version": "2.0.0",
      "model_name": "ProgressStyleModel",
      "state": {
       "description_width": ""
      }
     },
     "7f9d35fa7ed748099ace9351ec87d397": {
      "model_module": "@jupyter-widgets/controls",
      "model_module_version": "2.0.0",
      "model_name": "FloatProgressModel",
      "state": {
       "bar_style": "success",
       "layout": "IPY_MODEL_ff3c792a9f0544669ba4904e9d26eb1c",
       "max": 49,
       "style": "IPY_MODEL_71142821c94948f69098158bcede7e05",
       "value": 49
      }
     },
     "8033bb871d6842ebb47b463c111f4f12": {
      "model_module": "@jupyter-widgets/base",
      "model_module_version": "2.0.0",
      "model_name": "LayoutModel",
      "state": {}
     },
     "80be89ea9bcc4ea993ef4115054b411c": {
      "model_module": "@jupyter-widgets/controls",
      "model_module_version": "2.0.0",
      "model_name": "HTMLModel",
      "state": {
       "layout": "IPY_MODEL_dc920a7a32904dbeacad2b0b8adf79f6",
       "style": "IPY_MODEL_b46f8157d8634b88a66127519c4845c9",
       "value": "Evaluating: 100%"
      }
     },
     "80d12ff8039848be99ec6fa6cf01e37d": {
      "model_module": "@jupyter-widgets/controls",
      "model_module_version": "2.0.0",
      "model_name": "ProgressStyleModel",
      "state": {
       "description_width": ""
      }
     },
     "815589a9f1b34a4ca49f4120b75ed3bc": {
      "model_module": "@jupyter-widgets/controls",
      "model_module_version": "2.0.0",
      "model_name": "HBoxModel",
      "state": {
       "children": [
        "IPY_MODEL_9a6237f0963a4be6b6e3a8eedbfa9435",
        "IPY_MODEL_023c81807ef34ef99470bdc096e471bd",
        "IPY_MODEL_d483d6761a064fddb72044e2ac670492"
       ],
       "layout": "IPY_MODEL_9d9e01fa95ca49eab42bacd12f3f4e0f"
      }
     },
     "81b51f2f23f84e0280b05ecdbe959c77": {
      "model_module": "@jupyter-widgets/base",
      "model_module_version": "2.0.0",
      "model_name": "LayoutModel",
      "state": {}
     },
     "83ab4e7ee7da4c298d390fff9568aebd": {
      "model_module": "@jupyter-widgets/base",
      "model_module_version": "2.0.0",
      "model_name": "LayoutModel",
      "state": {}
     },
     "83acb2e681664e7eaadbf86c5ec6fb62": {
      "model_module": "@jupyter-widgets/controls",
      "model_module_version": "2.0.0",
      "model_name": "FloatProgressModel",
      "state": {
       "bar_style": "success",
       "layout": "IPY_MODEL_2cc3df6d24f84cf18ca0f82ad56eabf8",
       "max": 49,
       "style": "IPY_MODEL_21944d1e06724cc3ba730997e6d892e7",
       "value": 49
      }
     },
     "84a6050879ec4b9fb91ea1d985bfd4f8": {
      "model_module": "@jupyter-widgets/base",
      "model_module_version": "2.0.0",
      "model_name": "LayoutModel",
      "state": {}
     },
     "8566459fbc9e49b8aa914dbefbec9fa1": {
      "model_module": "@jupyter-widgets/controls",
      "model_module_version": "2.0.0",
      "model_name": "FloatProgressModel",
      "state": {
       "bar_style": "success",
       "layout": "IPY_MODEL_31bc547229964ea2b96080fabd229672",
       "max": 49,
       "style": "IPY_MODEL_0acf1722de694e748ed3cefc78c37845",
       "value": 49
      }
     },
     "886cf7da61cc41ceb979c3d89eb10b6e": {
      "model_module": "@jupyter-widgets/base",
      "model_module_version": "2.0.0",
      "model_name": "LayoutModel",
      "state": {}
     },
     "8940b835d8aa42e4b8909f1415aeb102": {
      "model_module": "@jupyter-widgets/base",
      "model_module_version": "2.0.0",
      "model_name": "LayoutModel",
      "state": {}
     },
     "894ea4a2db724c7a94e9030397543c83": {
      "model_module": "@jupyter-widgets/controls",
      "model_module_version": "2.0.0",
      "model_name": "HTMLModel",
      "state": {
       "layout": "IPY_MODEL_109b58724019438d8ccb1e900bc52582",
       "style": "IPY_MODEL_97e820064a4e46b0b44bc0923cc694de",
       "value": " 10/? [00:00&lt;00:00, 19.21it/s]"
      }
     },
     "8b982fd3050e414db851ce7c6d4166cb": {
      "model_module": "@jupyter-widgets/controls",
      "model_module_version": "2.0.0",
      "model_name": "FloatProgressModel",
      "state": {
       "bar_style": "success",
       "layout": "IPY_MODEL_b8cc5e6e714742f593d1e12bb092be63",
       "max": 49,
       "style": "IPY_MODEL_925ee174318142ed88e3e19549e20ff3",
       "value": 49
      }
     },
     "8c403b270b8e41098c8f727af2079536": {
      "model_module": "@jupyter-widgets/controls",
      "model_module_version": "2.0.0",
      "model_name": "FloatProgressModel",
      "state": {
       "bar_style": "success",
       "layout": "IPY_MODEL_9e964d13e2f54ba28fb10d4c0ec1bb83",
       "max": 49,
       "style": "IPY_MODEL_bd2748bc04fe4532ae9df997228cd13f",
       "value": 49
      }
     },
     "8d6e1f05ca47437e99c216531e867f4d": {
      "model_module": "@jupyter-widgets/controls",
      "model_module_version": "2.0.0",
      "model_name": "HBoxModel",
      "state": {
       "children": [
        "IPY_MODEL_a066ceaa4c6d45ca862809f80a837192",
        "IPY_MODEL_b5d21481416145099b592fe733a55780",
        "IPY_MODEL_0107e8e627db46d1bd1ce409d5bd0fbc"
       ],
       "layout": "IPY_MODEL_5f15c28d0f474deeb4cf26cb136eec0f"
      }
     },
     "8e8ec8a90bbb46a497f757033da2ccb5": {
      "model_module": "@jupyter-widgets/base",
      "model_module_version": "2.0.0",
      "model_name": "LayoutModel",
      "state": {}
     },
     "8ec3ee67687448ab83e9fe2724c00b37": {
      "model_module": "@jupyter-widgets/controls",
      "model_module_version": "2.0.0",
      "model_name": "HBoxModel",
      "state": {
       "children": [
        "IPY_MODEL_51cab4f111144804b6798f5dd7cf343f",
        "IPY_MODEL_83acb2e681664e7eaadbf86c5ec6fb62",
        "IPY_MODEL_ab8d32ccf3484f598d43e0d9710085c0"
       ],
       "layout": "IPY_MODEL_8940b835d8aa42e4b8909f1415aeb102"
      }
     },
     "8fff4d2546214472ab03e9d9650a3414": {
      "model_module": "@jupyter-widgets/controls",
      "model_module_version": "2.0.0",
      "model_name": "HTMLModel",
      "state": {
       "layout": "IPY_MODEL_fb0a8923b98a4b0491ed25c3cc18e3a9",
       "style": "IPY_MODEL_d3509ae5b79e430dbb5b2ed2a41b384e",
       "value": " 49/49 [00:12&lt;00:00,  4.96it/s]"
      }
     },
     "907084fac56d46108c1521fe9a00dcab": {
      "model_module": "@jupyter-widgets/controls",
      "model_module_version": "2.0.0",
      "model_name": "HTMLStyleModel",
      "state": {
       "description_width": "",
       "font_size": null,
       "text_color": null
      }
     },
     "91502968088a4e50872bb1afd510deb9": {
      "model_module": "@jupyter-widgets/base",
      "model_module_version": "2.0.0",
      "model_name": "LayoutModel",
      "state": {}
     },
     "91c740fc314e4c08b4bfadefc0699fe3": {
      "model_module": "@jupyter-widgets/base",
      "model_module_version": "2.0.0",
      "model_name": "LayoutModel",
      "state": {}
     },
     "925725052eaa44b0bff8c41190030f89": {
      "model_module": "@jupyter-widgets/controls",
      "model_module_version": "2.0.0",
      "model_name": "HTMLStyleModel",
      "state": {
       "description_width": "",
       "font_size": null,
       "text_color": null
      }
     },
     "925ee174318142ed88e3e19549e20ff3": {
      "model_module": "@jupyter-widgets/controls",
      "model_module_version": "2.0.0",
      "model_name": "ProgressStyleModel",
      "state": {
       "description_width": ""
      }
     },
     "94a306ab687d4b519b2e83f56da071c2": {
      "model_module": "@jupyter-widgets/base",
      "model_module_version": "2.0.0",
      "model_name": "LayoutModel",
      "state": {}
     },
     "97e820064a4e46b0b44bc0923cc694de": {
      "model_module": "@jupyter-widgets/controls",
      "model_module_version": "2.0.0",
      "model_name": "HTMLStyleModel",
      "state": {
       "description_width": "",
       "font_size": null,
       "text_color": null
      }
     },
     "9842443120684fdea79b61b71e33a965": {
      "model_module": "@jupyter-widgets/base",
      "model_module_version": "2.0.0",
      "model_name": "LayoutModel",
      "state": {}
     },
     "98e77dae10244e4bb5cd15ed4fa7abc4": {
      "model_module": "@jupyter-widgets/controls",
      "model_module_version": "2.0.0",
      "model_name": "HBoxModel",
      "state": {
       "children": [
        "IPY_MODEL_186e8d7769df40d6844a96d7dc4a4054",
        "IPY_MODEL_686178db1536444ea2f2db6e42b9ba32",
        "IPY_MODEL_512938db0a43465f9790892af598b0f1"
       ],
       "layout": "IPY_MODEL_fa5b4a56f40c44a483a4bed659f22045"
      }
     },
     "9a3eaca1b49b41758d07002fcdd0e99a": {
      "model_module": "@jupyter-widgets/base",
      "model_module_version": "2.0.0",
      "model_name": "LayoutModel",
      "state": {}
     },
     "9a6237f0963a4be6b6e3a8eedbfa9435": {
      "model_module": "@jupyter-widgets/controls",
      "model_module_version": "2.0.0",
      "model_name": "HTMLModel",
      "state": {
       "layout": "IPY_MODEL_cce4520c4f55469cac1e4affada2bd0a",
       "style": "IPY_MODEL_925725052eaa44b0bff8c41190030f89"
      }
     },
     "9d9e01fa95ca49eab42bacd12f3f4e0f": {
      "model_module": "@jupyter-widgets/base",
      "model_module_version": "2.0.0",
      "model_name": "LayoutModel",
      "state": {}
     },
     "9e964d13e2f54ba28fb10d4c0ec1bb83": {
      "model_module": "@jupyter-widgets/base",
      "model_module_version": "2.0.0",
      "model_name": "LayoutModel",
      "state": {}
     },
     "9fad0047cc454b2a9eae083ae75478ce": {
      "model_module": "@jupyter-widgets/controls",
      "model_module_version": "2.0.0",
      "model_name": "FloatProgressModel",
      "state": {
       "bar_style": "success",
       "layout": "IPY_MODEL_3123e0772fbd4d2192b729d7b15f11c5",
       "max": 49,
       "style": "IPY_MODEL_11417b69d218472e9af119958548730d",
       "value": 49
      }
     },
     "9fc2433af0914e67a1255e123e64ab80": {
      "model_module": "@jupyter-widgets/controls",
      "model_module_version": "2.0.0",
      "model_name": "HBoxModel",
      "state": {
       "children": [
        "IPY_MODEL_436b07b6092a47929b008d5dbd8b7c16",
        "IPY_MODEL_16a993c5100d4a9bb570e4a6cd2e5bf6",
        "IPY_MODEL_563a315cf6ba4c6a9f54fa5260e08ac3"
       ],
       "layout": "IPY_MODEL_3d8d545169564ddcb869213a80ca7a0e"
      }
     },
     "a066ceaa4c6d45ca862809f80a837192": {
      "model_module": "@jupyter-widgets/controls",
      "model_module_version": "2.0.0",
      "model_name": "HTMLModel",
      "state": {
       "layout": "IPY_MODEL_1db4dd12f2374cf8bdf9d77c6082ae04",
       "style": "IPY_MODEL_792b920fd7e0476884b67339cb0ae75b",
       "value": "Evaluating: 100%"
      }
     },
     "a3a0cf75dd5f45acbb7aa559a76547e4": {
      "model_module": "@jupyter-widgets/base",
      "model_module_version": "2.0.0",
      "model_name": "LayoutModel",
      "state": {}
     },
     "a52a296a48604807b441cdc894b0996f": {
      "model_module": "@jupyter-widgets/controls",
      "model_module_version": "2.0.0",
      "model_name": "FloatProgressModel",
      "state": {
       "bar_style": "success",
       "layout": "IPY_MODEL_c0b10a14f58d421fb084758271be5098",
       "max": 49,
       "style": "IPY_MODEL_80d12ff8039848be99ec6fa6cf01e37d",
       "value": 49
      }
     },
     "a62581e686254f3294951802ae5cf4d4": {
      "model_module": "@jupyter-widgets/controls",
      "model_module_version": "2.0.0",
      "model_name": "ProgressStyleModel",
      "state": {
       "description_width": ""
      }
     },
     "a7dfbbda12c64274bc715ba2942c52a0": {
      "model_module": "@jupyter-widgets/controls",
      "model_module_version": "2.0.0",
      "model_name": "HTMLStyleModel",
      "state": {
       "description_width": "",
       "font_size": null,
       "text_color": null
      }
     },
     "a978d62f287849a092ee2ca7dbfe293e": {
      "model_module": "@jupyter-widgets/controls",
      "model_module_version": "2.0.0",
      "model_name": "HTMLStyleModel",
      "state": {
       "description_width": "",
       "font_size": null,
       "text_color": null
      }
     },
     "a9c105f274ba400fb491a53fe5907236": {
      "model_module": "@jupyter-widgets/base",
      "model_module_version": "2.0.0",
      "model_name": "LayoutModel",
      "state": {}
     },
     "aa62ee6ae69341f49b0e01ee46f13f65": {
      "model_module": "@jupyter-widgets/controls",
      "model_module_version": "2.0.0",
      "model_name": "HTMLStyleModel",
      "state": {
       "description_width": "",
       "font_size": null,
       "text_color": null
      }
     },
     "ab8d32ccf3484f598d43e0d9710085c0": {
      "model_module": "@jupyter-widgets/controls",
      "model_module_version": "2.0.0",
      "model_name": "HTMLModel",
      "state": {
       "layout": "IPY_MODEL_daaa7a2b4ab749039226574ec1d95289",
       "style": "IPY_MODEL_f2345fc748fc430cba19283708f74995",
       "value": " 49/49 [00:46&lt;00:00,  1.15it/s]"
      }
     },
     "ad8121cf9dbf49e78a0b768342f197b6": {
      "model_module": "@jupyter-widgets/controls",
      "model_module_version": "2.0.0",
      "model_name": "HBoxModel",
      "state": {
       "children": [
        "IPY_MODEL_4caba6463deb4d93a8aa1a2798341e29",
        "IPY_MODEL_55b218a2abf04e1785077b703e8b33a0",
        "IPY_MODEL_599f7a6a5e5f4d3dac7d7bd9436bb89c"
       ],
       "layout": "IPY_MODEL_1365c4292928495c8aa31bd8ca468dd5"
      }
     },
     "ae797146319344f8bb63fd06dedaf57e": {
      "model_module": "@jupyter-widgets/controls",
      "model_module_version": "2.0.0",
      "model_name": "HTMLModel",
      "state": {
       "layout": "IPY_MODEL_ed73b62f28a94f8399ce44963c43b1a0",
       "style": "IPY_MODEL_d99ccf529a3b492a81039a7ab2360bf0"
      }
     },
     "af2521491bea46348b07bfdfbeb458dd": {
      "model_module": "@jupyter-widgets/base",
      "model_module_version": "2.0.0",
      "model_name": "LayoutModel",
      "state": {}
     },
     "b0eac9e49bab45608fb1b02114f28ba4": {
      "model_module": "@jupyter-widgets/controls",
      "model_module_version": "2.0.0",
      "model_name": "FloatProgressModel",
      "state": {
       "bar_style": "success",
       "layout": "IPY_MODEL_9a3eaca1b49b41758d07002fcdd0e99a",
       "max": 49,
       "style": "IPY_MODEL_f273872850dc4cbe93142ec909e62d90",
       "value": 49
      }
     },
     "b204525d71e5474cbd53243370870365": {
      "model_module": "@jupyter-widgets/controls",
      "model_module_version": "2.0.0",
      "model_name": "ProgressStyleModel",
      "state": {
       "description_width": ""
      }
     },
     "b2ca2ce9da6b42e49e74a07175997ace": {
      "model_module": "@jupyter-widgets/controls",
      "model_module_version": "2.0.0",
      "model_name": "ProgressStyleModel",
      "state": {
       "description_width": ""
      }
     },
     "b4045def848b4b5ab5f825525373ce08": {
      "model_module": "@jupyter-widgets/controls",
      "model_module_version": "2.0.0",
      "model_name": "HBoxModel",
      "state": {
       "children": [
        "IPY_MODEL_3c53558c39ba42d6b487cf98117950b0",
        "IPY_MODEL_d542832a14274b74999a24c98b31649e",
        "IPY_MODEL_1457ed0d05fc414b9d6c4225b277e0f5"
       ],
       "layout": "IPY_MODEL_38b70f4b86ce439e88c5e2053bb23d6b"
      }
     },
     "b46f8157d8634b88a66127519c4845c9": {
      "model_module": "@jupyter-widgets/controls",
      "model_module_version": "2.0.0",
      "model_name": "HTMLStyleModel",
      "state": {
       "description_width": "",
       "font_size": null,
       "text_color": null
      }
     },
     "b511ed27f316465196be43c77c1d87d0": {
      "model_module": "@jupyter-widgets/base",
      "model_module_version": "2.0.0",
      "model_name": "LayoutModel",
      "state": {}
     },
     "b5d21481416145099b592fe733a55780": {
      "model_module": "@jupyter-widgets/controls",
      "model_module_version": "2.0.0",
      "model_name": "FloatProgressModel",
      "state": {
       "bar_style": "success",
       "layout": "IPY_MODEL_4a21dc2019e64e6caddf68f5527ed7b2",
       "max": 49,
       "style": "IPY_MODEL_5ab86c2991a84b1299248991c8da82f5",
       "value": 49
      }
     },
     "b723336d52154e7d9df130f549a1f355": {
      "model_module": "@jupyter-widgets/controls",
      "model_module_version": "2.0.0",
      "model_name": "FloatProgressModel",
      "state": {
       "bar_style": "success",
       "layout": "IPY_MODEL_66ac46df224247ac9f584de7c2fc03f4",
       "max": 1,
       "style": "IPY_MODEL_1bb1bfb9e932433cbaa06869f5c06f56",
       "value": 1
      }
     },
     "b8cc5e6e714742f593d1e12bb092be63": {
      "model_module": "@jupyter-widgets/base",
      "model_module_version": "2.0.0",
      "model_name": "LayoutModel",
      "state": {}
     },
     "ba8ea7a51bc240918a9180c4e9c965fb": {
      "model_module": "@jupyter-widgets/controls",
      "model_module_version": "2.0.0",
      "model_name": "ProgressStyleModel",
      "state": {
       "description_width": ""
      }
     },
     "bcc5cd8de06540fe9fa17b1e4c4d37c3": {
      "model_module": "@jupyter-widgets/controls",
      "model_module_version": "2.0.0",
      "model_name": "ProgressStyleModel",
      "state": {
       "description_width": ""
      }
     },
     "bcce8c3f02a8488b8a6da48fe5d45bcf": {
      "model_module": "@jupyter-widgets/base",
      "model_module_version": "2.0.0",
      "model_name": "LayoutModel",
      "state": {}
     },
     "bd2748bc04fe4532ae9df997228cd13f": {
      "model_module": "@jupyter-widgets/controls",
      "model_module_version": "2.0.0",
      "model_name": "ProgressStyleModel",
      "state": {
       "description_width": ""
      }
     },
     "bd9775194dae4b788dfa2378884515f6": {
      "model_module": "@jupyter-widgets/base",
      "model_module_version": "2.0.0",
      "model_name": "LayoutModel",
      "state": {}
     },
     "bdcc6a98052f48e4889ee9f6240d99c5": {
      "model_module": "@jupyter-widgets/controls",
      "model_module_version": "2.0.0",
      "model_name": "FloatProgressModel",
      "state": {
       "bar_style": "success",
       "layout": "IPY_MODEL_83ab4e7ee7da4c298d390fff9568aebd",
       "max": 49,
       "style": "IPY_MODEL_b204525d71e5474cbd53243370870365",
       "value": 49
      }
     },
     "c0439368c9f642e584e14bd5b9daef9b": {
      "model_module": "@jupyter-widgets/controls",
      "model_module_version": "2.0.0",
      "model_name": "HTMLStyleModel",
      "state": {
       "description_width": "",
       "font_size": null,
       "text_color": null
      }
     },
     "c0ae1a6d975f4805b71824725db47eab": {
      "model_module": "@jupyter-widgets/base",
      "model_module_version": "2.0.0",
      "model_name": "LayoutModel",
      "state": {}
     },
     "c0b10a14f58d421fb084758271be5098": {
      "model_module": "@jupyter-widgets/base",
      "model_module_version": "2.0.0",
      "model_name": "LayoutModel",
      "state": {}
     },
     "c0d915bcde934d3d8994cd883b0bb9c5": {
      "model_module": "@jupyter-widgets/controls",
      "model_module_version": "2.0.0",
      "model_name": "HTMLStyleModel",
      "state": {
       "description_width": "",
       "font_size": null,
       "text_color": null
      }
     },
     "c1c9fe2b3cda4256af411bc8ed101733": {
      "model_module": "@jupyter-widgets/base",
      "model_module_version": "2.0.0",
      "model_name": "LayoutModel",
      "state": {}
     },
     "c218053dd43e4a04b72d6c8257676934": {
      "model_module": "@jupyter-widgets/controls",
      "model_module_version": "2.0.0",
      "model_name": "HTMLModel",
      "state": {
       "layout": "IPY_MODEL_08bb5aca7b1d4e90845b81b17c4027c0",
       "style": "IPY_MODEL_740382b22e114ae6b99935bf6ea946ef",
       "value": " 49/49 [00:36&lt;00:00,  1.72it/s]"
      }
     },
     "c2bcb0d1840a45c0bbc3f64c0d4762eb": {
      "model_module": "@jupyter-widgets/controls",
      "model_module_version": "2.0.0",
      "model_name": "HTMLStyleModel",
      "state": {
       "description_width": "",
       "font_size": null,
       "text_color": null
      }
     },
     "c33527985afd4f0e957fc3a054ad6589": {
      "model_module": "@jupyter-widgets/controls",
      "model_module_version": "2.0.0",
      "model_name": "HTMLModel",
      "state": {
       "layout": "IPY_MODEL_213770975cb648608505184f5104c3a0",
       "style": "IPY_MODEL_c0d915bcde934d3d8994cd883b0bb9c5",
       "value": "Evaluating: 100%"
      }
     },
     "c4f89d609fd7429a99bca7e2cee31965": {
      "model_module": "@jupyter-widgets/base",
      "model_module_version": "2.0.0",
      "model_name": "LayoutModel",
      "state": {}
     },
     "c7d3844789e0460d9aa79eedc60758f2": {
      "model_module": "@jupyter-widgets/controls",
      "model_module_version": "2.0.0",
      "model_name": "HTMLStyleModel",
      "state": {
       "description_width": "",
       "font_size": null,
       "text_color": null
      }
     },
     "c8b8d2e072444b3a9645cc9d7596093d": {
      "model_module": "@jupyter-widgets/controls",
      "model_module_version": "2.0.0",
      "model_name": "HTMLModel",
      "state": {
       "layout": "IPY_MODEL_242dbb617f644f84845a44e96076fb0f",
       "style": "IPY_MODEL_aa62ee6ae69341f49b0e01ee46f13f65",
       "value": " 121/? [09:35&lt;00:00, 16.46s/it]"
      }
     },
     "cc9b5d9f5ec14b45ad321dbe4454525a": {
      "model_module": "@jupyter-widgets/controls",
      "model_module_version": "2.0.0",
      "model_name": "HTMLModel",
      "state": {
       "layout": "IPY_MODEL_21969f1dca9749c1afc4b7cc27051901",
       "style": "IPY_MODEL_6a71735e0c6b4883a3b6a755e62f7515",
       "value": " 49/49 [00:53&lt;00:00,  1.20it/s]"
      }
     },
     "cce4520c4f55469cac1e4affada2bd0a": {
      "model_module": "@jupyter-widgets/base",
      "model_module_version": "2.0.0",
      "model_name": "LayoutModel",
      "state": {}
     },
     "cf66769add644efe94f41d7cf114dd9c": {
      "model_module": "@jupyter-widgets/controls",
      "model_module_version": "2.0.0",
      "model_name": "FloatProgressModel",
      "state": {
       "bar_style": "success",
       "layout": "IPY_MODEL_43d72e38ec234b62ba7e1fe147774f6b",
       "max": 49,
       "style": "IPY_MODEL_bcc5cd8de06540fe9fa17b1e4c4d37c3",
       "value": 49
      }
     },
     "d0e5ef7dbbb947c8a81f16a92d066c3b": {
      "model_module": "@jupyter-widgets/base",
      "model_module_version": "2.0.0",
      "model_name": "LayoutModel",
      "state": {}
     },
     "d3295c2b6fd84cf4b62cd31938ea4b02": {
      "model_module": "@jupyter-widgets/controls",
      "model_module_version": "2.0.0",
      "model_name": "HTMLModel",
      "state": {
       "layout": "IPY_MODEL_49f3501f58504191a9db16921fc6a757",
       "style": "IPY_MODEL_62645fcfb82547a1b42618636bd968ba",
       "value": "Evaluating: 100%"
      }
     },
     "d3509ae5b79e430dbb5b2ed2a41b384e": {
      "model_module": "@jupyter-widgets/controls",
      "model_module_version": "2.0.0",
      "model_name": "HTMLStyleModel",
      "state": {
       "description_width": "",
       "font_size": null,
       "text_color": null
      }
     },
     "d416650aff3b472da7ad3f9c3e52a328": {
      "model_module": "@jupyter-widgets/controls",
      "model_module_version": "2.0.0",
      "model_name": "HTMLModel",
      "state": {
       "layout": "IPY_MODEL_0c3db658b4f94101a3a8bc1332982c76",
       "style": "IPY_MODEL_08e40642faf7404a91f196188815485a",
       "value": "Evaluating: 100%"
      }
     },
     "d483d6761a064fddb72044e2ac670492": {
      "model_module": "@jupyter-widgets/controls",
      "model_module_version": "2.0.0",
      "model_name": "HTMLModel",
      "state": {
       "layout": "IPY_MODEL_af2521491bea46348b07bfdfbeb458dd",
       "style": "IPY_MODEL_300ed0e0284846f199a67e071f40bd30",
       "value": " 121/? [10:50&lt;00:00, 16.86s/it]"
      }
     },
     "d542832a14274b74999a24c98b31649e": {
      "model_module": "@jupyter-widgets/controls",
      "model_module_version": "2.0.0",
      "model_name": "FloatProgressModel",
      "state": {
       "bar_style": "success",
       "layout": "IPY_MODEL_6cf9ac2f1cdc431cb239b01b5d8dac11",
       "max": 49,
       "style": "IPY_MODEL_477a4b1cad2347d68d1d2e26e993d4b7",
       "value": 49
      }
     },
     "d5ab9be4e00a4b4198622df1f142dcfe": {
      "model_module": "@jupyter-widgets/base",
      "model_module_version": "2.0.0",
      "model_name": "LayoutModel",
      "state": {}
     },
     "d5e31af353c640119cf42122b5677b2e": {
      "model_module": "@jupyter-widgets/controls",
      "model_module_version": "2.0.0",
      "model_name": "HTMLModel",
      "state": {
       "layout": "IPY_MODEL_3d9a9853f6d846b2b01aeff5a6be46c6",
       "style": "IPY_MODEL_38cf0090caf14fe68bef4a8827bff535",
       "value": "Evaluating: 100%"
      }
     },
     "d99ccf529a3b492a81039a7ab2360bf0": {
      "model_module": "@jupyter-widgets/controls",
      "model_module_version": "2.0.0",
      "model_name": "HTMLStyleModel",
      "state": {
       "description_width": "",
       "font_size": null,
       "text_color": null
      }
     },
     "daaa7a2b4ab749039226574ec1d95289": {
      "model_module": "@jupyter-widgets/base",
      "model_module_version": "2.0.0",
      "model_name": "LayoutModel",
      "state": {}
     },
     "dc920a7a32904dbeacad2b0b8adf79f6": {
      "model_module": "@jupyter-widgets/base",
      "model_module_version": "2.0.0",
      "model_name": "LayoutModel",
      "state": {}
     },
     "ded689e24db7436693ad8377435e2cf1": {
      "model_module": "@jupyter-widgets/controls",
      "model_module_version": "2.0.0",
      "model_name": "HTMLStyleModel",
      "state": {
       "description_width": "",
       "font_size": null,
       "text_color": null
      }
     },
     "df898da877a64af09e8b5aee321fabab": {
      "model_module": "@jupyter-widgets/base",
      "model_module_version": "2.0.0",
      "model_name": "LayoutModel",
      "state": {}
     },
     "e06aa1547d2c466683a2e9d5475fe11c": {
      "model_module": "@jupyter-widgets/controls",
      "model_module_version": "2.0.0",
      "model_name": "FloatProgressModel",
      "state": {
       "bar_style": "danger",
       "layout": "IPY_MODEL_19237ae3f85e4fc6bfa52e012106bf9c",
       "max": 1,
       "style": "IPY_MODEL_ba8ea7a51bc240918a9180c4e9c965fb",
       "value": 1
      }
     },
     "e0afe38d8eff4c8e8c6a10811882a3f9": {
      "model_module": "@jupyter-widgets/base",
      "model_module_version": "2.0.0",
      "model_name": "LayoutModel",
      "state": {}
     },
     "e0c518ad73dc44919992ec21fc4dd88a": {
      "model_module": "@jupyter-widgets/controls",
      "model_module_version": "2.0.0",
      "model_name": "HBoxModel",
      "state": {
       "children": [
        "IPY_MODEL_d5e31af353c640119cf42122b5677b2e",
        "IPY_MODEL_cf66769add644efe94f41d7cf114dd9c",
        "IPY_MODEL_ed737b0d024b4dadbd3aa92458fd473c"
       ],
       "layout": "IPY_MODEL_81b51f2f23f84e0280b05ecdbe959c77"
      }
     },
     "e2dcb89a766e4fbf88e9e605ea8e681b": {
      "model_module": "@jupyter-widgets/base",
      "model_module_version": "2.0.0",
      "model_name": "LayoutModel",
      "state": {}
     },
     "e39914fb98484d97a1fc1be66a81e378": {
      "model_module": "@jupyter-widgets/controls",
      "model_module_version": "2.0.0",
      "model_name": "HTMLModel",
      "state": {
       "layout": "IPY_MODEL_d5ab9be4e00a4b4198622df1f142dcfe",
       "style": "IPY_MODEL_fc76eced61e24bfbbdbd4aaa54baac77",
       "value": " 49/49 [00:46&lt;00:00,  1.16it/s]"
      }
     },
     "e5639fb2a8754d31b83791ef4743197d": {
      "model_module": "@jupyter-widgets/base",
      "model_module_version": "2.0.0",
      "model_name": "LayoutModel",
      "state": {}
     },
     "e974b88c267048aeb3bcfb0d57594173": {
      "model_module": "@jupyter-widgets/controls",
      "model_module_version": "2.0.0",
      "model_name": "HTMLStyleModel",
      "state": {
       "description_width": "",
       "font_size": null,
       "text_color": null
      }
     },
     "e9e33f824d2d44dea952b4a377eb0b1d": {
      "model_module": "@jupyter-widgets/controls",
      "model_module_version": "2.0.0",
      "model_name": "ProgressStyleModel",
      "state": {
       "description_width": ""
      }
     },
     "e9f3d681499a440ebadccca78d099f0d": {
      "model_module": "@jupyter-widgets/base",
      "model_module_version": "2.0.0",
      "model_name": "LayoutModel",
      "state": {
       "width": "20px"
      }
     },
     "eb0342368101484bb2ad838558e54396": {
      "model_module": "@jupyter-widgets/controls",
      "model_module_version": "2.0.0",
      "model_name": "HTMLStyleModel",
      "state": {
       "description_width": "",
       "font_size": null,
       "text_color": null
      }
     },
     "eb871494d9f7437f92b6329e8d6d770a": {
      "model_module": "@jupyter-widgets/base",
      "model_module_version": "2.0.0",
      "model_name": "LayoutModel",
      "state": {}
     },
     "ebd3a8b4f5214c1f8bf6cc61adfc671c": {
      "model_module": "@jupyter-widgets/controls",
      "model_module_version": "2.0.0",
      "model_name": "HTMLModel",
      "state": {
       "layout": "IPY_MODEL_3cfe7b2d946f49358cbdfdc259b408cf",
       "style": "IPY_MODEL_907084fac56d46108c1521fe9a00dcab",
       "value": "Evaluating: 100%"
      }
     },
     "ed53610a46f14e8bbad2be275ff0bbc8": {
      "model_module": "@jupyter-widgets/base",
      "model_module_version": "2.0.0",
      "model_name": "LayoutModel",
      "state": {}
     },
     "ed737b0d024b4dadbd3aa92458fd473c": {
      "model_module": "@jupyter-widgets/controls",
      "model_module_version": "2.0.0",
      "model_name": "HTMLModel",
      "state": {
       "layout": "IPY_MODEL_0069b88b6fe14f649ce5eb7a9fa4d540",
       "style": "IPY_MODEL_1460ff2d5c7849ecafb1b8c277471084",
       "value": " 49/49 [00:12&lt;00:00,  4.53it/s]"
      }
     },
     "ed73b62f28a94f8399ce44963c43b1a0": {
      "model_module": "@jupyter-widgets/base",
      "model_module_version": "2.0.0",
      "model_name": "LayoutModel",
      "state": {}
     },
     "f0971e6d934b4311964f43f3bb1e7ef0": {
      "model_module": "@jupyter-widgets/controls",
      "model_module_version": "2.0.0",
      "model_name": "HTMLModel",
      "state": {
       "layout": "IPY_MODEL_24587398c0084b56a84e410c1fda81aa",
       "style": "IPY_MODEL_6227fe5427ef40518f2f2fbcb6f171e1",
       "value": " 49/49 [00:12&lt;00:00,  4.51it/s]"
      }
     },
     "f0e60cb342bf4253a4e0957c9b4f6e33": {
      "model_module": "@jupyter-widgets/controls",
      "model_module_version": "2.0.0",
      "model_name": "HBoxModel",
      "state": {
       "children": [
        "IPY_MODEL_d3295c2b6fd84cf4b62cd31938ea4b02",
        "IPY_MODEL_5cd9a71f6ef94b0ca854aa213324ef79",
        "IPY_MODEL_e39914fb98484d97a1fc1be66a81e378"
       ],
       "layout": "IPY_MODEL_eb871494d9f7437f92b6329e8d6d770a"
      }
     },
     "f2345fc748fc430cba19283708f74995": {
      "model_module": "@jupyter-widgets/controls",
      "model_module_version": "2.0.0",
      "model_name": "HTMLStyleModel",
      "state": {
       "description_width": "",
       "font_size": null,
       "text_color": null
      }
     },
     "f273872850dc4cbe93142ec909e62d90": {
      "model_module": "@jupyter-widgets/controls",
      "model_module_version": "2.0.0",
      "model_name": "ProgressStyleModel",
      "state": {
       "description_width": ""
      }
     },
     "f2fea46434fe4e8f818218cc2444b5b6": {
      "model_module": "@jupyter-widgets/controls",
      "model_module_version": "2.0.0",
      "model_name": "HTMLStyleModel",
      "state": {
       "description_width": "",
       "font_size": null,
       "text_color": null
      }
     },
     "f3653e00ac6f4fd0829ffcbef4f442fe": {
      "model_module": "@jupyter-widgets/base",
      "model_module_version": "2.0.0",
      "model_name": "LayoutModel",
      "state": {}
     },
     "f7b30d60f4a8490eb33d55e430e81c35": {
      "model_module": "@jupyter-widgets/base",
      "model_module_version": "2.0.0",
      "model_name": "LayoutModel",
      "state": {}
     },
     "f8397460f80345dd8b44b93e82e4c473": {
      "model_module": "@jupyter-widgets/controls",
      "model_module_version": "2.0.0",
      "model_name": "HTMLModel",
      "state": {
       "layout": "IPY_MODEL_e2dcb89a766e4fbf88e9e605ea8e681b",
       "style": "IPY_MODEL_791c5f40b25b4534960a745b24134bca",
       "value": " 49/49 [00:34&lt;00:00,  1.58it/s]"
      }
     },
     "f91b83d11fc747648dae168c3563357b": {
      "model_module": "@jupyter-widgets/base",
      "model_module_version": "2.0.0",
      "model_name": "LayoutModel",
      "state": {}
     },
     "f92364a424fe4fb8ac2c39d19bc1b2a0": {
      "model_module": "@jupyter-widgets/controls",
      "model_module_version": "2.0.0",
      "model_name": "HTMLModel",
      "state": {
       "layout": "IPY_MODEL_c0ae1a6d975f4805b71824725db47eab",
       "style": "IPY_MODEL_ded689e24db7436693ad8377435e2cf1",
       "value": " 49/49 [00:12&lt;00:00,  4.51it/s]"
      }
     },
     "fa5b4a56f40c44a483a4bed659f22045": {
      "model_module": "@jupyter-widgets/base",
      "model_module_version": "2.0.0",
      "model_name": "LayoutModel",
      "state": {}
     },
     "fa5ce870cb47420abcfac57c16462543": {
      "model_module": "@jupyter-widgets/base",
      "model_module_version": "2.0.0",
      "model_name": "LayoutModel",
      "state": {}
     },
     "fb0a8923b98a4b0491ed25c3cc18e3a9": {
      "model_module": "@jupyter-widgets/base",
      "model_module_version": "2.0.0",
      "model_name": "LayoutModel",
      "state": {}
     },
     "fbdbab5d681a4079970ca1beb89ab673": {
      "model_module": "@jupyter-widgets/controls",
      "model_module_version": "2.0.0",
      "model_name": "HBoxModel",
      "state": {
       "children": [
        "IPY_MODEL_0e45445bfadc4a2c9df2d37fff3657fe",
        "IPY_MODEL_b0eac9e49bab45608fb1b02114f28ba4",
        "IPY_MODEL_c218053dd43e4a04b72d6c8257676934"
       ],
       "layout": "IPY_MODEL_265a95da9af04aa3accfb1490890b508"
      }
     },
     "fbdf910bd8e9449d857a3d179112f505": {
      "model_module": "@jupyter-widgets/controls",
      "model_module_version": "2.0.0",
      "model_name": "ProgressStyleModel",
      "state": {
       "description_width": ""
      }
     },
     "fbf3ca21aaae4cecb83c07b66454ae6c": {
      "model_module": "@jupyter-widgets/base",
      "model_module_version": "2.0.0",
      "model_name": "LayoutModel",
      "state": {}
     },
     "fc499a1caf9543c7ac0293e1ef92e0b2": {
      "model_module": "@jupyter-widgets/controls",
      "model_module_version": "2.0.0",
      "model_name": "HTMLModel",
      "state": {
       "layout": "IPY_MODEL_a3a0cf75dd5f45acbb7aa559a76547e4",
       "style": "IPY_MODEL_a978d62f287849a092ee2ca7dbfe293e",
       "value": " 49/49 [01:07&lt;00:00,  1.09s/it]"
      }
     },
     "fc76eced61e24bfbbdbd4aaa54baac77": {
      "model_module": "@jupyter-widgets/controls",
      "model_module_version": "2.0.0",
      "model_name": "HTMLStyleModel",
      "state": {
       "description_width": "",
       "font_size": null,
       "text_color": null
      }
     },
     "ff3c792a9f0544669ba4904e9d26eb1c": {
      "model_module": "@jupyter-widgets/base",
      "model_module_version": "2.0.0",
      "model_name": "LayoutModel",
      "state": {}
     }
    },
    "version_major": 2,
    "version_minor": 0
   }
  }
 },
 "nbformat": 4,
 "nbformat_minor": 4
}
